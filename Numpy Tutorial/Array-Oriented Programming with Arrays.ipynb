{
 "cells": [
  {
   "cell_type": "markdown",
   "metadata": {},
   "source": [
    "<b>Replace of explicit loops with array expresssions is commonly reffered to as Vectorization</b>"
   ]
  },
  {
   "cell_type": "code",
   "execution_count": 94,
   "metadata": {},
   "outputs": [],
   "source": [
    "import numpy as np\n",
    "import random"
   ]
  },
  {
   "cell_type": "markdown",
   "metadata": {},
   "source": [
    "<b>File Input and Output with Arrays</b>"
   ]
  },
  {
   "cell_type": "code",
   "execution_count": 95,
   "metadata": {},
   "outputs": [],
   "source": [
    "arr_10=np.random.randn(10)\n",
    "# saving to disk, file saves with xtension .npy\n",
    "np.save(\"mytestarray\",arr_10)"
   ]
  },
  {
   "cell_type": "code",
   "execution_count": 96,
   "metadata": {},
   "outputs": [
    {
     "data": {
      "text/plain": [
       "array([-0.39641792,  0.50568473, -0.39960942,  1.15660606,  1.90050887,\n",
       "        1.21618915,  0.48724002, -2.29346594,  0.72064356,  1.29457439])"
      ]
     },
     "execution_count": 96,
     "metadata": {},
     "output_type": "execute_result"
    }
   ],
   "source": [
    "np.load(\"mytestarray.npy\")"
   ]
  },
  {
   "cell_type": "code",
   "execution_count": 97,
   "metadata": {},
   "outputs": [],
   "source": [
    "#Saving and Loading big Array\n",
    "big_array=np.random.randn(200000,50)\n",
    "np.save(\"big_arrays\",big_array)\n"
   ]
  },
  {
   "cell_type": "code",
   "execution_count": 98,
   "metadata": {},
   "outputs": [
    {
     "data": {
      "text/plain": [
       "array([[-0.56873094,  1.06209377, -0.05546778, ...,  0.75892787,\n",
       "         0.485466  ,  0.1744737 ],\n",
       "       [ 0.31329445, -1.18449862,  1.09019339, ...,  0.4242234 ,\n",
       "         1.52799482,  2.03831482],\n",
       "       [-0.4228519 , -0.5798348 , -0.32855615, ...,  0.66600884,\n",
       "        -0.00847715,  0.55328375],\n",
       "       ...,\n",
       "       [ 1.46313337,  1.07484036,  3.19822479, ...,  1.67483267,\n",
       "        -0.12637833,  1.03642021],\n",
       "       [ 0.08751938,  0.48447139, -1.99068407, ..., -1.12783349,\n",
       "        -0.54159282,  1.31629161],\n",
       "       [-1.50459118, -0.0896333 , -0.46461056, ..., -0.33646083,\n",
       "         1.18048831, -3.2650073 ]])"
      ]
     },
     "execution_count": 98,
     "metadata": {},
     "output_type": "execute_result"
    }
   ],
   "source": [
    "#Loading Big data was super fast\n",
    "np.load(\"big_arrays.npy\")"
   ]
  },
  {
   "cell_type": "markdown",
   "metadata": {},
   "source": [
    "<b> SAVING/ARCHIVING MULTIPLE AND LARGE ARRAYS AND RETRIEVING</b>"
   ]
  },
  {
   "cell_type": "code",
   "execution_count": 99,
   "metadata": {},
   "outputs": [],
   "source": [
    "big_array1=np.random.randn(200000,50)\n",
    "big_array2=np.random.randn(200000,50)"
   ]
  },
  {
   "cell_type": "markdown",
   "metadata": {},
   "source": [
    "<b>Archive Large DataSet and Compressing</b>"
   ]
  },
  {
   "cell_type": "code",
   "execution_count": 100,
   "metadata": {},
   "outputs": [],
   "source": [
    "np.savez('array_archive.npz',a=big_array1,b=big_array2)  # Data size archive =>160MB"
   ]
  },
  {
   "cell_type": "code",
   "execution_count": 101,
   "metadata": {},
   "outputs": [],
   "source": [
    "#Saving and Compressing the data for memory efficiency, # Data size archive =>154MB\n",
    "np.savez_compressed('arrays_compressed.npz', a=big_array1,b=big_array2)"
   ]
  },
  {
   "cell_type": "code",
   "execution_count": 102,
   "metadata": {},
   "outputs": [],
   "source": [
    "#Loading Data\n",
    "data_retrieve=np.load('array_archive.npz')"
   ]
  },
  {
   "cell_type": "code",
   "execution_count": 103,
   "metadata": {},
   "outputs": [
    {
     "data": {
      "text/plain": [
       "array([[ 0.38577554, -2.41825206, -0.14375183, ..., -0.22954232,\n",
       "        -2.02184934, -1.39329084],\n",
       "       [ 0.36683976,  0.19105647,  0.82758022, ...,  0.02148178,\n",
       "        -1.18025757, -0.02382288],\n",
       "       [-0.07837319,  0.04817798, -0.44488759, ...,  0.45795684,\n",
       "        -1.66173417,  1.56003616],\n",
       "       ...,\n",
       "       [ 1.28130983, -0.39817957,  0.64637852, ...,  0.27306253,\n",
       "         0.17712939, -1.38747435],\n",
       "       [-1.154973  ,  0.69192153,  2.31204573, ..., -2.29557196,\n",
       "        -1.37683887,  0.90508909],\n",
       "       [-1.44155519,  0.52733571,  1.04232551, ..., -0.20686721,\n",
       "        -0.78478279, -0.16703634]])"
      ]
     },
     "execution_count": 103,
     "metadata": {},
     "output_type": "execute_result"
    }
   ],
   "source": [
    "#Access on of the data archived\n",
    "data_retrieve['a']"
   ]
  },
  {
   "cell_type": "code",
   "execution_count": 104,
   "metadata": {},
   "outputs": [
    {
     "data": {
      "text/plain": [
       "array([[ 0.77709719,  0.44290565, -2.27339837, ..., -1.36253283,\n",
       "        -0.22312597,  0.90670967],\n",
       "       [ 0.29611549,  0.4413955 , -0.50942514, ...,  1.32589783,\n",
       "        -1.17973155, -0.74260822],\n",
       "       [ 0.71658359,  0.0338557 , -0.84507075, ..., -1.13713344,\n",
       "        -1.3123812 ,  0.78800898],\n",
       "       ...,\n",
       "       [ 0.80230377, -1.66059719, -0.41727424, ..., -2.04872667,\n",
       "        -0.30879314,  0.99793698],\n",
       "       [-0.5358248 , -0.44923145,  1.06384085, ..., -0.6836259 ,\n",
       "        -0.61096938,  0.46662921],\n",
       "       [-0.47264901, -0.82704516, -1.99993845, ..., -1.22750858,\n",
       "        -1.06331106,  0.45529447]])"
      ]
     },
     "execution_count": 104,
     "metadata": {},
     "output_type": "execute_result"
    }
   ],
   "source": [
    "#Access on of the data archived\n",
    "data_retrieve['b']"
   ]
  },
  {
   "cell_type": "code",
   "execution_count": 105,
   "metadata": {},
   "outputs": [
    {
     "data": {
      "text/plain": [
       "[0, 1, 4, 9, 16]"
      ]
     },
     "execution_count": 105,
     "metadata": {},
     "output_type": "execute_result"
    }
   ],
   "source": [
    "x=[y**2 for y in range(5)]\n",
    "x"
   ]
  },
  {
   "cell_type": "code",
   "execution_count": 106,
   "metadata": {},
   "outputs": [
    {
     "data": {
      "text/plain": [
       "[0.6402826165669414,\n",
       " 0.29538000840145995,\n",
       " 0.04911633268126936,\n",
       " 0.391134248949837,\n",
       " 0.48605125362349544]"
      ]
     },
     "execution_count": 106,
     "metadata": {},
     "output_type": "execute_result"
    }
   ],
   "source": [
    "y=[]\n",
    "for i in range(5):\n",
    "    i=random.random()\n",
    "    y.append(i**2)\n",
    "y"
   ]
  },
  {
   "cell_type": "code",
   "execution_count": 107,
   "metadata": {},
   "outputs": [
    {
     "data": {
      "text/plain": [
       "array([0.14191716, 1.64007996, 2.09453129, 3.00618233, 4.02121484])"
      ]
     },
     "execution_count": 107,
     "metadata": {},
     "output_type": "execute_result"
    }
   ],
   "source": [
    "#Vectorized array expressions has replaced the for loop\n",
    "arr=np.arange(5)\n",
    "arr1=np.random.randn(5)\n",
    "np.sqrt(arr**2+arr1**2)"
   ]
  },
  {
   "cell_type": "markdown",
   "metadata": {},
   "source": [
    "<b>np.meshgrid function takes two 1D arrays and produces 2D matrices corresponding to all pairs of(x,y) in the two arrays</b>"
   ]
  },
  {
   "cell_type": "code",
   "execution_count": 108,
   "metadata": {},
   "outputs": [],
   "source": [
    "points=np.arange(-5,5,0.01)"
   ]
  },
  {
   "cell_type": "code",
   "execution_count": 109,
   "metadata": {},
   "outputs": [],
   "source": [
    "x,y=np.meshgrid(points,points) # 1000 equally spaced points"
   ]
  },
  {
   "cell_type": "code",
   "execution_count": 110,
   "metadata": {},
   "outputs": [
    {
     "data": {
      "text/plain": [
       "array([[-5.  , -4.99, -4.98, ...,  4.97,  4.98,  4.99],\n",
       "       [-5.  , -4.99, -4.98, ...,  4.97,  4.98,  4.99],\n",
       "       [-5.  , -4.99, -4.98, ...,  4.97,  4.98,  4.99],\n",
       "       ...,\n",
       "       [-5.  , -4.99, -4.98, ...,  4.97,  4.98,  4.99],\n",
       "       [-5.  , -4.99, -4.98, ...,  4.97,  4.98,  4.99],\n",
       "       [-5.  , -4.99, -4.98, ...,  4.97,  4.98,  4.99]])"
      ]
     },
     "execution_count": 110,
     "metadata": {},
     "output_type": "execute_result"
    }
   ],
   "source": [
    "x"
   ]
  },
  {
   "cell_type": "code",
   "execution_count": 111,
   "metadata": {},
   "outputs": [
    {
     "data": {
      "text/plain": [
       "array([[-5.  , -5.  , -5.  , ..., -5.  , -5.  , -5.  ],\n",
       "       [-4.99, -4.99, -4.99, ..., -4.99, -4.99, -4.99],\n",
       "       [-4.98, -4.98, -4.98, ..., -4.98, -4.98, -4.98],\n",
       "       ...,\n",
       "       [ 4.97,  4.97,  4.97, ...,  4.97,  4.97,  4.97],\n",
       "       [ 4.98,  4.98,  4.98, ...,  4.98,  4.98,  4.98],\n",
       "       [ 4.99,  4.99,  4.99, ...,  4.99,  4.99,  4.99]])"
      ]
     },
     "execution_count": 111,
     "metadata": {},
     "output_type": "execute_result"
    }
   ],
   "source": [
    "y"
   ]
  },
  {
   "cell_type": "code",
   "execution_count": 112,
   "metadata": {},
   "outputs": [
    {
     "data": {
      "text/plain": [
       "(1000, 1000)"
      ]
     },
     "execution_count": 112,
     "metadata": {},
     "output_type": "execute_result"
    }
   ],
   "source": [
    "y.shape"
   ]
  },
  {
   "cell_type": "code",
   "execution_count": 113,
   "metadata": {},
   "outputs": [
    {
     "data": {
      "text/plain": [
       "array([[7.07106781, 7.06400028, 7.05693985, ..., 7.04988652, 7.05693985,\n",
       "        7.06400028],\n",
       "       [7.06400028, 7.05692568, 7.04985815, ..., 7.04279774, 7.04985815,\n",
       "        7.05692568],\n",
       "       [7.05693985, 7.04985815, 7.04278354, ..., 7.03571603, 7.04278354,\n",
       "        7.04985815],\n",
       "       ...,\n",
       "       [7.04988652, 7.04279774, 7.03571603, ..., 7.0286414 , 7.03571603,\n",
       "        7.04279774],\n",
       "       [7.05693985, 7.04985815, 7.04278354, ..., 7.03571603, 7.04278354,\n",
       "        7.04985815],\n",
       "       [7.06400028, 7.05692568, 7.04985815, ..., 7.04279774, 7.04985815,\n",
       "        7.05692568]])"
      ]
     },
     "execution_count": 113,
     "metadata": {},
     "output_type": "execute_result"
    }
   ],
   "source": [
    "z=np.sqrt(x**2+y**2)\n",
    "z"
   ]
  },
  {
   "cell_type": "code",
   "execution_count": 114,
   "metadata": {},
   "outputs": [],
   "source": [
    "import matplotlib.pyplot as plt"
   ]
  },
  {
   "cell_type": "code",
   "execution_count": 115,
   "metadata": {},
   "outputs": [
    {
     "data": {
      "text/plain": [
       "<matplotlib.colorbar.Colorbar at 0x284a33ce208>"
      ]
     },
     "execution_count": 115,
     "metadata": {},
     "output_type": "execute_result"
    },
    {
     "data": {
      "image/png": "[encoded data removed]",
      "text/plain": [
       "<Figure size 432x288 with 2 Axes>"
      ]
     },
     "metadata": {
      "needs_background": "light"
     },
     "output_type": "display_data"
    }
   ],
   "source": [
    "plt.imshow(z,cmap=plt.cm.gray);plt.colorbar()"
   ]
  },
  {
   "cell_type": "markdown",
   "metadata": {},
   "source": [
    "<b>Expression Conditional Logic as Array Operations</b>"
   ]
  },
  {
   "cell_type": "markdown",
   "metadata": {},
   "source": [
    "<b>The np.where function is a vectorized version of the Ternary expression x if condition else y</b>"
   ]
  },
  {
   "cell_type": "code",
   "execution_count": 116,
   "metadata": {},
   "outputs": [],
   "source": [
    "xarr = np.array([1.1, 1.2, 1.3, 1.4, 1.5])\n",
    "yarr = np.array([2.1, 2.2, 2.3, 2.4, 2.5])\n",
    "cond = np.array([True, False, True, True, False])"
   ]
  },
  {
   "cell_type": "code",
   "execution_count": 117,
   "metadata": {},
   "outputs": [
    {
     "data": {
      "text/plain": [
       "[1.1, 2.2, 1.3, 1.4, 2.5]"
      ]
     },
     "execution_count": 117,
     "metadata": {},
     "output_type": "execute_result"
    }
   ],
   "source": [
    "result = [(x if c else y) for x, y, c in zip(xarr, yarr, cond)]\n",
    "result"
   ]
  },
  {
   "cell_type": "code",
   "execution_count": 118,
   "metadata": {},
   "outputs": [
    {
     "data": {
      "text/plain": [
       "array([1.1, 2.2, 1.3, 1.4, 2.5])"
      ]
     },
     "execution_count": 118,
     "metadata": {},
     "output_type": "execute_result"
    }
   ],
   "source": [
    "#Vectorized version of Ternary Operations\n",
    "result = np.where(cond, xarr, yarr)\n",
    "result"
   ]
  },
  {
   "cell_type": "markdown",
   "metadata": {},
   "source": [
    "<b>Apply ternary to a ndarray</b>"
   ]
  },
  {
   "cell_type": "code",
   "execution_count": 119,
   "metadata": {},
   "outputs": [
    {
     "data": {
      "text/plain": [
       "array([[-0.02264456,  0.16360578, -0.25612788, -0.51158734],\n",
       "       [-1.06677508,  0.2301136 ,  1.5518877 ,  1.05243418],\n",
       "       [-0.99632444, -1.63109282,  0.37147685,  1.15636901],\n",
       "       [-0.52565384,  0.98127322,  0.57162012, -0.0773072 ]])"
      ]
     },
     "execution_count": 119,
     "metadata": {},
     "output_type": "execute_result"
    }
   ],
   "source": [
    "arr = np.random.randn(4, 4)\n",
    "arr"
   ]
  },
  {
   "cell_type": "code",
   "execution_count": 120,
   "metadata": {},
   "outputs": [
    {
     "data": {
      "text/plain": [
       "array([[2, 2, 2, 2],\n",
       "       [2, 2, 2, 2],\n",
       "       [2, 2, 2, 2],\n",
       "       [2, 2, 2, 2]])"
      ]
     },
     "execution_count": 120,
     "metadata": {},
     "output_type": "execute_result"
    }
   ],
   "source": [
    "arr>0\n",
    "arr4=np.where(arr>0,2,2)\n",
    "arr4"
   ]
  },
  {
   "cell_type": "code",
   "execution_count": 121,
   "metadata": {},
   "outputs": [
    {
     "data": {
      "text/plain": [
       "array([[-0.02264456,  2.        , -0.25612788, -0.51158734],\n",
       "       [-1.06677508,  2.        ,  2.        ,  2.        ],\n",
       "       [-0.99632444, -1.63109282,  2.        ,  2.        ],\n",
       "       [-0.52565384,  2.        ,  2.        , -0.0773072 ]])"
      ]
     },
     "execution_count": 121,
     "metadata": {},
     "output_type": "execute_result"
    }
   ],
   "source": [
    "# We returned only the true and the false is the initial value that does not meet the True Value\n",
    "# This overides the iniotal arr declared above\n",
    "arr5=np.where(arr>0,2,arr)\n",
    "arr5"
   ]
  },
  {
   "cell_type": "markdown",
   "metadata": {},
   "source": [
    "<b>Mathematical and Statistical Methods</b>"
   ]
  },
  {
   "cell_type": "code",
   "execution_count": 122,
   "metadata": {},
   "outputs": [
    {
     "data": {
      "text/plain": [
       "array([[-0.58371322, -1.17860026,  0.58726696, -0.38783697],\n",
       "       [ 0.19671036,  1.18997214, -1.37560449,  1.19580868],\n",
       "       [-0.46992413,  0.14711982,  0.36708722, -0.38134464],\n",
       "       [-1.18300691,  0.61697815, -0.71239895,  1.73396233],\n",
       "       [ 0.47135625, -0.1115329 ,  0.92139651, -1.00113894]])"
      ]
     },
     "execution_count": 122,
     "metadata": {},
     "output_type": "execute_result"
    }
   ],
   "source": [
    "import numpy as np\n",
    "arr_1=np.random.randn(5,4)\n",
    "arr_1"
   ]
  },
  {
   "cell_type": "code",
   "execution_count": 123,
   "metadata": {},
   "outputs": [
    {
     "data": {
      "text/plain": [
       "0.0021278507110201405"
      ]
     },
     "execution_count": 123,
     "metadata": {},
     "output_type": "execute_result"
    }
   ],
   "source": [
    "#Array instance method\n",
    "arr_1.mean()"
   ]
  },
  {
   "cell_type": "code",
   "execution_count": 124,
   "metadata": {},
   "outputs": [
    {
     "data": {
      "text/plain": [
       "array([-0.31371553,  0.13278739, -0.04245055,  0.23189009])"
      ]
     },
     "execution_count": 124,
     "metadata": {},
     "output_type": "execute_result"
    }
   ],
   "source": [
    "# Mean across the row=> axis=0            \n",
    "arr_1.mean(axis=0)"
   ]
  },
  {
   "cell_type": "code",
   "execution_count": 125,
   "metadata": {},
   "outputs": [
    {
     "data": {
      "text/plain": [
       "array([-0.39072087,  0.30172167, -0.08426543,  0.11388365,  0.07002023])"
      ]
     },
     "execution_count": 125,
     "metadata": {},
     "output_type": "execute_result"
    }
   ],
   "source": [
    "# Mean across the column=> axis=1\n",
    "arr_1.mean(axis=1)"
   ]
  },
  {
   "cell_type": "code",
   "execution_count": 126,
   "metadata": {},
   "outputs": [
    {
     "data": {
      "text/plain": [
       "0.0021278507110201405"
      ]
     },
     "execution_count": 126,
     "metadata": {},
     "output_type": "execute_result"
    }
   ],
   "source": [
    "# Numpy function\n",
    "np.mean(arr_1)"
   ]
  },
  {
   "cell_type": "code",
   "execution_count": 127,
   "metadata": {},
   "outputs": [
    {
     "data": {
      "text/plain": [
       "array([-0.31371553,  0.13278739, -0.04245055,  0.23189009])"
      ]
     },
     "execution_count": 127,
     "metadata": {},
     "output_type": "execute_result"
    }
   ],
   "source": [
    "# Numpy function\n",
    "# Mean across the row=> axis=0\n",
    "np.mean(arr_1,axis=0)"
   ]
  },
  {
   "cell_type": "markdown",
   "metadata": {},
   "source": [
    "<b>Cumulative calculation</b>"
   ]
  },
  {
   "cell_type": "code",
   "execution_count": 128,
   "metadata": {},
   "outputs": [
    {
     "data": {
      "text/plain": [
       "array([[0, 1, 2],\n",
       "       [3, 4, 5],\n",
       "       [6, 7, 8]])"
      ]
     },
     "execution_count": 128,
     "metadata": {},
     "output_type": "execute_result"
    }
   ],
   "source": [
    "arr = np.array([[0, 1, 2], [3, 4, 5], [6, 7, 8]])\n",
    "arr"
   ]
  },
  {
   "cell_type": "code",
   "execution_count": 129,
   "metadata": {},
   "outputs": [
    {
     "data": {
      "text/plain": [
       "array([[ 0,  1,  2],\n",
       "       [ 3,  5,  7],\n",
       "       [ 9, 12, 15]], dtype=int32)"
      ]
     },
     "execution_count": 129,
     "metadata": {},
     "output_type": "execute_result"
    }
   ],
   "source": [
    "arr.cumsum(axis=0)"
   ]
  },
  {
   "cell_type": "code",
   "execution_count": 130,
   "metadata": {},
   "outputs": [
    {
     "data": {
      "text/plain": [
       "array([[ 0,  1,  3],\n",
       "       [ 3,  7, 12],\n",
       "       [ 6, 13, 21]], dtype=int32)"
      ]
     },
     "execution_count": 130,
     "metadata": {},
     "output_type": "execute_result"
    }
   ],
   "source": [
    "arr.cumsum(axis=1)"
   ]
  },
  {
   "cell_type": "code",
   "execution_count": 131,
   "metadata": {},
   "outputs": [
    {
     "data": {
      "text/plain": [
       "array([[ 0,  1,  2],\n",
       "       [ 0,  4, 10],\n",
       "       [ 0, 28, 80]], dtype=int32)"
      ]
     },
     "execution_count": 131,
     "metadata": {},
     "output_type": "execute_result"
    }
   ],
   "source": [
    "arr.cumprod(axis=0)"
   ]
  },
  {
   "cell_type": "code",
   "execution_count": 132,
   "metadata": {},
   "outputs": [
    {
     "data": {
      "text/plain": [
       "array([[  0,   0,   0],\n",
       "       [  3,  12,  60],\n",
       "       [  6,  42, 336]], dtype=int32)"
      ]
     },
     "execution_count": 132,
     "metadata": {},
     "output_type": "execute_result"
    }
   ],
   "source": [
    "arr.cumprod(axis=1)"
   ]
  },
  {
   "cell_type": "code",
   "execution_count": 133,
   "metadata": {},
   "outputs": [
    {
     "data": {
      "text/plain": [
       "array([2, 2, 2], dtype=int64)"
      ]
     },
     "execution_count": 133,
     "metadata": {},
     "output_type": "execute_result"
    }
   ],
   "source": [
    "# Indices of minimum element\n",
    "arr.argmax(axis=0)"
   ]
  },
  {
   "cell_type": "code",
   "execution_count": 134,
   "metadata": {},
   "outputs": [
    {
     "data": {
      "text/plain": [
       "array([[ 0.23145668, -0.60668064],\n",
       "       [-0.23227044, -1.00792165],\n",
       "       [ 0.38552374, -1.12815675]])"
      ]
     },
     "execution_count": 134,
     "metadata": {},
     "output_type": "execute_result"
    }
   ],
   "source": [
    "arr_2=np.random.randn(3,2)\n",
    "arr_2"
   ]
  },
  {
   "cell_type": "code",
   "execution_count": 135,
   "metadata": {},
   "outputs": [
    {
     "data": {
      "text/plain": [
       "array([2, 0], dtype=int64)"
      ]
     },
     "execution_count": 135,
     "metadata": {},
     "output_type": "execute_result"
    }
   ],
   "source": [
    "arr_2.argmax(axis=0)"
   ]
  },
  {
   "cell_type": "markdown",
   "metadata": {},
   "source": [
    "## <b>Methods for Boolean Arrays</b>"
   ]
  },
  {
   "cell_type": "code",
   "execution_count": 136,
   "metadata": {},
   "outputs": [
    {
     "data": {
      "text/plain": [
       "array([ 1.8284865 ,  0.21986855,  0.1315133 , -0.65526025,  2.17079658,\n",
       "       -0.08133719, -0.0671152 ,  0.84237127, -1.46203465, -0.80515649,\n",
       "       -2.14496529, -0.46396257,  0.23237656,  0.95941958,  0.5101985 ,\n",
       "        0.21107765, -0.63213443, -0.1130959 ,  0.29342638, -1.11886635,\n",
       "        1.35219169,  0.03639136, -0.47718869,  0.77467775, -0.26287359,\n",
       "       -0.66874372, -0.80486314, -1.03329989, -0.53174867, -0.78308017,\n",
       "        0.71024825, -0.38790466,  1.59004375,  0.05170237, -1.04734141,\n",
       "        0.30603531,  0.91193267, -1.39554521,  0.36955785, -1.22488274,\n",
       "       -1.51616713,  1.32998931,  0.44472245, -1.07683067,  0.7922384 ,\n",
       "        1.09339   , -0.09287881,  1.29610548,  0.66429864, -0.89648112])"
      ]
     },
     "execution_count": 136,
     "metadata": {},
     "output_type": "execute_result"
    }
   ],
   "source": [
    "arr_3 = np.random.randn(50)\n",
    "arr_3"
   ]
  },
  {
   "cell_type": "code",
   "execution_count": 137,
   "metadata": {},
   "outputs": [
    {
     "data": {
      "text/plain": [
       "25"
      ]
     },
     "execution_count": 137,
     "metadata": {},
     "output_type": "execute_result"
    }
   ],
   "source": [
    "bool=(arr_3>0).sum()\n",
    "bool"
   ]
  },
  {
   "cell_type": "code",
   "execution_count": 138,
   "metadata": {},
   "outputs": [],
   "source": [
    "bool_1=arr_3>0"
   ]
  },
  {
   "cell_type": "code",
   "execution_count": 139,
   "metadata": {},
   "outputs": [
    {
     "data": {
      "text/plain": [
       "True"
      ]
     },
     "execution_count": 139,
     "metadata": {},
     "output_type": "execute_result"
    }
   ],
   "source": [
    "bool_1.any()"
   ]
  },
  {
   "cell_type": "code",
   "execution_count": 140,
   "metadata": {},
   "outputs": [
    {
     "data": {
      "text/plain": [
       "False"
      ]
     },
     "execution_count": 140,
     "metadata": {},
     "output_type": "execute_result"
    }
   ],
   "source": [
    "bool_1.all()"
   ]
  },
  {
   "cell_type": "code",
   "execution_count": 141,
   "metadata": {},
   "outputs": [
    {
     "data": {
      "text/plain": [
       "array([1.8284865 , 0.21986855, 0.1315133 , 2.17079658, 0.84237127,\n",
       "       0.23237656, 0.95941958, 0.5101985 , 0.21107765, 0.29342638,\n",
       "       1.35219169, 0.03639136, 0.77467775, 0.71024825, 1.59004375,\n",
       "       0.05170237, 0.30603531, 0.91193267, 0.36955785, 1.32998931,\n",
       "       0.44472245, 0.7922384 , 1.09339   , 1.29610548, 0.66429864])"
      ]
     },
     "execution_count": 141,
     "metadata": {},
     "output_type": "execute_result"
    }
   ],
   "source": [
    "arr_3[arr_3>0]"
   ]
  },
  {
   "cell_type": "markdown",
   "metadata": {},
   "source": [
    "## <b>Sorting</b>"
   ]
  },
  {
   "cell_type": "code",
   "execution_count": 142,
   "metadata": {},
   "outputs": [
    {
     "data": {
      "text/plain": [
       "array([ 0.576552  ,  2.13079424, -0.70636187, -1.43914045,  0.88963644,\n",
       "       -0.68223151,  0.01363611])"
      ]
     },
     "execution_count": 142,
     "metadata": {},
     "output_type": "execute_result"
    }
   ],
   "source": [
    "arr_6=np.random.randn(7)\n",
    "arr_6"
   ]
  },
  {
   "cell_type": "code",
   "execution_count": 143,
   "metadata": {},
   "outputs": [
    {
     "data": {
      "text/plain": [
       "array([-1.43914045, -0.70636187, -0.68223151,  0.01363611,  0.576552  ,\n",
       "        0.88963644,  2.13079424])"
      ]
     },
     "execution_count": 143,
     "metadata": {},
     "output_type": "execute_result"
    }
   ],
   "source": [
    "#The sort in place,i.e it will replace the old array\n",
    "arr_6.sort()\n",
    "arr_6"
   ]
  },
  {
   "cell_type": "code",
   "execution_count": 144,
   "metadata": {},
   "outputs": [
    {
     "data": {
      "text/plain": [
       "array([[ 0.28287977, -0.41149195,  0.36983684],\n",
       "       [ 0.39201975, -0.46664654, -2.7234423 ],\n",
       "       [ 0.64204804, -0.0320491 , -0.08579616],\n",
       "       [-1.19043056, -0.91024221,  0.53751542],\n",
       "       [ 0.04231757, -1.0467285 ,  0.24158341]])"
      ]
     },
     "execution_count": 144,
     "metadata": {},
     "output_type": "execute_result"
    }
   ],
   "source": [
    "arr_7 = np.random.randn(5, 3)\n",
    "arr_7"
   ]
  },
  {
   "cell_type": "code",
   "execution_count": 145,
   "metadata": {},
   "outputs": [
    {
     "data": {
      "text/plain": [
       "array([[-0.41149195,  0.28287977,  0.36983684],\n",
       "       [-2.7234423 , -0.46664654,  0.39201975],\n",
       "       [-0.08579616, -0.0320491 ,  0.64204804],\n",
       "       [-1.19043056, -0.91024221,  0.53751542],\n",
       "       [-1.0467285 ,  0.04231757,  0.24158341]])"
      ]
     },
     "execution_count": 145,
     "metadata": {},
     "output_type": "execute_result"
    }
   ],
   "source": [
    "arr_7.sort(1)\n",
    "arr_7"
   ]
  },
  {
   "cell_type": "code",
   "execution_count": 146,
   "metadata": {},
   "outputs": [
    {
     "data": {
      "text/plain": [
       "-0.5624702975654462"
      ]
     },
     "execution_count": 146,
     "metadata": {},
     "output_type": "execute_result"
    }
   ],
   "source": [
    "# Getting the 5%or 5th quantile of the datasets\n",
    "#  quantile is dividing data into parts\n",
    "large_data=np.random.randn(1000)\n",
    "large_data[int(0.05*len(arr_7))]"
   ]
  },
  {
   "cell_type": "markdown",
   "metadata": {},
   "source": [
    "## <b>Unique and Other Set Logic</b>\n",
    "Returned sorted unique values"
   ]
  },
  {
   "cell_type": "code",
   "execution_count": 147,
   "metadata": {},
   "outputs": [
    {
     "data": {
      "text/plain": [
       "array(['Bob', 'Joe', 'Will'], dtype='<U4')"
      ]
     },
     "execution_count": 147,
     "metadata": {},
     "output_type": "execute_result"
    }
   ],
   "source": [
    "names = np.array(['Bob', 'Joe', 'Will', 'Bob', 'Will', 'Joe', 'Joe'])\n",
    "np.unique(names)"
   ]
  },
  {
   "cell_type": "code",
   "execution_count": 148,
   "metadata": {},
   "outputs": [
    {
     "data": {
      "text/plain": [
       "array([1, 2, 3, 4])"
      ]
     },
     "execution_count": 148,
     "metadata": {},
     "output_type": "execute_result"
    }
   ],
   "source": [
    "ints = np.array([3, 3, 3, 2, 2, 1, 1, 4, 4])\n",
    "np.unique(ints)"
   ]
  },
  {
   "cell_type": "markdown",
   "metadata": {},
   "source": [
    "<b> Constrast to Unique</b>"
   ]
  },
  {
   "cell_type": "code",
   "execution_count": 149,
   "metadata": {},
   "outputs": [
    {
     "data": {
      "text/plain": [
       "['Bob', 'Joe', 'Will']"
      ]
     },
     "execution_count": 149,
     "metadata": {},
     "output_type": "execute_result"
    }
   ],
   "source": [
    "sorted(set(names))"
   ]
  },
  {
   "cell_type": "markdown",
   "metadata": {},
   "source": [
    "## <b>Linear Algebra</b>"
   ]
  },
  {
   "cell_type": "code",
   "execution_count": 150,
   "metadata": {},
   "outputs": [],
   "source": [
    "arr_arr=np.random.randn(10).reshape(2,5)\n",
    "arr_rr=np.random.randn(10).reshape(5,2)"
   ]
  },
  {
   "cell_type": "code",
   "execution_count": 151,
   "metadata": {},
   "outputs": [
    {
     "data": {
      "text/plain": [
       "array([[2.48221357, 1.85627094],\n",
       "       [2.14879903, 0.7163835 ]])"
      ]
     },
     "execution_count": 151,
     "metadata": {},
     "output_type": "execute_result"
    }
   ],
   "source": [
    "np.dot(arr_arr,arr_rr) # numpy as function"
   ]
  },
  {
   "cell_type": "code",
   "execution_count": 152,
   "metadata": {},
   "outputs": [
    {
     "data": {
      "text/plain": [
       "array([[2.48221357, 1.85627094],\n",
       "       [2.14879903, 0.7163835 ]])"
      ]
     },
     "execution_count": 152,
     "metadata": {},
     "output_type": "execute_result"
    }
   ],
   "source": [
    "arr_arr.dot(arr_rr)   # array method"
   ]
  },
  {
   "cell_type": "code",
   "execution_count": 153,
   "metadata": {},
   "outputs": [
    {
     "data": {
      "text/plain": [
       "array([-1.12628807, -1.58341635])"
      ]
     },
     "execution_count": 153,
     "metadata": {},
     "output_type": "execute_result"
    }
   ],
   "source": [
    "np.dot(np.random.randn(6).reshape(2,3),np.ones(3))"
   ]
  },
  {
   "cell_type": "markdown",
   "metadata": {},
   "source": [
    "<b>The @ symbol (as of Python 3.5) also works as an infix operator that performs matrix\n",
    "multiplication:</b>"
   ]
  },
  {
   "cell_type": "code",
   "execution_count": 154,
   "metadata": {},
   "outputs": [
    {
     "data": {
      "text/plain": [
       "array([[2.48221357, 1.85627094],\n",
       "       [2.14879903, 0.7163835 ]])"
      ]
     },
     "execution_count": 154,
     "metadata": {},
     "output_type": "execute_result"
    }
   ],
   "source": [
    "arr_arr@arr_rr"
   ]
  },
  {
   "cell_type": "code",
   "execution_count": 155,
   "metadata": {},
   "outputs": [],
   "source": [
    "from numpy.linalg import inv,qr,det"
   ]
  },
  {
   "cell_type": "code",
   "execution_count": 156,
   "metadata": {},
   "outputs": [
    {
     "data": {
      "text/plain": [
       "array([[-0.01240077,  0.13169266, -1.00654627, -0.08998375,  0.11276386],\n",
       "       [ 0.42952062,  0.85562698, -0.43194769, -0.94710062, -0.98612634],\n",
       "       [-0.40056348,  0.83440757, -0.48355183,  1.10148633, -1.1456735 ],\n",
       "       [-0.41728255, -0.96827622, -0.67661199,  1.6968202 ,  2.08697152],\n",
       "       [-1.16996686,  0.95693946,  0.20520191, -0.90595587,  1.33091999]])"
      ]
     },
     "execution_count": 156,
     "metadata": {},
     "output_type": "execute_result"
    }
   ],
   "source": [
    "X = np.random.randn(5, 5)\n",
    "X"
   ]
  },
  {
   "cell_type": "code",
   "execution_count": 157,
   "metadata": {},
   "outputs": [],
   "source": [
    "mat=X.T.dot(X)\n"
   ]
  },
  {
   "cell_type": "code",
   "execution_count": 158,
   "metadata": {},
   "outputs": [
    {
     "data": {
      "text/plain": [
       "array([[9.96816823, 8.00532264, 2.85788205, 3.27612434, 4.5544502 ],\n",
       "       [8.00532264, 7.0119083 , 2.50465594, 2.87977866, 3.78062741],\n",
       "       [2.85788205, 2.50465594, 1.51682909, 1.18027986, 1.33415898],\n",
       "       [3.27612434, 2.87977866, 1.18027986, 1.40692153, 1.50113698],\n",
       "       [4.5544502 , 3.78062741, 1.33415898, 1.50113698, 2.23649909]])"
      ]
     },
     "execution_count": 158,
     "metadata": {},
     "output_type": "execute_result"
    }
   ],
   "source": [
    "inv(mat)"
   ]
  },
  {
   "cell_type": "code",
   "execution_count": 159,
   "metadata": {},
   "outputs": [
    {
     "data": {
      "text/plain": [
       "array([[ 1.00000000e+00, -3.55271368e-15, -2.22044605e-15,\n",
       "        -4.44089210e-16, -3.55271368e-15],\n",
       "       [ 8.88178420e-15,  1.00000000e+00,  3.99680289e-15,\n",
       "         2.66453526e-15,  2.66453526e-15],\n",
       "       [ 0.00000000e+00,  4.44089210e-16,  1.00000000e+00,\n",
       "         5.55111512e-17,  5.55111512e-16],\n",
       "       [ 0.00000000e+00, -1.77635684e-15, -8.88178420e-16,\n",
       "         1.00000000e+00,  1.77635684e-15],\n",
       "       [ 7.10542736e-15,  0.00000000e+00,  1.77635684e-15,\n",
       "        -3.55271368e-15,  1.00000000e+00]])"
      ]
     },
     "execution_count": 159,
     "metadata": {},
     "output_type": "execute_result"
    }
   ],
   "source": [
    "mat.dot(inv(mat))"
   ]
  },
  {
   "cell_type": "code",
   "execution_count": 160,
   "metadata": {},
   "outputs": [],
   "source": [
    "q,r=qr(mat)"
   ]
  },
  {
   "cell_type": "code",
   "execution_count": 161,
   "metadata": {},
   "outputs": [
    {
     "data": {
      "text/plain": [
       "array([[-0.59666869,  0.2933327 ,  0.02193889,  0.29460741,  0.68605216],\n",
       "       [ 0.21612966, -0.75360167,  0.19436211, -0.15257316,  0.56948863],\n",
       "       [-0.01987916,  0.01641811, -0.86436626, -0.46023663,  0.20096886],\n",
       "       [ 0.15643692,  0.47308763,  0.43780553, -0.71338002,  0.22612131],\n",
       "       [ 0.75657568,  0.34922628, -0.1514574 ,  0.41133818,  0.33689138]])"
      ]
     },
     "execution_count": 161,
     "metadata": {},
     "output_type": "execute_result"
    }
   ],
   "source": [
    "#And this returns orthonormal matrix\n",
    "q"
   ]
  },
  {
   "cell_type": "code",
   "execution_count": 162,
   "metadata": {},
   "outputs": [
    {
     "data": {
      "text/plain": [
       "array([[-3.1643022 , -1.17101465, -0.50768305,  2.22233128,  7.57286637],\n",
       "       [ 0.        , -4.71344425, -0.6508858 ,  5.10093859,  5.08839035],\n",
       "       [ 0.        ,  0.        , -2.23752625,  2.94645935, -0.71061095],\n",
       "       [ 0.        ,  0.        ,  0.        , -2.47764412,  1.84691395],\n",
       "       [ 0.        ,  0.        ,  0.        ,  0.        ,  0.15063337]])"
      ]
     },
     "execution_count": 162,
     "metadata": {},
     "output_type": "execute_result"
    }
   ],
   "source": [
    "#This returns an triangular matrix\n",
    "r"
   ]
  },
  {
   "cell_type": "code",
   "execution_count": 163,
   "metadata": {},
   "outputs": [
    {
     "data": {
      "text/plain": [
       "12.4550240667216"
      ]
     },
     "execution_count": 163,
     "metadata": {},
     "output_type": "execute_result"
    }
   ],
   "source": [
    "det(mat)"
   ]
  },
  {
   "cell_type": "markdown",
   "metadata": {},
   "source": [
    "<b>Pseudorandom Number Generation</b>"
   ]
  },
  {
   "cell_type": "code",
   "execution_count": 164,
   "metadata": {},
   "outputs": [
    {
     "data": {
      "text/plain": [
       "array([[-0.59741343, -0.05588555, -1.19728316, -0.61831926],\n",
       "       [-0.03043667,  1.11377283,  0.20714528,  1.90283736],\n",
       "       [ 0.37725192,  1.04411717, -2.41515524, -1.28750065],\n",
       "       [-0.29761555, -0.21210091, -0.55955096, -0.27252092]])"
      ]
     },
     "execution_count": 164,
     "metadata": {},
     "output_type": "execute_result"
    }
   ],
   "source": [
    "samples = np.random.normal(size=(4, 4))\n",
    "samples"
   ]
  },
  {
   "cell_type": "code",
   "execution_count": 165,
   "metadata": {},
   "outputs": [
    {
     "name": "stdout",
     "output_type": "stream",
     "text": [
      "1.57 s ± 55.9 ms per loop (mean ± std. dev. of 7 runs, 1 loop each)\n"
     ]
    }
   ],
   "source": [
    "from random import normalvariate\n",
    "N=1000000\n",
    "%timeit samples=[normalvariate(0,1) for _ in  range(N)]"
   ]
  },
  {
   "cell_type": "code",
   "execution_count": 166,
   "metadata": {},
   "outputs": [
    {
     "name": "stdout",
     "output_type": "stream",
     "text": [
      "46.1 ms ± 991 µs per loop (mean ± std. dev. of 7 runs, 10 loops each)\n"
     ]
    }
   ],
   "source": [
    "%timeit np.random.normal(size=N)"
   ]
  },
  {
   "cell_type": "code",
   "execution_count": null,
   "metadata": {},
   "outputs": [],
   "source": [
    "#Changing the pseudorandom seed this changes the random generator from standard 0,1 to the seed specified\n",
    "#np.random.RandomState(1234)"
   ]
  },
  {
   "cell_type": "code",
   "execution_count": 179,
   "metadata": {},
   "outputs": [
    {
     "data": {
      "text/plain": [
       "array([ 0.45677109, -1.2122497 , -0.06534516,  0.79258831, -0.75789643])"
      ]
     },
     "execution_count": 179,
     "metadata": {},
     "output_type": "execute_result"
    }
   ],
   "source": [
    "np.random.randn(5)"
   ]
  },
  {
   "cell_type": "code",
   "execution_count": 182,
   "metadata": {},
   "outputs": [],
   "source": [
    "nsteps = 1000\n",
    "draws = np.random.randint(0, 2, size=nsteps)"
   ]
  },
  {
   "cell_type": "code",
   "execution_count": 183,
   "metadata": {},
   "outputs": [
    {
     "data": {
      "text/plain": [
       "array([ -1,  -2,  -3,  -4,  -5,  -4,  -5,  -6,  -7,  -8,  -7,  -6,  -5,\n",
       "        -4,  -5,  -6,  -5,  -4,  -5,  -4,  -3,  -4,  -5,  -6,  -5,  -6,\n",
       "        -5,  -6,  -7,  -6,  -7,  -8,  -7,  -6,  -7,  -8,  -9,  -8,  -7,\n",
       "        -6,  -7,  -6,  -5,  -4,  -5,  -6,  -7,  -8,  -7,  -8,  -7,  -6,\n",
       "        -5,  -6,  -5,  -6,  -7,  -6,  -5,  -6,  -7,  -8,  -9, -10,  -9,\n",
       "        -8,  -7,  -6,  -5,  -6,  -5,  -4,  -5,  -6,  -5,  -6,  -7,  -6,\n",
       "        -5,  -4,  -5,  -4,  -3,  -2,  -1,  -2,  -1,  -2,  -3,  -4,  -5,\n",
       "        -4,  -3,  -2,  -3,  -2,  -3,  -4,  -3,  -4,  -5,  -6,  -5,  -4,\n",
       "        -3,  -4,  -5,  -6,  -7,  -6,  -7,  -6,  -7,  -6,  -5,  -6,  -7,\n",
       "        -6,  -7,  -6,  -5,  -6,  -5,  -6,  -7,  -8,  -9, -10, -11, -10,\n",
       "        -9,  -8,  -7,  -8,  -9,  -8,  -9,  -8,  -9, -10, -11, -12, -13,\n",
       "       -14, -15, -16, -17, -16, -17, -16, -15, -14, -15, -16, -15, -14,\n",
       "       -15, -16, -17, -18, -19, -20, -21, -20, -19, -20, -19, -18, -19,\n",
       "       -18, -17, -16, -15, -14, -15, -14, -15, -16, -17, -16, -17, -16,\n",
       "       -17, -18, -19, -18, -17, -18, -17, -16, -17, -16, -17, -18, -19,\n",
       "       -20, -19, -18, -17, -16, -15, -16, -17, -18, -19, -20, -19, -18,\n",
       "       -19, -18, -17, -18, -19, -18, -19, -18, -19, -18, -17, -16, -17,\n",
       "       -18, -17, -18, -19, -18, -17, -16, -17, -18, -17, -18, -19, -20,\n",
       "       -19, -20, -21, -22, -23, -24, -23, -22, -23, -24, -25, -24, -23,\n",
       "       -24, -23, -24, -25, -24, -23, -22, -21, -22, -21, -22, -21, -20,\n",
       "       -19, -20, -19, -18, -19, -18, -17, -18, -17, -16, -15, -14, -13,\n",
       "       -12, -11, -10,  -9, -10, -11, -10,  -9, -10, -11, -12, -13, -12,\n",
       "       -11, -12, -11, -10,  -9,  -8,  -9,  -8,  -9, -10, -11, -10, -11,\n",
       "       -10, -11, -10,  -9, -10, -11, -10, -11, -10, -11, -10, -11, -10,\n",
       "       -11, -12, -11, -12, -13, -12, -13, -14, -13, -14, -13, -14, -15,\n",
       "       -14, -13, -14, -13, -12, -11, -12, -11, -12, -13, -14, -15, -14,\n",
       "       -13, -12, -11, -10,  -9, -10,  -9,  -8,  -7,  -8,  -7,  -8,  -7,\n",
       "        -8,  -7,  -8,  -9, -10,  -9, -10, -11, -10, -11, -10, -11, -12,\n",
       "       -13, -14, -15, -16, -17, -18, -19, -20, -21, -22, -23, -22, -23,\n",
       "       -22, -23, -24, -25, -26, -25, -26, -25, -26, -27, -26, -27, -26,\n",
       "       -25, -26, -27, -28, -27, -26, -27, -28, -29, -30, -29, -28, -27,\n",
       "       -26, -25, -24, -23, -22, -21, -22, -21, -20, -21, -20, -19, -18,\n",
       "       -17, -16, -15, -14, -15, -16, -17, -16, -17, -18, -19, -20, -19,\n",
       "       -18, -19, -18, -17, -16, -15, -16, -15, -16, -15, -14, -13, -12,\n",
       "       -13, -12, -13, -14, -15, -16, -17, -16, -15, -16, -15, -14, -13,\n",
       "       -12, -13, -14, -15, -16, -17, -16, -17, -18, -17, -16, -17, -18,\n",
       "       -19, -20, -21, -22, -21, -20, -21, -22, -23, -24, -25, -24, -25,\n",
       "       -24, -23, -22, -21, -22, -21, -20, -19, -20, -19, -18, -19, -18,\n",
       "       -17, -18, -19, -20, -21, -22, -21, -22, -23, -22, -21, -22, -23,\n",
       "       -22, -23, -24, -23, -22, -23, -24, -23, -24, -23, -22, -21, -20,\n",
       "       -21, -20, -19, -20, -19, -18, -17, -16, -15, -16, -17, -16, -17,\n",
       "       -16, -17, -16, -15, -16, -17, -18, -19, -18, -17, -18, -17, -18,\n",
       "       -19, -20, -21, -20, -19, -18, -17, -18, -17, -18, -19, -18, -19,\n",
       "       -18, -19, -18, -19, -18, -19, -20, -19, -20, -21, -20, -21, -20,\n",
       "       -19, -18, -17, -18, -17, -18, -19, -20, -19, -18, -17, -16, -15,\n",
       "       -16, -17, -18, -17, -18, -17, -18, -19, -18, -19, -18, -19, -18,\n",
       "       -19, -18, -19, -18, -19, -18, -17, -18, -17, -16, -17, -18, -17,\n",
       "       -18, -19, -20, -21, -20, -19, -20, -19, -20, -21, -22, -21, -22,\n",
       "       -21, -20, -21, -22, -21, -20, -19, -18, -19, -18, -17, -18, -19,\n",
       "       -18, -19, -18, -17, -16, -17, -16, -15, -14, -13, -12, -13, -12,\n",
       "       -11, -12, -11, -10,  -9,  -8,  -9, -10,  -9, -10,  -9, -10, -11,\n",
       "       -10,  -9,  -8,  -9, -10,  -9,  -8,  -7,  -6,  -7,  -6,  -5,  -6,\n",
       "        -7,  -6,  -5,  -4,  -3,  -2,  -3,  -4,  -3,  -2,  -3,  -2,  -3,\n",
       "        -2,  -1,  -2,  -1,   0,  -1,   0,  -1,  -2,  -1,  -2,  -1,  -2,\n",
       "        -1,  -2,  -3,  -2,  -3,  -2,  -3,  -4,  -3,  -4,  -5,  -4,  -3,\n",
       "        -4,  -3,  -2,  -1,   0,   1,   0,  -1,   0,  -1,  -2,  -3,  -2,\n",
       "        -1,   0,   1,   2,   1,   0,  -1,  -2,  -3,  -2,  -3,  -2,  -3,\n",
       "        -2,  -1,  -2,  -1,  -2,  -3,  -2,  -1,  -2,  -1,  -2,  -1,  -2,\n",
       "        -1,  -2,  -1,   0,  -1,  -2,  -3,  -4,  -5,  -6,  -7,  -6,  -7,\n",
       "        -6,  -5,  -4,  -3,  -4,  -5,  -6,  -7,  -6,  -7,  -6,  -5,  -4,\n",
       "        -5,  -6,  -5,  -4,  -5,  -6,  -5,  -6,  -5,  -4,  -5,  -4,  -5,\n",
       "        -4,  -3,  -2,  -1,  -2,  -3,  -4,  -3,  -2,  -1,  -2,  -3,  -4,\n",
       "        -5,  -4,  -3,  -2,  -1,  -2,  -3,  -4,  -5,  -4,  -3,  -2,  -3,\n",
       "        -2,  -1,   0,  -1,   0,  -1,  -2,  -1,  -2,  -3,  -4,  -3,  -4,\n",
       "        -5,  -6,  -7,  -8,  -7,  -6,  -5,  -4,  -3,  -4,  -3,  -2,  -1,\n",
       "         0,   1,   0,  -1,   0,   1,   0,   1,   0,  -1,  -2,  -3,  -4,\n",
       "        -3,  -4,  -5,  -4,  -5,  -6,  -5,  -6,  -7,  -8,  -9, -10, -11,\n",
       "       -12, -11, -10, -11, -10,  -9,  -8,  -9, -10,  -9, -10, -11, -10,\n",
       "       -11, -12, -11, -12, -13, -12, -13, -12, -11, -10, -11, -10,  -9,\n",
       "        -8,  -7,  -8,  -9,  -8,  -9,  -8,  -9, -10, -11, -12, -11, -12,\n",
       "       -11, -10, -11, -12, -11, -12, -11, -12, -13, -14, -15, -16, -17,\n",
       "       -18, -17, -18, -19, -20, -19, -18, -17, -16, -15, -16, -17, -18,\n",
       "       -19, -18, -19, -18, -17, -16, -15, -16, -17, -16, -15, -16, -17,\n",
       "       -18, -17, -18, -17, -18, -19, -18, -19, -20, -21, -20, -19, -18,\n",
       "       -17, -16, -17, -18, -17, -16, -15, -14, -13, -12, -11, -10,  -9,\n",
       "       -10, -11, -12, -11, -10, -11, -12, -11, -10, -11, -12, -13, -12,\n",
       "       -11, -10,  -9, -10,  -9,  -8,  -9, -10, -11, -10,  -9, -10],\n",
       "      dtype=int32)"
      ]
     },
     "execution_count": 183,
     "metadata": {},
     "output_type": "execute_result"
    }
   ],
   "source": [
    "steps = np.where(draws > 0, 1, -1)\n",
    "steps.cumsum()"
   ]
  },
  {
   "cell_type": "code",
   "execution_count": null,
   "metadata": {},
   "outputs": [],
   "source": []
  }
 ],
 "metadata": {
  "kernelspec": {
   "display_name": "Python 3.8.2 64-bit",
   "language": "python",
   "name": "python3"
  },
  "language_info": {
   "codemirror_mode": {
    "name": "ipython",
    "version": 3
   },
   "file_extension": ".py",
   "mimetype": "text/x-python",
   "name": "python",
   "nbconvert_exporter": "python",
   "pygments_lexer": "ipython3",
   "version": "3.8.2"
  },
  "vscode": {
   "interpreter": {
    "hash": "31f2aee4e71d21fbe5cf8b01ff0e069b9275f58929596ceb00d14d90e3e16cd6"
   }
  }
 },
 "nbformat": 4,
 "nbformat_minor": 4
}
