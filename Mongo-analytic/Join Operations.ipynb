{
 "cells": [
  {
   "cell_type": "markdown",
   "metadata": {},
   "source": [
    "<b>Joining Operations</b>"
   ]
  },
  {
   "cell_type": "code",
   "execution_count": 10,
   "metadata": {},
   "outputs": [],
   "source": [
    "import pprint\n",
    "import json\n",
    "import pymongo\n",
    "from pymongo import MongoClient\n",
    "from datetime import datetime\n",
    "client = MongoClient('mongodb://localhost:27017/')\n",
    "#client = MongoClient('localhost', 27017)"
   ]
  },
  {
   "cell_type": "code",
   "execution_count": 59,
   "metadata": {},
   "outputs": [],
   "source": [
    "db=client.warehouse"
   ]
  },
  {
   "cell_type": "code",
   "execution_count": 60,
   "metadata": {},
   "outputs": [
    {
     "data": {
      "text/plain": [
       "'db.inventory.insert([\\n   { \"_id\" : 1, \"sku\" : \"almonds\", \"description\": \"product 1\", \"instock\" : 120 },\\n   { \"_id\" : 2, \"sku\" : \"bread\", \"description\": \"product 2\", \"instock\" : 80 },\\n   { \"_id\" : 3, \"sku\" : \"cashews\", \"description\": \"product 3\", \"instock\" : 60 },\\n   { \"_id\" : 4, \"sku\" : \"pecans\", \"description\": \"product 4\", \"instock\" : 70 },\\n   { \"_id\" : 5, \"sku\": \"almonds\", \"description\": \"Incomplete\" },\\n   { \"_id\" : 6 }\\n])'"
      ]
     },
     "execution_count": 60,
     "metadata": {},
     "output_type": "execute_result"
    }
   ],
   "source": [
    "\"\"\"db.inventory.insert([\n",
    "   { \"_id\" : 1, \"sku\" : \"almonds\", \"description\": \"product 1\", \"instock\" : 120 },\n",
    "   { \"_id\" : 2, \"sku\" : \"bread\", \"description\": \"product 2\", \"instock\" : 80 },\n",
    "   { \"_id\" : 3, \"sku\" : \"cashews\", \"description\": \"product 3\", \"instock\" : 60 },\n",
    "   { \"_id\" : 4, \"sku\" : \"pecans\", \"description\": \"product 4\", \"instock\" : 70 },\n",
    "   { \"_id\" : 5, \"sku\": \"almonds\", \"description\": \"Incomplete\" },\n",
    "   { \"_id\" : 6 }\n",
    "])\"\"\""
   ]
  },
  {
   "cell_type": "code",
   "execution_count": 123,
   "metadata": {},
   "outputs": [
    {
     "data": {
      "text/plain": [
       "<pymongo.results.DeleteResult at 0x27194658fc8>"
      ]
     },
     "execution_count": 123,
     "metadata": {},
     "output_type": "execute_result"
    }
   ],
   "source": [
    "db.inventory.delete_one({\"$and\":[{\"sku\":\"almonds\"},{\"instock\":1000}]})"
   ]
  },
  {
   "cell_type": "code",
   "execution_count": 124,
   "metadata": {},
   "outputs": [
    {
     "data": {
      "text/plain": [
       "[{'_id': 2, 'sku': 'bread', 'description': 'product 2', 'instock': 580},\n",
       " {'_id': 3, 'sku': 'cashews', 'description': 'product 3', 'instock': 560},\n",
       " {'_id': 4, 'sku': 'pecans', 'description': 'product 4', 'instock': 570},\n",
       " {'_id': 6, 'instock': 500}]"
      ]
     },
     "execution_count": 124,
     "metadata": {},
     "output_type": "execute_result"
    }
   ],
   "source": [
    "list(db.inventory.find())"
   ]
  },
  {
   "cell_type": "code",
   "execution_count": 92,
   "metadata": {},
   "outputs": [
    {
     "data": {
      "text/plain": [
       "'db.orders.insert([\\n   { \"_id\" : 1, \"item\" : \"almonds\", \"price\" : 12, \"quantity\" : 2 },\\n   { \"_id\" : 2, \"item\" : \"pecans\", \"price\" : 20, \"quantity\" : 1 },\\n   { \"_id\" : 3  }\\n])'"
      ]
     },
     "execution_count": 92,
     "metadata": {},
     "output_type": "execute_result"
    }
   ],
   "source": [
    "\"\"\"db.orders.insert([\n",
    "   { \"_id\" : 1, \"item\" : \"almonds\", \"price\" : 12, \"quantity\" : 2 },\n",
    "   { \"_id\" : 2, \"item\" : \"pecans\", \"price\" : 20, \"quantity\" : 1 },\n",
    "   { \"_id\" : 3  }\n",
    "])\"\"\""
   ]
  },
  {
   "cell_type": "markdown",
   "metadata": {},
   "source": [
    "<b>Perform a Single Equality Join with $lookup</b>"
   ]
  },
  {
   "cell_type": "code",
   "execution_count": 107,
   "metadata": {},
   "outputs": [
    {
     "data": {
      "text/plain": [
       "[{'item': 'almonds',\n",
       "  'price': 12,\n",
       "  'quantity': 2,\n",
       "  'NewData': [{'_id': 1,\n",
       "    'sku': 'almonds',\n",
       "    'description': 'product 1',\n",
       "    'instock': 120},\n",
       "   {'_id': 5, 'sku': 'almonds', 'description': 'Incomplete'}]},\n",
       " {'item': 'pecans',\n",
       "  'price': 20,\n",
       "  'quantity': 1,\n",
       "  'NewData': [{'_id': 4,\n",
       "    'sku': 'pecans',\n",
       "    'description': 'product 4',\n",
       "    'instock': 70}]},\n",
       " {'NewData': [{'_id': 6}]}]"
      ]
     },
     "execution_count": 107,
     "metadata": {},
     "output_type": "execute_result"
    }
   ],
   "source": [
    "list(db.orders.aggregate([{\"$lookup\":{\n",
    "                     \"from\":\"inventory\",\n",
    "                     \"localField\":\"item\",\n",
    "                     \"foreignField\":\"sku\",\n",
    "                      \"as\": \"NewData\"\n",
    "}},{\"$project\":{\"_id\":0}}]))"
   ]
  },
  {
   "cell_type": "markdown",
   "metadata": {},
   "source": [
    "<b>Multiple Join Conditions with $lookup</b>"
   ]
  },
  {
   "cell_type": "code",
   "execution_count": 72,
   "metadata": {},
   "outputs": [
    {
     "data": {
      "text/plain": [
       "'db.Orders.insert([\\n  { \"_id\" : 1, \"item\" : \"almonds\", \"price\" : 12, \"ordered\" : 2 },\\n  { \"_id\" : 2, \"item\" : \"pecans\", \"price\" : 20, \"ordered\" : 1 },\\n  { \"_id\" : 3, \"item\" : \"cookies\", \"price\" : 10, \"ordered\" : 60 }\\n])'"
      ]
     },
     "execution_count": 72,
     "metadata": {},
     "output_type": "execute_result"
    }
   ],
   "source": [
    "\"\"\"db.Orders.insert([\n",
    "  { \"_id\" : 1, \"item\" : \"almonds\", \"price\" : 12, \"ordered\" : 2 },\n",
    "  { \"_id\" : 2, \"item\" : \"pecans\", \"price\" : 20, \"ordered\" : 1 },\n",
    "  { \"_id\" : 3, \"item\" : \"cookies\", \"price\" : 10, \"ordered\" : 60 }\n",
    "])\"\"\""
   ]
  },
  {
   "cell_type": "code",
   "execution_count": 126,
   "metadata": {},
   "outputs": [
    {
     "data": {
      "text/plain": [
       "[{'_id': 'item', 'Sum_ordered': 32}]"
      ]
     },
     "execution_count": 126,
     "metadata": {},
     "output_type": "execute_result"
    }
   ],
   "source": [
    "db.orders.aggregate([{\"$match\":{\"$expr\":{\"$gte\":[\"$price\",\"$ordered\"]}}},{\"$group\":{\"_id\":\"item\",\"Sum_ordered\":{\"$sum\":\"$price\"}}}])"
   ]
  },
  {
   "cell_type": "code",
   "execution_count": 71,
   "metadata": {},
   "outputs": [
    {
     "data": {
      "text/plain": [
       "'db.warehouses.insert([\\n  { \"_id\" : 1, \"stock_item\" : \"almonds\", \"warehouse\": \"A\", \"instock\" : 120 },\\n  { \"_id\" : 2, \"stock_item\" : \"pecans\", \"warehouse\": \"A\", \"instock\" : 80 },\\n  { \"_id\" : 3, \"stock_item\" : \"almonds\", \"warehouse\": \"B\", \"instock\" : 60 },\\n  { \"_id\" : 4, \"stock_item\" : \"cookies\", \"warehouse\": \"B\", \"instock\" : 40 },\\n  { \"_id\" : 5, \"stock_item\" : \"cookies\", \"warehouse\": \"A\", \"instock\" : 80 }\\n])'"
      ]
     },
     "execution_count": 71,
     "metadata": {},
     "output_type": "execute_result"
    }
   ],
   "source": [
    "\"\"\"db.warehouses.insert([\n",
    "  { \"_id\" : 1, \"stock_item\" : \"almonds\", \"warehouse\": \"A\", \"instock\" : 120 },\n",
    "  { \"_id\" : 2, \"stock_item\" : \"pecans\", \"warehouse\": \"A\", \"instock\" : 80 },\n",
    "  { \"_id\" : 3, \"stock_item\" : \"almonds\", \"warehouse\": \"B\", \"instock\" : 60 },\n",
    "  { \"_id\" : 4, \"stock_item\" : \"cookies\", \"warehouse\": \"B\", \"instock\" : 40 },\n",
    "  { \"_id\" : 5, \"stock_item\" : \"cookies\", \"warehouse\": \"A\", \"instock\" : 80 }\n",
    "])\"\"\""
   ]
  },
  {
   "cell_type": "code",
   "execution_count": 135,
   "metadata": {},
   "outputs": [
    {
     "data": {
      "text/plain": [
       "<pymongo.command_cursor.CommandCursor at 0x27193d31248>"
      ]
     },
     "execution_count": 135,
     "metadata": {},
     "output_type": "execute_result"
    }
   ],
   "source": [
    "db.orders.aggregate([\n",
    "   {\"$lookup\": {\n",
    "           \"from\": \"warehouses\",\n",
    "           \"let\": {\"order_item\": \"$item\", \"order_qty\": \"$ordered\" },\n",
    "           \"pipeline\": [\n",
    "              {\"$match\":\n",
    "                 {\"$expr\":\n",
    "                    {\"$and\":\n",
    "                       [\n",
    "                         {\"$eq\": [ \"$stock_item\",  \"$$order_item\" ] },\n",
    "                         {\"$gte\": [ \"$instock\", \"$$order_qty\" ] }\n",
    "                       ]\n",
    "                    }\n",
    "                 }\n",
    "              }\n",
    "               ,{\"$project\":{ \"stock_item\": 0, \"_id\": 0 } }],\n",
    "           \"as\": \"stockdata\"\n",
    "         }\n",
    "    },{\"$out\":\"reviewedorder\"}\n",
    "])"
   ]
  },
  {
   "cell_type": "code",
   "execution_count": 136,
   "metadata": {},
   "outputs": [
    {
     "data": {
      "text/plain": [
       "[{'_id': 1,\n",
       "  'item': 'almonds',\n",
       "  'price': 12,\n",
       "  'quantity': 2,\n",
       "  'stockdata': [{'warehouse': 'A', 'instock': 120},\n",
       "   {'warehouse': 'B', 'instock': 60}]},\n",
       " {'_id': 2,\n",
       "  'item': 'pecans',\n",
       "  'price': 20,\n",
       "  'quantity': 1,\n",
       "  'stockdata': [{'warehouse': 'A', 'instock': 80}]},\n",
       " {'_id': 3, 'stockdata': []}]"
      ]
     },
     "execution_count": 136,
     "metadata": {},
     "output_type": "execute_result"
    }
   ],
   "source": [
    "list(db.reviewedorder.find())"
   ]
  },
  {
   "cell_type": "code",
   "execution_count": 46,
   "metadata": {},
   "outputs": [
    {
     "data": {
      "text/plain": [
       "[{'_id': 1,\n",
       "  'item': 'almonds',\n",
       "  'price': 12,\n",
       "  'quantity': 2,\n",
       "  'Stockdata': [{'warehouse': 'A', 'instock': 120},\n",
       "   {'warehouse': 'B', 'instock': 60}]},\n",
       " {'_id': 2,\n",
       "  'item': 'pecans',\n",
       "  'price': 20,\n",
       "  'quantity': 1,\n",
       "  'Stockdata': [{'warehouse': 'A', 'instock': 80}]},\n",
       " {'_id': 3, 'Stockdata': []}]"
      ]
     },
     "execution_count": 46,
     "metadata": {},
     "output_type": "execute_result"
    }
   ],
   "source": [
    "list(db.orders.aggregate([{\"$lookup\":{\n",
    "                   \"from\":\"warehouses\",\n",
    "                    \"let\":{\"orderitem\":\"$item\",\"order_qty\":\"$ordered\"},\n",
    "                     \"pipeline\":[{\n",
    "                         \"$match\":{\n",
    "                             \"$expr\":{\"$and\":[{\n",
    "                                 \"$eq\":[\"$stock_item\",\"$$orderitem\"]},\n",
    "                                  {\"$gte\":[\"$instock\",\"$$order_qty\"]}\n",
    "                             ]\n",
    "                             }\n",
    "                         }\n",
    "                     }\n",
    "                     ,{\"$project\":{\"_id\":0,\"stock_item\":0}}],\n",
    "                   \"as\":\"Stockdata\"\n",
    "}}]))"
   ]
  },
  {
   "cell_type": "markdown",
   "metadata": {},
   "source": [
    "<b>Use $lookup with mergeObjects</b>"
   ]
  },
  {
   "cell_type": "code",
   "execution_count": 70,
   "metadata": {},
   "outputs": [
    {
     "data": {
      "text/plain": [
       "'db.items.insert([\\n  { \"_id\" : 1, \"item\" : \"almonds\", \"description\": \"almond clusters\", \"instock\" : 120 },\\n  { \"_id\" : 2, \"item\" : \"bread\", \"description\": \"raisin and nut bread\", \"instock\" : 80 },\\n  { \"_id\" : 3, \"item\" : \"pecans\", \"description\": \"candied pecans\", \"instock\" : 60 }\\n])'"
      ]
     },
     "execution_count": 70,
     "metadata": {},
     "output_type": "execute_result"
    }
   ],
   "source": [
    "\"\"\"db.items.insert([\n",
    "  { \"_id\" : 1, \"item\" : \"almonds\", \"description\": \"almond clusters\", \"instock\" : 120 },\n",
    "  { \"_id\" : 2, \"item\" : \"bread\", \"description\": \"raisin and nut bread\", \"instock\" : 80 },\n",
    "  { \"_id\" : 3, \"item\" : \"pecans\", \"description\": \"candied pecans\", \"instock\" : 60 }\n",
    "])\"\"\""
   ]
  },
  {
   "cell_type": "code",
   "execution_count": 59,
   "metadata": {},
   "outputs": [
    {
     "data": {
      "text/plain": [
       "[{'_id': 1,\n",
       "  'item': 'almonds',\n",
       "  'description': 'almond clusters',\n",
       "  'instock': 120,\n",
       "  'price': 12,\n",
       "  'quantity': 2},\n",
       " {'_id': 2,\n",
       "  'item': 'pecans',\n",
       "  'description': 'candied pecans',\n",
       "  'instock': 60,\n",
       "  'price': 20,\n",
       "  'quantity': 1},\n",
       " {'_id': 3}]"
      ]
     },
     "execution_count": 59,
     "metadata": {},
     "output_type": "execute_result"
    }
   ],
   "source": [
    "list(db.orders.aggregate([\n",
    "   { \"$lookup\": {\n",
    "         \"from\": \"items\",\n",
    "         \"localField\": \"item\",    # field in the orders collection\n",
    "         \"foreignField\": \"item\",  # field in the items collection\n",
    "         \"as\": \"fromItems\"\n",
    "      }\n",
    "   },\n",
    "   {\"$replaceRoot\": {\"newRoot\": {\"$mergeObjects\": [ {\"$arrayElemAt\": [ \"$fromItems\", 0 ] }, \"$$ROOT\" ] } }\n",
    "   },\n",
    "   {\"$project\": { \"fromItems\": 0 } }\n",
    "]))"
   ]
  },
  {
   "cell_type": "markdown",
   "metadata": {},
   "source": [
    "<b>Use $lookup with an Array</b>"
   ]
  },
  {
   "cell_type": "code",
   "execution_count": 69,
   "metadata": {},
   "outputs": [
    {
     "data": {
      "text/plain": [
       "'\"db.classes.insert( [\\n   { \"_id\": 1, \"title\": \"Reading is ...\", \"enrollmentlist\": [ \"giraffe2\", \"pandabear\", \"artie\" ], \"days\": [\"M\", \"W\", \"F\"] },\\n   { \"_id\": 2, \"title\": \"But Writing ...\", \"enrollmentlist\": [ \"giraffe1\", \"artie\" ], \"days\": [\"T\", \"F\"] }\\n])'"
      ]
     },
     "execution_count": 69,
     "metadata": {},
     "output_type": "execute_result"
    }
   ],
   "source": [
    "\"\"\"\"db.classes.insert( [\n",
    "   { \"_id\": 1, \"title\": \"Reading is ...\", \"enrollmentlist\": [ \"giraffe2\", \"pandabear\", \"artie\" ], \"days\": [\"M\", \"W\", \"F\"] },\n",
    "   { \"_id\": 2, \"title\": \"But Writing ...\", \"enrollmentlist\": [ \"giraffe1\", \"artie\" ], \"days\": [\"T\", \"F\"] }\n",
    "])\"\"\""
   ]
  },
  {
   "cell_type": "code",
   "execution_count": 68,
   "metadata": {},
   "outputs": [
    {
     "data": {
      "text/plain": [
       "'db.members.insert_many( [\\n   { \"_id\": 1, \"name\": \"artie\", \"joined\": \"new Date()\", \"status\": \"A\" },\\n   { \"_id\": 2, \"name\": \"giraffe\",\"joined\": \"new Date()\", \"status\": \"D\" },\\n   { \"_id\": 3, \"name\": \"giraffe1\", \"joined\": \"new Date()\", \"status\": \"A\" },\\n   { \"_id\": 4, \"name\": \"panda\", \"joined\": \"new Date()\", \"status\": \"A\" },\\n   { \"_id\": 5, \"name\": \"pandabear\", \"joined\": \"new Date()\", \"status\": \"A\" },\\n   { \"_id\": 6, \"name\": \"giraffe2\", \"joined\": \"new Date()\", \"status\": \"D\" }\\n])'"
      ]
     },
     "execution_count": 68,
     "metadata": {},
     "output_type": "execute_result"
    }
   ],
   "source": [
    "\"\"\"db.members.insert_many( [\n",
    "   { \"_id\": 1, \"name\": \"artie\", \"joined\": \"new Date()\", \"status\": \"A\" },\n",
    "   { \"_id\": 2, \"name\": \"giraffe\",\"joined\": \"new Date()\", \"status\": \"D\" },\n",
    "   { \"_id\": 3, \"name\": \"giraffe1\", \"joined\": \"new Date()\", \"status\": \"A\" },\n",
    "   { \"_id\": 4, \"name\": \"panda\", \"joined\": \"new Date()\", \"status\": \"A\" },\n",
    "   { \"_id\": 5, \"name\": \"pandabear\", \"joined\": \"new Date()\", \"status\": \"A\" },\n",
    "   { \"_id\": 6, \"name\": \"giraffe2\", \"joined\": \"new Date()\", \"status\": \"D\" }\n",
    "])\"\"\""
   ]
  },
  {
   "cell_type": "code",
   "execution_count": 62,
   "metadata": {},
   "outputs": [],
   "source": [
    "results=db.classes.aggregate([\n",
    "   {\"$lookup\":\n",
    "         {\"from\": \"members\",\n",
    "            \"localField\": \"enrollmentlist\",\n",
    "            \"foreignField\": \"name\",\n",
    "            \"as\": \"enrollee_info\"\n",
    "        }\n",
    "   }\n",
    "])\n",
    "\n"
   ]
  },
  {
   "cell_type": "code",
   "execution_count": 67,
   "metadata": {},
   "outputs": [
    {
     "data": {
      "text/plain": [
       "[{'_id': 1,\n",
       "  'title': 'Reading is ...',\n",
       "  'enrollmentlist': ['giraffe2', 'pandabear', 'artie'],\n",
       "  'days': ['M', 'W', 'F'],\n",
       "  'enrollee_info': [{'_id': 1,\n",
       "    'name': 'artie',\n",
       "    'joined': 'new Date()',\n",
       "    'status': 'A'},\n",
       "   {'_id': 5, 'name': 'pandabear', 'joined': 'new Date()', 'status': 'A'},\n",
       "   {'_id': 6, 'name': 'giraffe2', 'joined': 'new Date()', 'status': 'D'}]},\n",
       " {'_id': 2,\n",
       "  'title': 'But Writing ...',\n",
       "  'enrollmentlist': ['giraffe1', 'artie'],\n",
       "  'days': ['T', 'F'],\n",
       "  'enrollee_info': [{'_id': 1,\n",
       "    'name': 'artie',\n",
       "    'joined': 'new Date()',\n",
       "    'status': 'A'},\n",
       "   {'_id': 3, 'name': 'giraffe1', 'joined': 'new Date()', 'status': 'A'}]}]"
      ]
     },
     "execution_count": 67,
     "metadata": {},
     "output_type": "execute_result"
    }
   ],
   "source": [
    "list(results)"
   ]
  },
  {
   "cell_type": "code",
   "execution_count": 49,
   "metadata": {},
   "outputs": [
    {
     "data": {
      "text/plain": [
       "[{'_id': 1,\n",
       "  'item': 'almonds',\n",
       "  'price': 12,\n",
       "  'quantity': 2,\n",
       "  'DataArray': [{'_id': 1,\n",
       "    'sku': 'almonds',\n",
       "    'description': 'product 1',\n",
       "    'instock': 120},\n",
       "   {'_id': 5, 'sku': 'almonds', 'description': 'Incomplete'}]},\n",
       " {'_id': 2,\n",
       "  'item': 'pecans',\n",
       "  'price': 20,\n",
       "  'quantity': 1,\n",
       "  'DataArray': [{'_id': 4,\n",
       "    'sku': 'pecans',\n",
       "    'description': 'product 4',\n",
       "    'instock': 70}]},\n",
       " {'_id': 3, 'DataArray': [{'_id': 6}]}]"
      ]
     },
     "execution_count": 49,
     "metadata": {},
     "output_type": "execute_result"
    }
   ],
   "source": [
    "list(db.orders.aggregate([{\"$lookup\":{\n",
    "                      \"from\":\"inventory\",\n",
    "                       \"localField\":\"item\",\n",
    "                       \"foreignField\":\"sku\",\n",
    "                        \"as\":\"DataArray\"\n",
    "}}]))"
   ]
  },
  {
   "cell_type": "code",
   "execution_count": 56,
   "metadata": {},
   "outputs": [
    {
     "data": {
      "text/plain": [
       "[{'_id': 1,\n",
       "  'item': 'almonds',\n",
       "  'price': 12,\n",
       "  'quantity': 2,\n",
       "  'New array': [{'warehouse': 'A', 'instock': 120},\n",
       "   {'warehouse': 'B', 'instock': 60}]},\n",
       " {'_id': 2,\n",
       "  'item': 'pecans',\n",
       "  'price': 20,\n",
       "  'quantity': 1,\n",
       "  'New array': [{'warehouse': 'A', 'instock': 80}]},\n",
       " {'_id': 3, 'New array': []}]"
      ]
     },
     "execution_count": 56,
     "metadata": {},
     "output_type": "execute_result"
    }
   ],
   "source": [
    "list(db.orders.aggregate([{\"$lookup\":{\n",
    "                     \"from\":'warehouses',\n",
    "                      \"let\":{\"order_items\":\"$item\",\"qty_ordered\":\"$ordered\"},\n",
    "                       \"pipeline\":[{\n",
    "                                    \"$match\":{\n",
    "                                        \"$expr\":{\n",
    "                                            \"$and\":[{\n",
    "                                                \"$eq\":[\"$stock_item\",\"$$order_items\"]},\n",
    "                                                {\"$gte\":[\"$instocK\",\"$$qty_ordered\"]}\n",
    "                                            ]}}},{\"$project\":{\"_id\":0,\"stock_item\":0}}],\"as\":\"New array\"}}]))\n",
    "                                        \n",
    "        "
   ]
  },
  {
   "cell_type": "code",
   "execution_count": null,
   "metadata": {},
   "outputs": [],
   "source": []
  }
 ],
 "metadata": {
  "kernelspec": {
   "display_name": "Python 3",
   "language": "python",
   "name": "python3"
  },
  "language_info": {
   "codemirror_mode": {
    "name": "ipython",
    "version": 3
   },
   "file_extension": ".py",
   "mimetype": "text/x-python",
   "name": "python",
   "nbconvert_exporter": "python",
   "pygments_lexer": "ipython3",
   "version": "3.8.5"
  }
 },
 "nbformat": 4,
 "nbformat_minor": 4
}
