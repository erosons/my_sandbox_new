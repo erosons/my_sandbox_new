{
 "cells": [
  {
   "cell_type": "code",
   "execution_count": 69,
   "metadata": {},
   "outputs": [],
   "source": [
    "import pprint\n",
    "import pymongo\n",
    "from pymongo import MongoClient\n",
    "from datetime import datetime\n",
    "client = MongoClient('mongodb://localhost:27017/')\n",
    "#client = MongoClient('localhost', 27017)"
   ]
  },
  {
   "cell_type": "code",
   "execution_count": 70,
   "metadata": {},
   "outputs": [
    {
     "name": "stdout",
     "output_type": "stream",
     "text": [
      "Connection has been made successfully\n"
     ]
    }
   ],
   "source": [
    "#To get a database instance\n",
    "db=client.mydb\n",
    "Collection=db.Studrecords\n",
    "print(\"Connection has been made successfully\")"
   ]
  },
  {
   "cell_type": "code",
   "execution_count": 185,
   "metadata": {},
   "outputs": [
    {
     "data": {
      "text/plain": [
       "<pymongo.results.InsertManyResult at 0x22772db4688>"
      ]
     },
     "execution_count": 185,
     "metadata": {},
     "output_type": "execute_result"
    }
   ],
   "source": [
    "post1=[{ \"Name\" : \"Jane\",\"LastName\":\"Dow\", \"profilecreated\" :datetime.now(), \"Score\": 4.2 },\\\n",
    "      { \"Name\" : \"Trump\",\"LastName\":\"Donald\", \"profilecreated\" : datetime(2008,11,12), \"Score\": 4.3 },\\\n",
    "      { \"Name\" : \"Biden\",\"LastName\":\"Jtestn\", \"profilecreated\" : datetime.now(), \"Score\": 4.65 },\\\n",
    "      { \"Name\" : \"Hillary\",\"LastName\":\"Cliton\", \"profilecreated\" : datetime(2005,1,1),\"Score\" : 3.5 },\\\n",
    "      { \"Name\" : \"Kamala\", \"LastName\":\"Harris\",\"profilecreated\" : datetime.now(), \"Score\" : 4.1 }\n",
    "     ]\n",
    "\n",
    "Collection.insert_many(post1)"
   ]
  },
  {
   "cell_type": "code",
   "execution_count": 188,
   "metadata": {},
   "outputs": [
    {
     "data": {
      "text/plain": [
       "{'_id': ObjectId('5fbf6a2828f23736d002a059'),\n",
       " 'Name': 'Kamala',\n",
       " 'LastName': 'Harris',\n",
       " 'profilecreated': datetime.datetime(2020, 11, 26, 2, 41, 12, 524000),\n",
       " 'Score': 4.1}"
      ]
     },
     "execution_count": 188,
     "metadata": {},
     "output_type": "execute_result"
    }
   ],
   "source": [
    "Collection.find_one({\"Name\":\"Kamala\"})"
   ]
  },
  {
   "cell_type": "code",
   "execution_count": 189,
   "metadata": {},
   "outputs": [
    {
     "name": "stderr",
     "output_type": "stream",
     "text": [
      "C:\\Users\\00936124\\AppData\\Local\\Programs\\Python\\Python37\\lib\\site-packages\\ipykernel_launcher.py:1: DeprecationWarning: count is deprecated. Use Collection.count_documents instead.\n",
      "  \"\"\"Entry point for launching an IPython kernel.\n"
     ]
    },
    {
     "data": {
      "text/plain": [
       "22"
      ]
     },
     "execution_count": 189,
     "metadata": {},
     "output_type": "execute_result"
    }
   ],
   "source": [
    "Collection.find({\"Score\":{\"$gt\":4.5}}).count()"
   ]
  },
  {
   "cell_type": "code",
   "execution_count": 190,
   "metadata": {},
   "outputs": [
    {
     "name": "stderr",
     "output_type": "stream",
     "text": [
      "C:\\Users\\00936124\\AppData\\Local\\Programs\\Python\\Python37\\lib\\site-packages\\ipykernel_launcher.py:1: DeprecationWarning: count is deprecated. Use Collection.count_documents instead.\n",
      "  \"\"\"Entry point for launching an IPython kernel.\n"
     ]
    },
    {
     "data": {
      "text/plain": [
       "28"
      ]
     },
     "execution_count": 190,
     "metadata": {},
     "output_type": "execute_result"
    }
   ],
   "source": [
    "Collection.find({\"Score\":{\"$nin\":[4.5,4.2]}}).count()"
   ]
  },
  {
   "cell_type": "code",
   "execution_count": 198,
   "metadata": {},
   "outputs": [
    {
     "name": "stdout",
     "output_type": "stream",
     "text": [
      "['Jane', 'Trump', 'Biden', 'Hillary', 'Kamala', 'Jane', 'Trump', 'Biden', 'Hillary', 'Kamala', 'Jane', 'Trump', 'Biden', 'Hillary', 'Kamala', 'Jane', 'Trump', 'Biden', 'Hillary', 'Kamala', 'Jane', 'Trump', 'Biden', 'Hillary', 'Kamala', 'Jane', 'Trump', 'Biden', 'Hillary', 'Kamala']\n"
     ]
    }
   ],
   "source": [
    "list=[]\n",
    "for students in Collection.find():\n",
    "    list.append(students[\"StudentsName\"])\n",
    "    \n",
    "print(list)"
   ]
  },
  {
   "cell_type": "markdown",
   "metadata": {},
   "source": [
    "<b>Update Modifiers</b>"
   ]
  },
  {
   "cell_type": "code",
   "execution_count": 199,
   "metadata": {},
   "outputs": [
    {
     "data": {
      "text/plain": [
       "<pymongo.results.UpdateResult at 0x22772df5548>"
      ]
     },
     "execution_count": 199,
     "metadata": {},
     "output_type": "execute_result"
    }
   ],
   "source": [
    "#An email update was done one the profile\n",
    "Collection.update_one({\"Name\":\"Hillary\"},{\"$set\":{\"email\":\"hillary@yahoo.com\"}})"
   ]
  },
  {
   "cell_type": "code",
   "execution_count": 200,
   "metadata": {},
   "outputs": [],
   "source": [
    "Collection.find_one({\"Name\":\"Hillary\"})"
   ]
  },
  {
   "cell_type": "code",
   "execution_count": 202,
   "metadata": {},
   "outputs": [],
   "source": [
    "#Update values of all score by Increment of Values 0.5\n",
    "Collection.update_many({},{\"$inc\":{\"Score\":0.5}})\n",
    "Collection.find_one({\"Name\":\"Jane\"})"
   ]
  },
  {
   "cell_type": "code",
   "execution_count": 205,
   "metadata": {},
   "outputs": [
    {
     "data": {
      "text/plain": [
       "{'_id': ObjectId('5fbf4a4928f23736d002a03a'),\n",
       " 'profilecreated': datetime.datetime(2020, 11, 26, 0, 25, 13, 606000),\n",
       " 'Score': 11.9,\n",
       " 'StudentsName': 'Jane',\n",
       " 'LastName': '$Name01'}"
      ]
     },
     "execution_count": 205,
     "metadata": {},
     "output_type": "execute_result"
    }
   ],
   "source": [
    "#renaming fields\n",
    "\n",
    "Collection.update_many({},{\"$rename\":{\"Name\":\"StudentsName\"}})\n",
    "Collection.find_one({\"StudentsName\":\"Jane\"})"
   ]
  },
  {
   "cell_type": "code",
   "execution_count": 206,
   "metadata": {},
   "outputs": [
    {
     "name": "stderr",
     "output_type": "stream",
     "text": [
      "C:\\Users\\00936124\\AppData\\Local\\Programs\\Python\\Python37\\lib\\site-packages\\ipykernel_launcher.py:1: DeprecationWarning: count is deprecated. Use Collection.count_documents instead.\n",
      "  \"\"\"Entry point for launching an IPython kernel.\n"
     ]
    },
    {
     "data": {
      "text/plain": [
       "30"
      ]
     },
     "execution_count": 206,
     "metadata": {},
     "output_type": "execute_result"
    }
   ],
   "source": [
    "Collection.find({\"StudentsName\":{\"$exists\":True}}).count()"
   ]
  },
  {
   "cell_type": "code",
   "execution_count": 207,
   "metadata": {},
   "outputs": [
    {
     "data": {
      "text/plain": [
       "<pymongo.results.UpdateResult at 0x22772c92e08>"
      ]
     },
     "execution_count": 207,
     "metadata": {},
     "output_type": "execute_result"
    }
   ],
   "source": [
    "import numpy as np\n",
    "import random\n",
    "Collection.update_one({\"Name\":\"Jane\"},{\"$push\":{\"setiments\":{\"nb\":random.randint(-5,5),\"svm\":random.randint(-5,5)}}})"
   ]
  },
  {
   "cell_type": "code",
   "execution_count": 208,
   "metadata": {},
   "outputs": [
    {
     "name": "stderr",
     "output_type": "stream",
     "text": [
      "C:\\Users\\00936124\\AppData\\Local\\Programs\\Python\\Python37\\lib\\site-packages\\ipykernel_launcher.py:8: DeprecationWarning: update is deprecated. Use replace_one, update_one or update_many instead.\n",
      "  \n"
     ]
    },
    {
     "data": {
      "text/plain": [
       "{'n': 1, 'nModified': 1, 'ok': 1.0, 'updatedExisting': True}"
      ]
     },
     "execution_count": 208,
     "metadata": {},
     "output_type": "execute_result"
    }
   ],
   "source": [
    "db.students.update(\n",
    "   {\"_id\": 5 },\n",
    "   {\n",
    "     \"$push\": {\n",
    "       \"quizzes\": {\n",
    "          \"$each\": [ { \"wk\": 5, \"score\": 8 }, { \"wk\": 6, \"score\": 7 }, { \"wk\": 7, \"score\": 6 } ],\n",
    "          \"$sort\": { \"score\": -1 },\n",
    "          \"$slice\": 3  # keeps the first three sorted elements\n",
    "       }\n",
    "     }\n",
    "   }\n",
    ")"
   ]
  },
  {
   "cell_type": "code",
   "execution_count": 209,
   "metadata": {},
   "outputs": [
    {
     "name": "stdout",
     "output_type": "stream",
     "text": [
      "{'_id': 5, 'quizzes': [{'wk': 1, 'score': 10}, {'wk': 2, 'score': 8}, {'wk': 5, 'score': 8}]}\n"
     ]
    }
   ],
   "source": [
    "for i in db.students.find():\n",
    "    print(i)"
   ]
  },
  {
   "cell_type": "markdown",
   "metadata": {},
   "source": [
    "<b> Working with Embedd DOcuments</b>"
   ]
  },
  {
   "cell_type": "code",
   "execution_count": 210,
   "metadata": {},
   "outputs": [
    {
     "data": {
      "text/plain": [
       "<pymongo.results.InsertOneResult at 0x22772c92e88>"
      ]
     },
     "execution_count": 210,
     "metadata": {},
     "output_type": "execute_result"
    }
   ],
   "source": [
    "Userprofile={\n",
    "    \"username\":\"Footuser\",\n",
    "    \"twitterhandle\":{\n",
    "        \"username\":\"Foottwitter\",\n",
    "         \"Pasoword\":\"scret\",\n",
    "          \"email\":\"twitter.com\"\n",
    "    },\n",
    "     \"facebook\":{\n",
    "         \"username\":\"Footfacebook\",\n",
    "         \"Pasoword\":\"scret\",\n",
    "         \"email\":\"facebook.com\"\n",
    "     },\n",
    "    \n",
    "    \"linkedIn\":{\n",
    "        \"username\":\"FootlinkedIn\",\n",
    "         \"Pasoword\":\"scret\",\n",
    "          \"email\":\"twitter.com\"\n",
    "    }\n",
    "}\n",
    "\n",
    "\n",
    "db.userprofile.insert_one(Userprofile)"
   ]
  },
  {
   "cell_type": "markdown",
   "metadata": {},
   "source": [
    "<b> Creating Embedd Document</b>"
   ]
  },
  {
   "cell_type": "code",
   "execution_count": 211,
   "metadata": {},
   "outputs": [
    {
     "data": {
      "text/plain": [
       "{'_id': ObjectId('5fbf60b128f23736d002a044'),\n",
       " 'username': 'Footuser',\n",
       " 'twitterhandle': {'username': 'Foottwitter',\n",
       "  'Pasoword': 'scret',\n",
       "  'email': 'twitter.com'},\n",
       " 'facebook': {'username': 'Samson',\n",
       "  'Pasoword': 'scret',\n",
       "  'email': 'facebook.com'},\n",
       " 'linkedIn': {'username': 'FootlinkedIn',\n",
       "  'Pasoword': 'scret',\n",
       "  'email': 'twitter.com'}}"
      ]
     },
     "execution_count": 211,
     "metadata": {},
     "output_type": "execute_result"
    }
   ],
   "source": [
    "\n",
    "db.userprofile.find_one()"
   ]
  },
  {
   "cell_type": "markdown",
   "metadata": {},
   "source": [
    "<b>Updating an embedd DOcuments</b>"
   ]
  },
  {
   "cell_type": "code",
   "execution_count": 212,
   "metadata": {},
   "outputs": [
    {
     "name": "stderr",
     "output_type": "stream",
     "text": [
      "C:\\Users\\00936124\\AppData\\Local\\Programs\\Python\\Python37\\lib\\site-packages\\ipykernel_launcher.py:1: DeprecationWarning: update is deprecated. Use replace_one, update_one or update_many instead.\n",
      "  \"\"\"Entry point for launching an IPython kernel.\n"
     ]
    },
    {
     "data": {
      "text/plain": [
       "{'n': 1, 'nModified': 1, 'ok': 1.0, 'updatedExisting': True}"
      ]
     },
     "execution_count": 212,
     "metadata": {},
     "output_type": "execute_result"
    }
   ],
   "source": [
    "db.userprofile.update({\"facebook.username\":\"Footfacebook\"},{\"$set\":{\"facebook.username\":\"Samson\"}})"
   ]
  },
  {
   "cell_type": "code",
   "execution_count": 213,
   "metadata": {},
   "outputs": [
    {
     "data": {
      "text/plain": [
       "{'_id': ObjectId('5fbf60b128f23736d002a044'),\n",
       " 'username': 'Footuser',\n",
       " 'twitterhandle': {'username': 'Foottwitter',\n",
       "  'Pasoword': 'scret',\n",
       "  'email': 'twitter.com'},\n",
       " 'facebook': {'username': 'Samson',\n",
       "  'Pasoword': 'scret',\n",
       "  'email': 'facebook.com'},\n",
       " 'linkedIn': {'username': 'FootlinkedIn',\n",
       "  'Pasoword': 'scret',\n",
       "  'email': 'twitter.com'}}"
      ]
     },
     "execution_count": 213,
     "metadata": {},
     "output_type": "execute_result"
    }
   ],
   "source": [
    "db.userprofile.find_one()"
   ]
  },
  {
   "cell_type": "markdown",
   "metadata": {},
   "source": [
    "<b> Creating and Using Indexes in pyMango</b>"
   ]
  },
  {
   "cell_type": "code",
   "execution_count": 214,
   "metadata": {},
   "outputs": [
    {
     "data": {
      "text/plain": [
       "{'queryPlanner': {'plannerVersion': 1,\n",
       "  'namespace': 'mydb.Studrecords',\n",
       "  'indexFilterSet': False,\n",
       "  'parsedQuery': {'Name': {'$eq': 'Jane'}},\n",
       "  'winningPlan': {'stage': 'COLLSCAN',\n",
       "   'filter': {'Name': {'$eq': 'Jane'}},\n",
       "   'direction': 'forward'},\n",
       "  'rejectedPlans': []},\n",
       " 'executionStats': {'executionSuccess': True,\n",
       "  'nReturned': 0,\n",
       "  'executionTimeMillis': 0,\n",
       "  'totalKeysExamined': 0,\n",
       "  'totalDocsExamined': 30,\n",
       "  'executionStages': {'stage': 'COLLSCAN',\n",
       "   'filter': {'Name': {'$eq': 'Jane'}},\n",
       "   'nReturned': 0,\n",
       "   'executionTimeMillisEstimate': 0,\n",
       "   'works': 32,\n",
       "   'advanced': 0,\n",
       "   'needTime': 31,\n",
       "   'needYield': 0,\n",
       "   'saveState': 0,\n",
       "   'restoreState': 0,\n",
       "   'isEOF': 1,\n",
       "   'direction': 'forward',\n",
       "   'docsExamined': 30},\n",
       "  'allPlansExecution': []},\n",
       " 'serverInfo': {'host': 'WS1123',\n",
       "  'port': 27017,\n",
       "  'version': '4.4.2',\n",
       "  'gitVersion': '15e73dc5738d2278b688f8929aee605fe4279b0e'},\n",
       " 'ok': 1.0}"
      ]
     },
     "execution_count": 214,
     "metadata": {},
     "output_type": "execute_result"
    }
   ],
   "source": [
    "Collection.find({\"Name\":\"Jane\"}).explain()"
   ]
  },
  {
   "cell_type": "code",
   "execution_count": 220,
   "metadata": {},
   "outputs": [
    {
     "data": {
      "text/plain": [
       "'StudentsName_1_LastName_-1'"
      ]
     },
     "execution_count": 220,
     "metadata": {},
     "output_type": "execute_result"
    }
   ],
   "source": [
    "from pymongo import ASCENDING,DESCENDING\n",
    "#Creating a compound index\n",
    "Collection.create_index([(\"StudentsName\",ASCENDING),(\"LastName\",DESCENDING)])"
   ]
  },
  {
   "cell_type": "code",
   "execution_count": 221,
   "metadata": {},
   "outputs": [
    {
     "data": {
      "text/plain": [
       "{'queryPlanner': {'plannerVersion': 1,\n",
       "  'namespace': 'mydb.Studrecords',\n",
       "  'indexFilterSet': False,\n",
       "  'parsedQuery': {'StudentsName': {'$eq': 'Jane'}},\n",
       "  'winningPlan': {'stage': 'FETCH',\n",
       "   'inputStage': {'stage': 'IXSCAN',\n",
       "    'keyPattern': {'StudentsName': 1, 'LastName': -1},\n",
       "    'indexName': 'StudentsName_1_LastName_-1',\n",
       "    'isMultiKey': False,\n",
       "    'multiKeyPaths': {'StudentsName': [], 'LastName': []},\n",
       "    'isUnique': False,\n",
       "    'isSparse': False,\n",
       "    'isPartial': False,\n",
       "    'indexVersion': 2,\n",
       "    'direction': 'forward',\n",
       "    'indexBounds': {'StudentsName': ['[\"Jane\", \"Jane\"]'],\n",
       "     'LastName': ['[MaxKey, MinKey]']}}},\n",
       "  'rejectedPlans': []},\n",
       " 'executionStats': {'executionSuccess': True,\n",
       "  'nReturned': 6,\n",
       "  'executionTimeMillis': 10,\n",
       "  'totalKeysExamined': 6,\n",
       "  'totalDocsExamined': 6,\n",
       "  'executionStages': {'stage': 'FETCH',\n",
       "   'nReturned': 6,\n",
       "   'executionTimeMillisEstimate': 0,\n",
       "   'works': 7,\n",
       "   'advanced': 6,\n",
       "   'needTime': 0,\n",
       "   'needYield': 0,\n",
       "   'saveState': 0,\n",
       "   'restoreState': 0,\n",
       "   'isEOF': 1,\n",
       "   'docsExamined': 6,\n",
       "   'alreadyHasObj': 0,\n",
       "   'inputStage': {'stage': 'IXSCAN',\n",
       "    'nReturned': 6,\n",
       "    'executionTimeMillisEstimate': 0,\n",
       "    'works': 7,\n",
       "    'advanced': 6,\n",
       "    'needTime': 0,\n",
       "    'needYield': 0,\n",
       "    'saveState': 0,\n",
       "    'restoreState': 0,\n",
       "    'isEOF': 1,\n",
       "    'keyPattern': {'StudentsName': 1, 'LastName': -1},\n",
       "    'indexName': 'StudentsName_1_LastName_-1',\n",
       "    'isMultiKey': False,\n",
       "    'multiKeyPaths': {'StudentsName': [], 'LastName': []},\n",
       "    'isUnique': False,\n",
       "    'isSparse': False,\n",
       "    'isPartial': False,\n",
       "    'indexVersion': 2,\n",
       "    'direction': 'forward',\n",
       "    'indexBounds': {'StudentsName': ['[\"Jane\", \"Jane\"]'],\n",
       "     'LastName': ['[MaxKey, MinKey]']},\n",
       "    'keysExamined': 6,\n",
       "    'seeks': 1,\n",
       "    'dupsTested': 0,\n",
       "    'dupsDropped': 0}},\n",
       "  'allPlansExecution': []},\n",
       " 'serverInfo': {'host': 'WS1123',\n",
       "  'port': 27017,\n",
       "  'version': '4.4.2',\n",
       "  'gitVersion': '15e73dc5738d2278b688f8929aee605fe4279b0e'},\n",
       " 'ok': 1.0}"
      ]
     },
     "execution_count": 221,
     "metadata": {},
     "output_type": "execute_result"
    }
   ],
   "source": [
    "Collection.find({\"StudentsName\":\"Jane\"}).explain()"
   ]
  },
  {
   "cell_type": "code",
   "execution_count": null,
   "metadata": {},
   "outputs": [],
   "source": []
  }
 ],
 "metadata": {
  "kernelspec": {
   "display_name": "Python 3",
   "language": "python",
   "name": "python3"
  },
  "language_info": {
   "codemirror_mode": {
    "name": "ipython",
    "version": 3
   },
   "file_extension": ".py",
   "mimetype": "text/x-python",
   "name": "python",
   "nbconvert_exporter": "python",
   "pygments_lexer": "ipython3",
   "version": "3.8.5"
  }
 },
 "nbformat": 4,
 "nbformat_minor": 4
}
