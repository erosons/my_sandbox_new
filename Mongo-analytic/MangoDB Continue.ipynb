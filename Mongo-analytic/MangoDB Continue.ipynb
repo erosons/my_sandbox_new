{
 "cells": [
  {
   "cell_type": "code",
   "execution_count": 186,
   "metadata": {},
   "outputs": [],
   "source": [
    "import pprint\n",
    "import pymongo\n",
    "from pymongo import MongoClient,GEO2D,GEOSPHERE,InsertOne, DeleteOne, ReplaceOne\n",
    "from datetime import datetime,time\n",
    "from bson.son import SON\n",
    "from collections import OrderedDict\n",
    "client = MongoClient('mongodb://localhost:27017/')\n",
    "#client = MongoClient('localhost', 27017)"
   ]
  },
  {
   "cell_type": "markdown",
   "metadata": {},
   "source": [
    "<b>Creating and working with GeoSpatial Index </b>"
   ]
  },
  {
   "cell_type": "code",
   "execution_count": 187,
   "metadata": {},
   "outputs": [],
   "source": [
    "db=client.mydb"
   ]
  },
  {
   "cell_type": "code",
   "execution_count": 188,
   "metadata": {},
   "outputs": [],
   "source": [
    "Collections=db.geolocations"
   ]
  },
  {
   "cell_type": "markdown",
   "metadata": {},
   "source": [
    "<b> 2D INDEXES </b>"
   ]
  },
  {
   "cell_type": "code",
   "execution_count": 189,
   "metadata": {},
   "outputs": [
    {
     "data": {
      "text/plain": [
       "<pymongo.results.InsertManyResult at 0x239bf4b6988>"
      ]
     },
     "execution_count": 189,
     "metadata": {},
     "output_type": "execute_result"
    }
   ],
   "source": [
    "Collections.insert_many([{\"Resturant\":\"raising_caine\",\"address\":\"Westheimer\",\"loc\":[45,78]},\n",
    "                   {\"Resturant\":\"Chickafilla\",\"address\":\"place\"\"West_bellfort\",\"loc\":[14,45]},\n",
    "                   {\"Resturant\":\"Mc_Donald\",\"address\":\"stafford\",\"loc\":[49,72]},\n",
    "                   {\"Resturant\":\"Ceasar\",\"address\":\"Beechnut\",\"loc\":[87,75]}\n",
    "                        ])"
   ]
  },
  {
   "cell_type": "code",
   "execution_count": 190,
   "metadata": {},
   "outputs": [
    {
     "data": {
      "text/plain": [
       "{'_id': ObjectId('5fbfdd96fc872af180c549c8'),\n",
       " 'Resturant': 'Ceasar',\n",
       " 'address': 'Beechnut',\n",
       " 'loc': [87, 75]}"
      ]
     },
     "execution_count": 190,
     "metadata": {},
     "output_type": "execute_result"
    }
   ],
   "source": [
    "Collections.find_one({\"Resturant\":\"Ceasar\"})"
   ]
  },
  {
   "cell_type": "code",
   "execution_count": 191,
   "metadata": {},
   "outputs": [
    {
     "data": {
      "text/plain": [
       "{'_id': ObjectId('5fbfdd96fc872af180c549c8'),\n",
       " 'Resturant': 'Ceasar',\n",
       " 'address': 'Beechnut',\n",
       " 'loc': [87, 75]}"
      ]
     },
     "execution_count": 191,
     "metadata": {},
     "output_type": "execute_result"
    }
   ],
   "source": [
    "Collections.find_one({\"Resturant\":\"Ceasar\"})"
   ]
  },
  {
   "cell_type": "code",
   "execution_count": 192,
   "metadata": {},
   "outputs": [
    {
     "data": {
      "text/plain": [
       "<pymongo.cursor.Cursor at 0x239bf7f7e48>"
      ]
     },
     "execution_count": 192,
     "metadata": {},
     "output_type": "execute_result"
    }
   ],
   "source": [
    "Collections.find({\"Resturant\":\"Ceasar\"})"
   ]
  },
  {
   "cell_type": "code",
   "execution_count": 193,
   "metadata": {},
   "outputs": [
    {
     "data": {
      "text/plain": [
       "'loc_2d'"
      ]
     },
     "execution_count": 193,
     "metadata": {},
     "output_type": "execute_result"
    }
   ],
   "source": [
    "#Creating a Geo2d which use for flat location points\n",
    "\n",
    "Collections.create_index([(\"loc\",GEO2D)])"
   ]
  },
  {
   "cell_type": "code",
   "execution_count": 194,
   "metadata": {},
   "outputs": [
    {
     "name": "stdout",
     "output_type": "stream",
     "text": [
      "{'Resturant': 'raising_caine',\n",
      " '_id': ObjectId('5fbfdd96fc872af180c549c5'),\n",
      " 'address': 'Westheimer',\n",
      " 'loc': [45, 78]}\n"
     ]
    }
   ],
   "source": [
    "pprint.pprint(Collections.find_one({\"loc\":{\"$near\":[45,78]}}))"
   ]
  },
  {
   "cell_type": "code",
   "execution_count": 195,
   "metadata": {},
   "outputs": [
    {
     "name": "stdout",
     "output_type": "stream",
     "text": [
      "{'_id': ObjectId('5fbfdd96fc872af180c549c5'), 'Resturant': 'raising_caine', 'address': 'Westheimer', 'loc': [45, 78]}\n",
      "{'_id': ObjectId('5fbfde0afc872af180c549ce'), 'Resturant': 'raising_caine', 'address': 'Westheimer', 'loc': [45, 78]}\n",
      "{'_id': ObjectId('5fbff4f7fc872af180c549e7'), 'Resturant': 'raising_caine', 'address': 'Westheimer', 'loc': [45, 78]}\n"
     ]
    }
   ],
   "source": [
    "# The SON/OrederDict is use to order the dictionary\n",
    "\n",
    "for loc in Collections.find({\"loc\":OrderedDict([(\"$near\",[45,78]),(\"$maxDistance\",5)])}).limit(3):\n",
    "    print(loc)"
   ]
  },
  {
   "cell_type": "code",
   "execution_count": 196,
   "metadata": {},
   "outputs": [
    {
     "data": {
      "text/plain": [
       "{'_id': ObjectId('5fbfdd96fc872af180c549c5'),\n",
       " 'Resturant': 'raising_caine',\n",
       " 'address': 'Westheimer',\n",
       " 'loc': [45, 78]}"
      ]
     },
     "execution_count": 196,
     "metadata": {},
     "output_type": "execute_result"
    }
   ],
   "source": [
    "Collections.find_one(\n",
    "   {\"loc\" : {\"$near\" : [ 45, 78 ], \"$maxDistance\": 0.10 } }\n",
    ")"
   ]
  },
  {
   "cell_type": "markdown",
   "metadata": {},
   "source": [
    "<b> Coordinating Lying Within a Boundary</b>"
   ]
  },
  {
   "cell_type": "code",
   "execution_count": 197,
   "metadata": {},
   "outputs": [
    {
     "data": {
      "text/plain": [
       "{'_id': ObjectId('5fbfdd96fc872af180c549c6'),\n",
       " 'Resturant': 'Chickafilla',\n",
       " 'address': 'placeWest_bellfort',\n",
       " 'loc': [14, 45]}"
      ]
     },
     "execution_count": 197,
     "metadata": {},
     "output_type": "execute_result"
    }
   ],
   "source": [
    "# Find a location with in a defined Box\n",
    "Collections.find_one({\n",
    "  \"loc\": {\n",
    "     \"$geoWithin\": {\n",
    "       \"$box\": [[0,0],[100,100]]\n",
    "     }\n",
    "  }\n",
    "})"
   ]
  },
  {
   "cell_type": "code",
   "execution_count": 198,
   "metadata": {},
   "outputs": [
    {
     "data": {
      "text/plain": [
       "{'_id': ObjectId('5fbfdd96fc872af180c549c7'),\n",
       " 'Resturant': 'Mc_Donald',\n",
       " 'address': 'stafford',\n",
       " 'loc': [49, 72]}"
      ]
     },
     "execution_count": 198,
     "metadata": {},
     "output_type": "execute_result"
    }
   ],
   "source": [
    "# Find a location within a defined Center\n",
    "Collections.find_one(\n",
    "   { \"loc\": {\"$geoWithin\": {\"$center\": [ [45, 78], 10 ] } } }\n",
    ")"
   ]
  },
  {
   "cell_type": "code",
   "execution_count": 199,
   "metadata": {},
   "outputs": [
    {
     "data": {
      "text/plain": [
       "{'_id': ObjectId('5fbfdd96fc872af180c549c7'),\n",
       " 'Resturant': 'Mc_Donald',\n",
       " 'address': 'stafford',\n",
       " 'loc': [49, 72]}"
      ]
     },
     "execution_count": 199,
     "metadata": {},
     "output_type": "execute_result"
    }
   ],
   "source": [
    "# Find a location within a defined Center\n",
    "Collections.find_one(\n",
    "   { \"loc\": {\"$geoWithin\": {\"$center\": [ [45, 78], 10 ] } } }\n",
    ")"
   ]
  },
  {
   "cell_type": "markdown",
   "metadata": {},
   "source": [
    "<b> 2D INDEXES SPHERE </b>\n",
    "\n",
    "A 2dsphere index supports queries that calculate geometries on an earth-like sphere. 2dsphere index supports"
   ]
  },
  {
   "cell_type": "code",
   "execution_count": 200,
   "metadata": {},
   "outputs": [
    {
     "name": "stderr",
     "output_type": "stream",
     "text": [
      "C:\\Users\\00936124\\AppData\\Local\\Programs\\Python\\Python37\\lib\\site-packages\\ipykernel_launcher.py:5: DeprecationWarning: insert is deprecated. Use insert_one or insert_many instead.\n",
      "  \"\"\"\n",
      "C:\\Users\\00936124\\AppData\\Local\\Programs\\Python\\Python37\\lib\\site-packages\\ipykernel_launcher.py:13: DeprecationWarning: insert is deprecated. Use insert_one or insert_many instead.\n",
      "  del sys.path[0]\n"
     ]
    },
    {
     "data": {
      "text/plain": [
       "ObjectId('5fc02638fc872af180c549f4')"
      ]
     },
     "execution_count": 200,
     "metadata": {},
     "output_type": "execute_result"
    }
   ],
   "source": [
    "db.Collection2.insert(\n",
    "   {\n",
    "      \"loc\" : { \"type\": \"Point\", \"coordinates\": [ -73.97, 40.77 ] },\n",
    "      \"name\": \"Central Park\",\n",
    "      \"category\" : \"Parks\"\n",
    "   }\n",
    ")\n",
    "\n",
    "db.Collection2.insert(\n",
    "   {\n",
    "      \"loc\" : { \"type\": \"Point\", \"coordinates\": [ -73.88, 40.78 ] },\n",
    "      \"name\": \"La Guardia Airport\",\n",
    "      \"category\" : \"Airport\"\n",
    "   }\n",
    ")"
   ]
  },
  {
   "cell_type": "code",
   "execution_count": 201,
   "metadata": {},
   "outputs": [
    {
     "name": "stderr",
     "output_type": "stream",
     "text": [
      "C:\\Users\\00936124\\AppData\\Local\\Programs\\Python\\Python37\\lib\\site-packages\\ipykernel_launcher.py:5: DeprecationWarning: insert is deprecated. Use insert_one or insert_many instead.\n",
      "  \"\"\"\n"
     ]
    },
    {
     "data": {
      "text/plain": [
       "ObjectId('5fc02639fc872af180c549f5')"
      ]
     },
     "execution_count": 201,
     "metadata": {},
     "output_type": "execute_result"
    }
   ],
   "source": [
    "db.Collection2.insert(\n",
    "   {\n",
    "      \"loc\" : { \"type\": \"Point\", \"coordinates\": [ -73.88, 40.78 ] },\n",
    "      \"name\": \"La Guardia Airport\",\n",
    "      \"category\" : \"Airport\"\n",
    "   }\n",
    ")"
   ]
  },
  {
   "cell_type": "code",
   "execution_count": 202,
   "metadata": {},
   "outputs": [
    {
     "data": {
      "text/plain": [
       "[{'_id': ObjectId('5fbff411fc872af180c549e2'),\n",
       "  'loc': {'type': 'Point', 'coordinates': [-73.97, 40.77]},\n",
       "  'name': 'Central Park',\n",
       "  'category': 'Parks'},\n",
       " {'_id': ObjectId('5fbff483fc872af180c549e5'),\n",
       "  'loc': {'type': 'Point', 'coordinates': [-73.88, 40.78]},\n",
       "  'name': 'La Guardia Airport',\n",
       "  'category': 'Airport'},\n",
       " {'_id': ObjectId('5fbff4fafc872af180c549eb'),\n",
       "  'loc': {'type': 'Point', 'coordinates': [-73.97, 40.77]},\n",
       "  'name': 'Central Park',\n",
       "  'category': 'Parks'},\n",
       " {'_id': ObjectId('5fbff4fafc872af180c549ec'),\n",
       "  'loc': {'type': 'Point', 'coordinates': [-73.88, 40.78]},\n",
       "  'name': 'La Guardia Airport',\n",
       "  'category': 'Airport'},\n",
       " {'_id': ObjectId('5fbff4fafc872af180c549ed'),\n",
       "  'loc': {'type': 'Point', 'coordinates': [-73.88, 40.78]},\n",
       "  'name': 'La Guardia Airport',\n",
       "  'category': 'Airport'},\n",
       " {'_id': ObjectId('5fc01fe91e3e277019e355b6'),\n",
       "  'Name': 'Deer Park',\n",
       "  'category': 'Park',\n",
       "  'loc': {'type': 'Point', 'coordinates': [-73.88, 40.78]}},\n",
       " {'_id': ObjectId('5fc02638fc872af180c549f3'),\n",
       "  'loc': {'type': 'Point', 'coordinates': [-73.97, 40.77]},\n",
       "  'name': 'Central Park',\n",
       "  'category': 'Parks'},\n",
       " {'_id': ObjectId('5fc02638fc872af180c549f4'),\n",
       "  'loc': {'type': 'Point', 'coordinates': [-73.88, 40.78]},\n",
       "  'name': 'La Guardia Airport',\n",
       "  'category': 'Airport'},\n",
       " {'_id': ObjectId('5fc02639fc872af180c549f5'),\n",
       "  'loc': {'type': 'Point', 'coordinates': [-73.88, 40.78]},\n",
       "  'name': 'La Guardia Airport',\n",
       "  'category': 'Airport'}]"
      ]
     },
     "execution_count": 202,
     "metadata": {},
     "output_type": "execute_result"
    }
   ],
   "source": [
    "list(db.Collection2.find())"
   ]
  },
  {
   "cell_type": "markdown",
   "metadata": {},
   "source": [
    "<b>Creating Index </b>"
   ]
  },
  {
   "cell_type": "code",
   "execution_count": 203,
   "metadata": {},
   "outputs": [
    {
     "data": {
      "text/plain": [
       "'loc_2dsphere'"
      ]
     },
     "execution_count": 203,
     "metadata": {},
     "output_type": "execute_result"
    }
   ],
   "source": [
    "db.Collection2.create_index([(\"loc\",GEOSPHERE)])"
   ]
  },
  {
   "cell_type": "code",
   "execution_count": 204,
   "metadata": {},
   "outputs": [
    {
     "name": "stdout",
     "output_type": "stream",
     "text": [
      "{'_id': ObjectId('5fbff483fc872af180c549e5'), 'loc': {'type': 'Point', 'coordinates': [-73.88, 40.78]}, 'name': 'La Guardia Airport', 'category': 'Airport'}\n",
      "{'_id': ObjectId('5fbff4fafc872af180c549ed'), 'loc': {'type': 'Point', 'coordinates': [-73.88, 40.78]}, 'name': 'La Guardia Airport', 'category': 'Airport'}\n",
      "{'_id': ObjectId('5fc01fe91e3e277019e355b6'), 'Name': 'Deer Park', 'category': 'Park', 'loc': {'type': 'Point', 'coordinates': [-73.88, 40.78]}}\n",
      "{'_id': ObjectId('5fc02639fc872af180c549f5'), 'loc': {'type': 'Point', 'coordinates': [-73.88, 40.78]}, 'name': 'La Guardia Airport', 'category': 'Airport'}\n",
      "{'_id': ObjectId('5fbff4fafc872af180c549ec'), 'loc': {'type': 'Point', 'coordinates': [-73.88, 40.78]}, 'name': 'La Guardia Airport', 'category': 'Airport'}\n",
      "{'_id': ObjectId('5fc02638fc872af180c549f4'), 'loc': {'type': 'Point', 'coordinates': [-73.88, 40.78]}, 'name': 'La Guardia Airport', 'category': 'Airport'}\n",
      "{'_id': ObjectId('5fc02638fc872af180c549f3'), 'loc': {'type': 'Point', 'coordinates': [-73.97, 40.77]}, 'name': 'Central Park', 'category': 'Parks'}\n",
      "{'_id': ObjectId('5fbff4fafc872af180c549eb'), 'loc': {'type': 'Point', 'coordinates': [-73.97, 40.77]}, 'name': 'Central Park', 'category': 'Parks'}\n",
      "{'_id': ObjectId('5fbff411fc872af180c549e2'), 'loc': {'type': 'Point', 'coordinates': [-73.97, 40.77]}, 'name': 'Central Park', 'category': 'Parks'}\n"
     ]
    }
   ],
   "source": [
    "for i in db.Collection2.find( {\"loc\" :\n",
    "                         SON([(\"$near\",\n",
    "                           { \"$geometry\" :\n",
    "                             SON([(\"type\", \"Point\") ,\n",
    "                               (\"coordinates\", [-73.01, 40.1])])})])}):\n",
    "    print(i)"
   ]
  },
  {
   "cell_type": "markdown",
   "metadata": {},
   "source": [
    "<b>Upserting</b>\n",
    "\n",
    "With the upsert option set to true, if no matching documents exist for the Bulk.find() condition,\n",
    "then the update or the replacement operation performs an insert. If a matching document does exist, then the update or \n",
    "replacement operation performs the specified update or replacement."
   ]
  },
  {
   "cell_type": "code",
   "execution_count": 230,
   "metadata": {},
   "outputs": [
    {
     "data": {
      "text/plain": [
       "<pymongo.results.BulkWriteResult at 0x239b9761a08>"
      ]
     },
     "execution_count": 230,
     "metadata": {},
     "output_type": "execute_result"
    }
   ],
   "source": [
    "requests = [InsertOne({\"loc\":{ \"type\": \"Point\", \"coordinates\": [ -73.89, 50.78 ] },\"Name\": \"pasadena Park\",\\\n",
    "                       \"category\":\"Park\"}),ReplaceOne({'Name':\"Deer Park\"}, {\"Name\":'Downtown Park'}, upsert=True)]\n",
    "\n",
    "db.Collection2.bulk_write(requests,ordered=True) \n"
   ]
  },
  {
   "cell_type": "code",
   "execution_count": 231,
   "metadata": {},
   "outputs": [
    {
     "name": "stdout",
     "output_type": "stream",
     "text": [
      "{'_id': ObjectId('5fc03f69fc872af180c54a03'), 'loc': {'type': 'Point', 'coordinates': [-73.89, 50.78]}, 'Name': 'pasadena Park', 'category': 'Park'}\n",
      "{'_id': ObjectId('5fc03f691e3e277019e38763'), 'Name': 'Downtown Park'}\n"
     ]
    }
   ],
   "source": [
    "for i in db.Collection2.find():\n",
    "    print(i)"
   ]
  },
  {
   "cell_type": "code",
   "execution_count": 207,
   "metadata": {},
   "outputs": [],
   "source": [
    "db=client.db\n",
    "Students=db.cStudents"
   ]
  },
  {
   "cell_type": "code",
   "execution_count": 209,
   "metadata": {},
   "outputs": [
    {
     "data": {
      "text/plain": [
       "{'_id': ObjectId('5fbd61ede6c5176e25b21d18'),\n",
       " 'i': 2.0,\n",
       " 'age': 1.0,\n",
       " 'username': 'user2'}"
      ]
     },
     "execution_count": 209,
     "metadata": {},
     "output_type": "execute_result"
    }
   ],
   "source": [
    "Students.find_one()"
   ]
  },
  {
   "cell_type": "code",
   "execution_count": 216,
   "metadata": {},
   "outputs": [
    {
     "name": "stderr",
     "output_type": "stream",
     "text": [
      "C:\\Users\\00936124\\AppData\\Local\\Programs\\Python\\Python37\\lib\\site-packages\\ipykernel_launcher.py:2: DeprecationWarning: initialize_ordered_bulk_op is deprecated\n",
      "  \n"
     ]
    }
   ],
   "source": [
    "#Bulikng insertion\n",
    "bulk = Students.initialize_ordered_bulk_op()\n",
    "bulk.find({\"i\": 2.0 } ).upsert().update({\"$inc\": {\"i\": 5,\"age\":10}});\n",
    "bulk.execute();"
   ]
  },
  {
   "cell_type": "code",
   "execution_count": 217,
   "metadata": {},
   "outputs": [
    {
     "data": {
      "text/plain": [
       "{'_id': ObjectId('5fbd61ede6c5176e25b21d18'),\n",
       " 'i': 7.0,\n",
       " 'age': 11.0,\n",
       " 'username': 'user2'}"
      ]
     },
     "execution_count": 217,
     "metadata": {},
     "output_type": "execute_result"
    }
   ],
   "source": [
    "Students.find_one()"
   ]
  },
  {
   "cell_type": "markdown",
   "metadata": {},
   "source": [
    "<b>#Catching and Error</b>"
   ]
  },
  {
   "cell_type": "code",
   "execution_count": 233,
   "metadata": {},
   "outputs": [
    {
     "name": "stderr",
     "output_type": "stream",
     "text": [
      "C:\\Users\\00936124\\AppData\\Local\\Programs\\Python\\Python37\\lib\\site-packages\\ipykernel_launcher.py:3: DeprecationWarning: initialize_unordered_bulk_op is deprecated\n",
      "  This is separate from the ipykernel package so we can avoid doing imports until\n"
     ]
    }
   ],
   "source": [
    "\n",
    "from pymongo.errors import BulkWriteError\n",
    "\n",
    "bulk = Students.initialize_unordered_bulk_op()\n",
    "bulk.insert({\"i\":1001})\n",
    "bulk.insert({\"i\":1002})\n",
    "bulk.find({\"i\":2}).remove_one()\n",
    "bulk.find({\"i\":7.0}).replace_one({\"i\":1001})\n",
    "           \n",
    "try:\n",
    "    bulk.execute({\"w\":1,\"wtimeout\":1})\n",
    "except BulkWriteError as bwe:\n",
    "    print(bwe.deatils)"
   ]
  },
  {
   "cell_type": "markdown",
   "metadata": {},
   "source": [
    "<b> Using GridFS</b>"
   ]
  },
  {
   "cell_type": "code",
   "execution_count": 253,
   "metadata": {},
   "outputs": [
    {
     "name": "stdout",
     "output_type": "stream",
     "text": [
      "b'test_image.jpg'\n"
     ]
    }
   ],
   "source": [
    "import gridfs\n",
    "fs=gridfs.GridFS(db)\n",
    "mymusic=fs.put(b\"test_image.jpg\")\n",
    "\n",
    "# \n",
    "res=fs.get(mymusic).read()\n",
    "print(res)"
   ]
  },
  {
   "cell_type": "code",
   "execution_count": 256,
   "metadata": {},
   "outputs": [
    {
     "name": "stdout",
     "output_type": "stream",
     "text": [
      "<gridfs.grid_file.GridOut object at 0x00000239C0C96648>\n"
     ]
    }
   ],
   "source": [
    "b = fs.put(fs.get(mymusic), filename=\"foo\", bar=\"baz\")\n",
    "out = fs.get(b)\n",
    "print(out)"
   ]
  },
  {
   "cell_type": "code",
   "execution_count": 257,
   "metadata": {},
   "outputs": [
    {
     "data": {
      "text/plain": [
       "'foo'"
      ]
     },
     "execution_count": 257,
     "metadata": {},
     "output_type": "execute_result"
    }
   ],
   "source": [
    "out.filename"
   ]
  },
  {
   "cell_type": "code",
   "execution_count": 258,
   "metadata": {},
   "outputs": [
    {
     "data": {
      "text/plain": [
       "datetime.datetime(2020, 11, 27, 0, 48, 57, 420000)"
      ]
     },
     "execution_count": 258,
     "metadata": {},
     "output_type": "execute_result"
    }
   ],
   "source": [
    "out.upload_date"
   ]
  },
  {
   "cell_type": "markdown",
   "metadata": {},
   "source": [
    "<b> Better Explanation of GridFs</b>"
   ]
  },
  {
   "cell_type": "code",
   "execution_count": 305,
   "metadata": {},
   "outputs": [
    {
     "name": "stdout",
     "output_type": "stream",
     "text": [
      "438393593\n"
     ]
    }
   ],
   "source": [
    "import os\n",
    "fileID=print(os.path.getsize(r\"C:\\Users\\c_seromonsei\\Pricing Review.mp4\"))"
   ]
  },
  {
   "cell_type": "code",
   "execution_count": 308,
   "metadata": {},
   "outputs": [],
   "source": [
    "#Putting and getting the it into db the GridFS split file into Chunks fs.Chunks,fs.files\n",
    "meetvideos=fs.put(b\"C:\\Users\\c_seromonsei\\Pricing Review.mp4\")\n",
    "out = fs.get(meetvideos).read()"
   ]
  },
  {
   "cell_type": "code",
   "execution_count": 344,
   "metadata": {},
   "outputs": [
    {
     "name": "stdout",
     "output_type": "stream",
     "text": [
      "b'C:\\\\Users\\\\c_seromonsei\\\\Pricing Review.mp4' meetvideos 2020-11-27 02:14:05.650000 40\n"
     ]
    }
   ],
   "source": [
    "b = fs.put(b\"C:\\Users\\c_seromonsei\\Pricing Review.mp4\", filename=\"meetvideos\")\n",
    "out = fs.get(b)\n",
    "print(out.read(),out.filename,out.uploadDate,out.length)"
   ]
  },
  {
   "cell_type": "code",
   "execution_count": 325,
   "metadata": {},
   "outputs": [],
   "source": [
    "#res=fs.get(fs.put(b\"C:\\Users\\c_seromonsei\\Pricing Review.mp4\")).read()\n",
    "#print(res)"
   ]
  },
  {
   "cell_type": "code",
   "execution_count": 331,
   "metadata": {},
   "outputs": [
    {
     "name": "stdout",
     "output_type": "stream",
     "text": [
      "{'_id': ObjectId('5fc05d31fc872af180c54a3f'), 'filename': 'meetvideos', 'md5': 'a169fabe2bd9578e20154ebade59e7e0', 'chunkSize': 261120, 'length': 40, 'uploadDate': datetime.datetime(2020, 11, 27, 1, 58, 9, 641000)}\n",
      "{'_id': ObjectId('5fc05dd3fc872af180c54a41'), 'filename': 'meetvideos', 'md5': 'a169fabe2bd9578e20154ebade59e7e0', 'chunkSize': 261120, 'length': 40, 'uploadDate': datetime.datetime(2020, 11, 27, 2, 0, 51, 352000)}\n",
      "{'_id': ObjectId('5fc05de9fc872af180c54a43'), 'filename': 'meetvideos', 'md5': 'a169fabe2bd9578e20154ebade59e7e0', 'chunkSize': 261120, 'length': 40, 'uploadDate': datetime.datetime(2020, 11, 27, 2, 1, 13, 737000)}\n"
     ]
    }
   ],
   "source": [
    "for i in db.fs.files.find({\"filename\":\"meetvideos\"}):\n",
    "    print(i)"
   ]
  },
  {
   "cell_type": "code",
   "execution_count": 343,
   "metadata": {},
   "outputs": [
    {
     "ename": "TypeError",
     "evalue": "'Collection' object is not callable. If you meant to call the 'createIndex' method on a 'Collection' object it is failing because no such method exists.",
     "output_type": "error",
     "traceback": [
      "\u001b[1;31m---------------------------------------------------------------------------\u001b[0m",
      "\u001b[1;31mTypeError\u001b[0m                                 Traceback (most recent call last)",
      "\u001b[1;32m<ipython-input-343-4a2662b4a467>\u001b[0m in \u001b[0;36m<module>\u001b[1;34m\u001b[0m\n\u001b[1;32m----> 1\u001b[1;33m \u001b[0mdb\u001b[0m\u001b[1;33m.\u001b[0m\u001b[0mfs\u001b[0m\u001b[1;33m.\u001b[0m\u001b[0mchunks\u001b[0m\u001b[1;33m.\u001b[0m\u001b[0mcreateIndex\u001b[0m\u001b[1;33m(\u001b[0m \u001b[1;33m{\u001b[0m\u001b[1;34m\"_id\"\u001b[0m\u001b[1;33m:\u001b[0m \u001b[1;36m1\u001b[0m \u001b[1;33m}\u001b[0m\u001b[1;33m,\u001b[0m\u001b[1;33m{\u001b[0m \u001b[1;34m\"unique\"\u001b[0m\u001b[1;33m:\u001b[0m \u001b[1;32mTrue\u001b[0m \u001b[1;33m}\u001b[0m\u001b[1;33m)\u001b[0m\u001b[1;33m\u001b[0m\u001b[1;33m\u001b[0m\u001b[0m\n\u001b[0m",
      "\u001b[1;32mC:\\Users\\00936124\\AppData\\Local\\Programs\\Python\\Python37\\lib\\site-packages\\pymongo\\collection.py\u001b[0m in \u001b[0;36m__call__\u001b[1;34m(self, *args, **kwargs)\u001b[0m\n\u001b[0;32m   3446\u001b[0m                         \u001b[1;34m\"call the '%s' method on a 'Collection' object it is \"\u001b[0m\u001b[1;33m\u001b[0m\u001b[1;33m\u001b[0m\u001b[0m\n\u001b[0;32m   3447\u001b[0m                         \u001b[1;34m\"failing because no such method exists.\"\u001b[0m \u001b[1;33m%\u001b[0m\u001b[1;33m\u001b[0m\u001b[1;33m\u001b[0m\u001b[0m\n\u001b[1;32m-> 3448\u001b[1;33m                         self.__name.split(\".\")[-1])\n\u001b[0m",
      "\u001b[1;31mTypeError\u001b[0m: 'Collection' object is not callable. If you meant to call the 'createIndex' method on a 'Collection' object it is failing because no such method exists."
     ]
    }
   ],
   "source": [
    "db.fs.chunks.createIndex( {\"_id\": 1 },{ \"unique\": True })"
   ]
  },
  {
   "cell_type": "code",
   "execution_count": 342,
   "metadata": {},
   "outputs": [
    {
     "data": {
      "text/plain": [
       "<pymongo.cursor.Cursor at 0x239bf78c608>"
      ]
     },
     "execution_count": 342,
     "metadata": {},
     "output_type": "execute_result"
    }
   ],
   "source": [
    "db.fs.chunks.find({\"_id\":\"5fc05d31fc872af180c54a3f\"})"
   ]
  },
  {
   "cell_type": "code",
   "execution_count": null,
   "metadata": {},
   "outputs": [],
   "source": []
  }
 ],
 "metadata": {
  "kernelspec": {
   "display_name": "Python 3.7.4 64-bit",
   "language": "python",
   "name": "python37464bit3b5abfa791484f11a131224e31632e0b"
  },
  "language_info": {
   "codemirror_mode": {
    "name": "ipython",
    "version": 3
   },
   "file_extension": ".py",
   "mimetype": "text/x-python",
   "name": "python",
   "nbconvert_exporter": "python",
   "pygments_lexer": "ipython3",
   "version": "3.7.4"
  }
 },
 "nbformat": 4,
 "nbformat_minor": 4
}
