{
 "cells": [
  {
   "cell_type": "code",
   "execution_count": 36,
   "metadata": {},
   "outputs": [],
   "source": [
    "import pprint\n",
    "import pymongo\n",
    "from pymongo import MongoClient,GEO2D,GEOSPHERE,InsertOne, DeleteOne, ReplaceOne\n",
    "from datetime import datetime,time\n",
    "from bson.son import SON\n",
    "from collections import OrderedDict\n",
    "client = MongoClient('mongodb://localhost:27017/')\n",
    "#client = MongoClient('localhost', 27017)"
   ]
  },
  {
   "cell_type": "code",
   "execution_count": 37,
   "metadata": {},
   "outputs": [
    {
     "data": {
      "text/plain": [
       "[{'_id': ObjectId('5fbf6a0d28f23736d002a04a'),\n",
       "  'LastName': 'Dow',\n",
       "  'profilecreated': datetime.datetime(2020, 11, 26, 2, 40, 45, 557000),\n",
       "  'Score': 5.7,\n",
       "  'StudentsName': 'Jane'},\n",
       " {'_id': ObjectId('5fbf6a2028f23736d002a04f'),\n",
       "  'LastName': 'Dow',\n",
       "  'profilecreated': datetime.datetime(2020, 11, 26, 2, 41, 4, 658000),\n",
       "  'Score': 5.7,\n",
       "  'StudentsName': 'Jane'},\n",
       " {'_id': ObjectId('5fbf6a2828f23736d002a055'),\n",
       "  'LastName': 'Dow',\n",
       "  'profilecreated': datetime.datetime(2020, 11, 26, 2, 41, 12, 524000),\n",
       "  'Score': 5.2,\n",
       "  'StudentsName': 'Jane'},\n",
       " {'_id': ObjectId('5fbf4a4928f23736d002a03a'),\n",
       "  'profilecreated': datetime.datetime(2020, 11, 26, 0, 25, 13, 606000),\n",
       "  'Score': 11.9,\n",
       "  'StudentsName': 'Jane',\n",
       "  'LastName': '$Name01'},\n",
       " {'_id': ObjectId('5fbf552028f23736d002a03f'),\n",
       "  'profilecreated': datetime.datetime(2020, 11, 26, 1, 11, 28, 786000),\n",
       "  'Score': 6.2,\n",
       "  'StudentsName': 'Jane',\n",
       "  'LastName': '$Name01'},\n",
       " {'_id': ObjectId('5fbf69a628f23736d002a045'),\n",
       "  'profilecreated': datetime.datetime(2020, 11, 26, 2, 39, 2, 251000),\n",
       "  'Score': 5.7,\n",
       "  'StudentsName': 'Jane'}]"
      ]
     },
     "execution_count": 37,
     "metadata": {},
     "output_type": "execute_result"
    }
   ],
   "source": [
    "db=client.mydb\n",
    "students=db.Studrecords\n",
    "list(students.find({\"StudentsName\":\"Jane\"}))"
   ]
  },
  {
   "cell_type": "code",
   "execution_count": 38,
   "metadata": {},
   "outputs": [
    {
     "data": {
      "text/plain": [
       "['_id', 'LastName', 'profilecreated', 'Score', 'StudentsName']"
      ]
     },
     "execution_count": 38,
     "metadata": {},
     "output_type": "execute_result"
    }
   ],
   "source": [
    "list(students.find_one({\"StudentsName\":\"Jane\"}))"
   ]
  },
  {
   "cell_type": "code",
   "execution_count": 39,
   "metadata": {},
   "outputs": [
    {
     "data": {
      "text/plain": [
       "[{'_id': 'Name', 'SumScore': 6.733333333333333}]"
      ]
     },
     "execution_count": 39,
     "metadata": {},
     "output_type": "execute_result"
    }
   ],
   "source": [
    "## Aggregation selection\n",
    "db=client.mydb\n",
    "students=db.Studrecords\n",
    "\n",
    "list(students.aggregate([{\"$project\":{\"_id\":0,\"Score\":1,\"StudentsName\"\n",
    "                                   :1}},{\"$match\":{\"StudentsName\":\"Jane\"}},\\\n",
    "                      {\"$group\":{\"_id\":\"Name\",\"SumScore\":{\"$avg\":\"$Score\"}}}]))"
   ]
  },
  {
   "cell_type": "code",
   "execution_count": 40,
   "metadata": {},
   "outputs": [
    {
     "data": {
      "text/plain": [
       "[{'_id': ObjectId('5fbf4a4928f23736d002a03a'),\n",
       "  'profilecreated': datetime.datetime(2020, 11, 26, 0, 25, 13, 606000),\n",
       "  'Score': 11.9,\n",
       "  'StudentsName': 'Jane',\n",
       "  'LastName': '$Name01'},\n",
       " {'_id': ObjectId('5fbf4a4928f23736d002a03b'),\n",
       "  'profilecreated': datetime.datetime(2008, 11, 12, 0, 0),\n",
       "  'Score': 6.8,\n",
       "  'StudentsName': 'Trump',\n",
       "  'LastName': '$Name01'},\n",
       " {'_id': ObjectId('5fbf4a4928f23736d002a03c'),\n",
       "  'profilecreated': datetime.datetime(2020, 11, 26, 0, 25, 13, 606000),\n",
       "  'Score': 7.15,\n",
       "  'StudentsName': 'Biden',\n",
       "  'LastName': '$Name01'},\n",
       " {'_id': ObjectId('5fbf4a4928f23736d002a03d'),\n",
       "  'profilecreated': datetime.datetime(2005, 1, 1, 0, 0),\n",
       "  'Score': 6.0,\n",
       "  'email': 'hillary@yahoo.com',\n",
       "  'StudentsName': 'Hillary',\n",
       "  'LastName': '$Name01'},\n",
       " {'_id': ObjectId('5fbf4a4928f23736d002a03e'),\n",
       "  'profilecreated': datetime.datetime(2020, 11, 26, 0, 25, 13, 606000),\n",
       "  'Score': 6.6,\n",
       "  'StudentsName': 'Kamala',\n",
       "  'LastName': '$Name01'},\n",
       " {'_id': ObjectId('5fbf552028f23736d002a03f'),\n",
       "  'profilecreated': datetime.datetime(2020, 11, 26, 1, 11, 28, 786000),\n",
       "  'Score': 6.2,\n",
       "  'StudentsName': 'Jane',\n",
       "  'LastName': '$Name01'},\n",
       " {'_id': ObjectId('5fbf552028f23736d002a040'),\n",
       "  'profilecreated': datetime.datetime(2008, 11, 12, 0, 0),\n",
       "  'Score': 6.3,\n",
       "  'StudentsName': 'Trump',\n",
       "  'LastName': '$Name01'},\n",
       " {'_id': ObjectId('5fbf552028f23736d002a041'),\n",
       "  'profilecreated': datetime.datetime(2020, 11, 26, 1, 11, 28, 786000),\n",
       "  'Score': 6.65,\n",
       "  'StudentsName': 'Biden',\n",
       "  'LastName': '$Name01'},\n",
       " {'_id': ObjectId('5fbf552028f23736d002a043'),\n",
       "  'profilecreated': datetime.datetime(2020, 11, 26, 1, 11, 28, 786000),\n",
       "  'Score': 6.1,\n",
       "  'StudentsName': 'Kamala',\n",
       "  'LastName': '$Name01'},\n",
       " {'_id': ObjectId('5fbf69a628f23736d002a047'),\n",
       "  'profilecreated': datetime.datetime(2020, 11, 26, 2, 39, 2, 251000),\n",
       "  'Score': 6.15,\n",
       "  'StudentsName': 'Biden'},\n",
       " {'_id': ObjectId('5fbf6a0d28f23736d002a04c'),\n",
       "  'LastName': 'Jtestn',\n",
       "  'profilecreated': datetime.datetime(2020, 11, 26, 2, 40, 45, 557000),\n",
       "  'Score': 6.15,\n",
       "  'StudentsName': 'Biden'},\n",
       " {'_id': ObjectId('5fbf6a2028f23736d002a051'),\n",
       "  'LastName': 'Jtestn',\n",
       "  'profilecreated': datetime.datetime(2020, 11, 26, 2, 41, 4, 658000),\n",
       "  'Score': 6.15,\n",
       "  'StudentsName': 'Biden'}]"
      ]
     },
     "execution_count": 40,
     "metadata": {},
     "output_type": "execute_result"
    }
   ],
   "source": [
    "# match /Filtering stage\n",
    "# students,aggregate([{\"$match\"\"{}}])\n",
    "\n",
    "# if we want to use $text, $ match must be the first Stage in the pipeline\n",
    "\n",
    "list(students.aggregate([{\"$match\":{\"Score\":{\"$gte\":6}}}]))\n"
   ]
  },
  {
   "cell_type": "code",
   "execution_count": 45,
   "metadata": {},
   "outputs": [
    {
     "data": {
      "text/plain": [
       "[{'StudentsName': 12}]"
      ]
     },
     "execution_count": 45,
     "metadata": {},
     "output_type": "execute_result"
    }
   ],
   "source": [
    "list(students.aggregate([{\"$match\":{\"Score.english\":{\"$gte\":6}}},{\"$count\":\"StudentsName\"}]))"
   ]
  },
  {
   "cell_type": "code",
   "execution_count": 47,
   "metadata": {},
   "outputs": [
    {
     "name": "stderr",
     "output_type": "stream",
     "text": [
      "<ipython-input-47-e0032abc7aa0>:1: DeprecationWarning: count is deprecated. Use estimated_document_count or count_documents instead. Please note that $where must be replaced by $expr, $near must be replaced by $geoWithin with $center, and $nearSphere must be replaced by $geoWithin with $centerSphere\n",
      "  students.count({\"Score\":{\"$gte\":6}})\n"
     ]
    },
    {
     "data": {
      "text/plain": [
       "12"
      ]
     },
     "execution_count": 47,
     "metadata": {},
     "output_type": "execute_result"
    }
   ],
   "source": [
    "students.count({\"Score\":{\"$gte\":6}})"
   ]
  },
  {
   "cell_type": "code",
   "execution_count": 57,
   "metadata": {},
   "outputs": [
    {
     "data": {
      "text/plain": [
       "<pymongo.results.UpdateResult at 0x191be3406c0>"
      ]
     },
     "execution_count": 57,
     "metadata": {},
     "output_type": "execute_result"
    }
   ],
   "source": [
    "students.update_many({},{\"$set\":{\"Score\":{\"maths\":30,\"english\":40,\"art\":50}}})"
   ]
  },
  {
   "cell_type": "code",
   "execution_count": 58,
   "metadata": {},
   "outputs": [
    {
     "data": {
      "text/plain": [
       "[{'StudentsName': 30}]"
      ]
     },
     "execution_count": 58,
     "metadata": {},
     "output_type": "execute_result"
    }
   ],
   "source": [
    "list(students.aggregate([{\"$match\":{\"Score.english\":{\"$gte\":6}}},{\"$count\":\"StudentsName\"}]))"
   ]
  },
  {
   "cell_type": "code",
   "execution_count": 67,
   "metadata": {},
   "outputs": [
    {
     "data": {
      "text/plain": [
       "[{'English': 40, 'Maths': 30, 'Average': 1200},\n",
       " {'English': 40, 'Maths': 30, 'Average': 1200},\n",
       " {'English': 40, 'Maths': 30, 'Average': 1200},\n",
       " {'English': 40, 'Maths': 30, 'Average': 1200},\n",
       " {'English': 40, 'Maths': 30, 'Average': 1200},\n",
       " {'English': 40, 'Maths': 30, 'Average': 1200},\n",
       " {'English': 40, 'Maths': 30, 'Average': 1200},\n",
       " {'English': 40, 'Maths': 30, 'Average': 1200},\n",
       " {'English': 40, 'Maths': 30, 'Average': 1200},\n",
       " {'English': 40, 'Maths': 30, 'Average': 1200},\n",
       " {'English': 40, 'Maths': 30, 'Average': 1200},\n",
       " {'English': 40, 'Maths': 30, 'Average': 1200},\n",
       " {'English': 40, 'Maths': 30, 'Average': 1200},\n",
       " {'English': 40, 'Maths': 30, 'Average': 1200},\n",
       " {'English': 40, 'Maths': 30, 'Average': 1200},\n",
       " {'English': 40, 'Maths': 30, 'Average': 1200},\n",
       " {'English': 40, 'Maths': 30, 'Average': 1200},\n",
       " {'English': 40, 'Maths': 30, 'Average': 1200},\n",
       " {'English': 40, 'Maths': 30, 'Average': 1200},\n",
       " {'English': 40, 'Maths': 30, 'Average': 1200},\n",
       " {'English': 40, 'Maths': 30, 'Average': 1200},\n",
       " {'English': 40, 'Maths': 30, 'Average': 1200},\n",
       " {'English': 40, 'Maths': 30, 'Average': 1200},\n",
       " {'English': 40, 'Maths': 30, 'Average': 1200},\n",
       " {'English': 40, 'Maths': 30, 'Average': 1200},\n",
       " {'English': 40, 'Maths': 30, 'Average': 1200},\n",
       " {'English': 40, 'Maths': 30, 'Average': 1200},\n",
       " {'English': 40, 'Maths': 30, 'Average': 1200},\n",
       " {'English': 40, 'Maths': 30, 'Average': 1200},\n",
       " {'English': 40, 'Maths': 30, 'Average': 1200}]"
      ]
     },
     "execution_count": 67,
     "metadata": {},
     "output_type": "execute_result"
    }
   ],
   "source": [
    "#Reassigning/Creating ato a new field with $mutiply $operators\n",
    "list(students.aggregate([{\"$project\":{\"_id\":0,\"English\":\"$Score.english\",\\\n",
    "                                      \"Maths\":\"$Score.maths\",\"Average\":{\"$multiply\":[\"$Score.maths\",\"$Score.english\"]}}}]))"
   ]
  },
  {
   "cell_type": "code",
   "execution_count": null,
   "metadata": {},
   "outputs": [],
   "source": [
    "#Please note that $where must be replaced by $expr, $near must be replaced by $geoWithin with $center, and $nearSphere must be replaced by $geoWithin with $centerSphere"
   ]
  },
  {
   "cell_type": "code",
   "execution_count": 50,
   "metadata": {},
   "outputs": [
    {
     "data": {
      "text/plain": [
       "[{'_id': ObjectId('5fbf4a4928f23736d002a03a'),\n",
       "  'profilecreated': datetime.datetime(2020, 11, 26, 0, 25, 13, 606000),\n",
       "  'Score': 11.9,\n",
       "  'StudentsName': 'Jane',\n",
       "  'LastName': '$Name01'},\n",
       " {'_id': ObjectId('5fbf4a4928f23736d002a03b'),\n",
       "  'profilecreated': datetime.datetime(2008, 11, 12, 0, 0),\n",
       "  'Score': 6.8,\n",
       "  'StudentsName': 'Trump',\n",
       "  'LastName': '$Name01'},\n",
       " {'_id': ObjectId('5fbf4a4928f23736d002a03c'),\n",
       "  'profilecreated': datetime.datetime(2020, 11, 26, 0, 25, 13, 606000),\n",
       "  'Score': 7.15,\n",
       "  'StudentsName': 'Biden',\n",
       "  'LastName': '$Name01'},\n",
       " {'_id': ObjectId('5fbf4a4928f23736d002a03d'),\n",
       "  'profilecreated': datetime.datetime(2005, 1, 1, 0, 0),\n",
       "  'Score': 6.0,\n",
       "  'email': 'hillary@yahoo.com',\n",
       "  'StudentsName': 'Hillary',\n",
       "  'LastName': '$Name01'},\n",
       " {'_id': ObjectId('5fbf4a4928f23736d002a03e'),\n",
       "  'profilecreated': datetime.datetime(2020, 11, 26, 0, 25, 13, 606000),\n",
       "  'Score': 6.6,\n",
       "  'StudentsName': 'Kamala',\n",
       "  'LastName': '$Name01'},\n",
       " {'_id': ObjectId('5fbf552028f23736d002a03f'),\n",
       "  'profilecreated': datetime.datetime(2020, 11, 26, 1, 11, 28, 786000),\n",
       "  'Score': 6.2,\n",
       "  'StudentsName': 'Jane',\n",
       "  'LastName': '$Name01'},\n",
       " {'_id': ObjectId('5fbf552028f23736d002a040'),\n",
       "  'profilecreated': datetime.datetime(2008, 11, 12, 0, 0),\n",
       "  'Score': 6.3,\n",
       "  'StudentsName': 'Trump',\n",
       "  'LastName': '$Name01'},\n",
       " {'_id': ObjectId('5fbf552028f23736d002a041'),\n",
       "  'profilecreated': datetime.datetime(2020, 11, 26, 1, 11, 28, 786000),\n",
       "  'Score': 6.65,\n",
       "  'StudentsName': 'Biden',\n",
       "  'LastName': '$Name01'},\n",
       " {'_id': ObjectId('5fbf552028f23736d002a043'),\n",
       "  'profilecreated': datetime.datetime(2020, 11, 26, 1, 11, 28, 786000),\n",
       "  'Score': 6.1,\n",
       "  'StudentsName': 'Kamala',\n",
       "  'LastName': '$Name01'},\n",
       " {'_id': ObjectId('5fbf69a628f23736d002a047'),\n",
       "  'profilecreated': datetime.datetime(2020, 11, 26, 2, 39, 2, 251000),\n",
       "  'Score': 6.15,\n",
       "  'StudentsName': 'Biden'},\n",
       " {'_id': ObjectId('5fbf6a0d28f23736d002a04c'),\n",
       "  'LastName': 'Jtestn',\n",
       "  'profilecreated': datetime.datetime(2020, 11, 26, 2, 40, 45, 557000),\n",
       "  'Score': 6.15,\n",
       "  'StudentsName': 'Biden'},\n",
       " {'_id': ObjectId('5fbf6a2028f23736d002a051'),\n",
       "  'LastName': 'Jtestn',\n",
       "  'profilecreated': datetime.datetime(2020, 11, 26, 2, 41, 4, 658000),\n",
       "  'Score': 6.15,\n",
       "  'StudentsName': 'Biden'}]"
      ]
     },
     "execution_count": 50,
     "metadata": {},
     "output_type": "execute_result"
    }
   ],
   "source": [
    "list(students.find({\"Score\":{\"$gte\":6}}))"
   ]
  },
  {
   "cell_type": "markdown",
   "metadata": {},
   "source": [
    "Project"
   ]
  },
  {
   "cell_type": "code",
   "execution_count": 53,
   "metadata": {},
   "outputs": [
    {
     "data": {
      "text/plain": [
       "[{'Score': 11.9, 'StudentsName': 'Jane', 'LastName': '$Name01'},\n",
       " {'Score': 6.8, 'StudentsName': 'Trump', 'LastName': '$Name01'},\n",
       " {'Score': 7.15, 'StudentsName': 'Biden', 'LastName': '$Name01'},\n",
       " {'Score': 6.0, 'StudentsName': 'Hillary', 'LastName': '$Name01'},\n",
       " {'Score': 6.6, 'StudentsName': 'Kamala', 'LastName': '$Name01'},\n",
       " {'Score': 6.2, 'StudentsName': 'Jane', 'LastName': '$Name01'},\n",
       " {'Score': 6.3, 'StudentsName': 'Trump', 'LastName': '$Name01'},\n",
       " {'Score': 6.65, 'StudentsName': 'Biden', 'LastName': '$Name01'},\n",
       " {'Score': 5.5, 'StudentsName': 'Hillary', 'LastName': '$Name01'},\n",
       " {'Score': 6.1, 'StudentsName': 'Kamala', 'LastName': '$Name01'},\n",
       " {'Score': 5.7, 'StudentsName': 'Jane'},\n",
       " {'Score': 5.8, 'StudentsName': 'Trump'},\n",
       " {'Score': 6.15, 'StudentsName': 'Biden'},\n",
       " {'Score': 5.0, 'StudentsName': 'Hillary'},\n",
       " {'Score': 5.6, 'StudentsName': 'Kamala'},\n",
       " {'LastName': 'Dow', 'Score': 5.7, 'StudentsName': 'Jane'},\n",
       " {'LastName': 'Donald', 'Score': 5.8, 'StudentsName': 'Trump'},\n",
       " {'LastName': 'Jtestn', 'Score': 6.15, 'StudentsName': 'Biden'},\n",
       " {'LastName': 'Cliton', 'Score': 5.0, 'StudentsName': 'Hillary'},\n",
       " {'LastName': 'Harris', 'Score': 5.6, 'StudentsName': 'Kamala'},\n",
       " {'LastName': 'Dow', 'Score': 5.7, 'StudentsName': 'Jane'},\n",
       " {'LastName': 'Donald', 'Score': 5.8, 'StudentsName': 'Trump'},\n",
       " {'LastName': 'Jtestn', 'Score': 6.15, 'StudentsName': 'Biden'},\n",
       " {'LastName': 'Cliton', 'Score': 5.0, 'StudentsName': 'Hillary'},\n",
       " {'LastName': 'Harris', 'Score': 5.6, 'StudentsName': 'Kamala'},\n",
       " {'LastName': 'Dow', 'Score': 5.2, 'StudentsName': 'Jane'},\n",
       " {'LastName': 'Donald', 'Score': 5.3, 'StudentsName': 'Trump'},\n",
       " {'LastName': 'Jtestn', 'Score': 5.65, 'StudentsName': 'Biden'},\n",
       " {'LastName': 'Cliton', 'Score': 4.5, 'StudentsName': 'Hillary'},\n",
       " {'LastName': 'Harris', 'Score': 5.1, 'StudentsName': 'Kamala'}]"
      ]
     },
     "execution_count": 53,
     "metadata": {},
     "output_type": "execute_result"
    }
   ],
   "source": [
    "#Using the $project\n",
    "list(students.aggregate([{\"$project\":{\"_id\":0,\"LastName\":1,\"StudentsName\":1,\"Score\":1}}]))"
   ]
  },
  {
   "cell_type": "markdown",
   "metadata": {},
   "source": [
    "<b>Working with Expressions</b>"
   ]
  },
  {
   "cell_type": "code",
   "execution_count": 71,
   "metadata": {},
   "outputs": [
    {
     "data": {
      "text/plain": [
       "[{'English': 40, 'Maths': 30, 'Average': 35.0},\n",
       " {'English': 40, 'Maths': 30, 'Average': 35.0},\n",
       " {'English': 40, 'Maths': 30, 'Average': 35.0},\n",
       " {'English': 40, 'Maths': 30, 'Average': 35.0},\n",
       " {'English': 40, 'Maths': 30, 'Average': 35.0},\n",
       " {'English': 40, 'Maths': 30, 'Average': 35.0},\n",
       " {'English': 40, 'Maths': 30, 'Average': 35.0},\n",
       " {'English': 40, 'Maths': 30, 'Average': 35.0},\n",
       " {'English': 40, 'Maths': 30, 'Average': 35.0},\n",
       " {'English': 40, 'Maths': 30, 'Average': 35.0},\n",
       " {'English': 40, 'Maths': 30, 'Average': 35.0},\n",
       " {'English': 40, 'Maths': 30, 'Average': 35.0},\n",
       " {'English': 40, 'Maths': 30, 'Average': 35.0},\n",
       " {'English': 40, 'Maths': 30, 'Average': 35.0},\n",
       " {'English': 40, 'Maths': 30, 'Average': 35.0},\n",
       " {'English': 40, 'Maths': 30, 'Average': 35.0},\n",
       " {'English': 40, 'Maths': 30, 'Average': 35.0},\n",
       " {'English': 40, 'Maths': 30, 'Average': 35.0},\n",
       " {'English': 40, 'Maths': 30, 'Average': 35.0},\n",
       " {'English': 40, 'Maths': 30, 'Average': 35.0},\n",
       " {'English': 40, 'Maths': 30, 'Average': 35.0},\n",
       " {'English': 40, 'Maths': 30, 'Average': 35.0},\n",
       " {'English': 40, 'Maths': 30, 'Average': 35.0},\n",
       " {'English': 40, 'Maths': 30, 'Average': 35.0},\n",
       " {'English': 40, 'Maths': 30, 'Average': 35.0},\n",
       " {'English': 40, 'Maths': 30, 'Average': 35.0},\n",
       " {'English': 40, 'Maths': 30, 'Average': 35.0},\n",
       " {'English': 40, 'Maths': 30, 'Average': 35.0},\n",
       " {'English': 40, 'Maths': 30, 'Average': 35.0},\n",
       " {'English': 40, 'Maths': 30, 'Average': 35.0}]"
      ]
     },
     "execution_count": 71,
     "metadata": {},
     "output_type": "execute_result"
    }
   ],
   "source": [
    "#Reassigning/Creating ato a new field with $mutiply $operators\n",
    "list(students.aggregate([{\"$project\":{\"_id\":0,\"English\":\"$Score.english\",\\\n",
    "                                      \"Maths\":\"$Score.maths\",\n",
    "                                      \"Average\":\n",
    "                                      {\"$divide\":[{\"$add\":[\"$Score.maths\",\"$Score.english\"]},2]}}}]))"
   ]
  },
  {
   "cell_type": "code",
   "execution_count": null,
   "metadata": {},
   "outputs": [],
   "source": []
  }
 ],
 "metadata": {
  "kernelspec": {
   "display_name": "Python 3",
   "language": "python",
   "name": "python3"
  },
  "language_info": {
   "codemirror_mode": {
    "name": "ipython",
    "version": 3
   },
   "file_extension": ".py",
   "mimetype": "text/x-python",
   "name": "python",
   "nbconvert_exporter": "python",
   "pygments_lexer": "ipython3",
   "version": "3.8.5"
  }
 },
 "nbformat": 4,
 "nbformat_minor": 4
}
