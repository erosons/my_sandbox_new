{
 "cells": [
  {
   "cell_type": "code",
   "execution_count": 4,
   "id": "261db2e4",
   "metadata": {},
   "outputs": [],
   "source": [
    "import findspark\n",
    "findspark.init('/Users/s.eromonsei/Documents/GitHub/Engine/spark-3.2.0-bin-hadoop3.2')\n",
    "import pyspark\n",
    "from pyspark.sql import SparkSession\n",
    "from pyspark.sql.types import (StructField,StructType,\n",
    "                               ShortType,IntegerType,StringType,FloatType,BooleanType)\n",
    "\n",
    "\n",
    "spark=SparkSession.builder.appName('Basics').getOrCreate()\n",
    "df=spark.read.csv('/Users/s.eromonsei/Documents/GitHub/DataFolder/SampleSuperstore.csv',header=True)"
   ]
  },
  {
   "cell_type": "code",
   "execution_count": 6,
   "id": "7259b7ef",
   "metadata": {},
   "outputs": [
    {
     "name": "stdout",
     "output_type": "stream",
     "text": [
      "root\n",
      " |-- Ship Mode: string (nullable = true)\n",
      " |-- Segment: string (nullable = true)\n",
      " |-- Country: string (nullable = true)\n",
      " |-- City: string (nullable = true)\n",
      " |-- State: string (nullable = true)\n",
      " |-- Postal Code: string (nullable = true)\n",
      " |-- Region: string (nullable = true)\n",
      " |-- Category: string (nullable = true)\n",
      " |-- Sub-Category: string (nullable = true)\n",
      " |-- Sales: string (nullable = true)\n",
      " |-- Quantity: string (nullable = true)\n",
      " |-- Discount: string (nullable = true)\n",
      " |-- Profit: string (nullable = true)\n",
      "\n"
     ]
    }
   ],
   "source": [
    "df.printSchema()"
   ]
  },
  {
   "cell_type": "code",
   "execution_count": 8,
   "id": "43b5d7c0",
   "metadata": {},
   "outputs": [],
   "source": [
    "newDataschema=[StructField('Ship Mode',StringType(),True),\n",
    "                StructField('Segment',StringType(),True),\n",
    "                StructField('Country',StringType(),True),\n",
    "                StructField('City',StringType(),True),\n",
    "                StructField('State',StringType(),True),\n",
    "                StructField('Postal Code',StringType(),True),\n",
    "                StructField('Region',StringType(),True),\n",
    "                StructField('Category',StringType(),True),\n",
    "                StructField('Sub-Category',StringType(),True),\n",
    "                StructField('Sales',IntegerType(),True),\n",
    "                StructField('Quantity',FloatType(),True),\n",
    "                StructField('Discount',FloatType(),True),\n",
    "                StructField('Profit',FloatType(),True)\n",
    "                ]\n",
    "\n",
    "final_struc=StructType(fields=newDataschema)"
   ]
  },
  {
   "cell_type": "code",
   "execution_count": 9,
   "id": "8228c2c9",
   "metadata": {},
   "outputs": [],
   "source": [
    "df=spark.read.csv('/Users/s.eromonsei/Documents/GitHub/DataFolder/SampleSuperstore.csv',header=True,schema=final_struc)"
   ]
  },
  {
   "cell_type": "code",
   "execution_count": 10,
   "id": "8508e4be",
   "metadata": {},
   "outputs": [],
   "source": [
    "df.createOrReplaceTempView('SuperStoreData')"
   ]
  },
  {
   "cell_type": "code",
   "execution_count": 26,
   "id": "2c48ce7d",
   "metadata": {},
   "outputs": [],
   "source": [
    "SQL=\"\"\"\n",
    "    SELECT *\n",
    "    FROM SuperStoreData\n",
    "    WHERE REGION = \"East\" OR  REGION = \"West\"\n",
    "    Order by State asc\n",
    "\"\"\""
   ]
  },
  {
   "cell_type": "code",
   "execution_count": 36,
   "id": "b44997c1",
   "metadata": {},
   "outputs": [],
   "source": [
    "SQL1=\"\"\"\n",
    "    SELECT \n",
    "    Region ,\n",
    "    sum(Profit)   as TotalProfit,\n",
    "    sum(Discount) as   TotalDiscount,\n",
    "    sum(Quantity) as   TotalQuantity\n",
    "    FROM SuperStoreData\n",
    "    \n",
    "    Where region = \"East\" OR region = \"West\"\n",
    "    \n",
    "    group by \n",
    "    Region\n",
    "    \n",
    "    having sum(Profit) > 100 \n",
    "    \n",
    "\"\"\""
   ]
  },
  {
   "cell_type": "code",
   "execution_count": 37,
   "id": "18e46d27",
   "metadata": {},
   "outputs": [],
   "source": [
    "results =spark.sql(SQL1)"
   ]
  },
  {
   "cell_type": "code",
   "execution_count": 38,
   "id": "46b27de9",
   "metadata": {},
   "outputs": [
    {
     "name": "stdout",
     "output_type": "stream",
     "text": [
      "+------+-----------------+------------------+-------------+\n",
      "|Region|      TotalProfit|     TotalDiscount|TotalQuantity|\n",
      "+------+-----------------+------------------+-------------+\n",
      "|  East|91522.77981586754|414.00000247359276|      10618.0|\n",
      "|  West|108418.4485804066| 350.2000030428171|      12266.0|\n",
      "+------+-----------------+------------------+-------------+\n",
      "\n"
     ]
    }
   ],
   "source": [
    "results.show()\n",
    "\n"
   ]
  }
 ],
 "metadata": {
  "kernelspec": {
   "display_name": "Python 3",
   "language": "python",
   "name": "python3"
  },
  "language_info": {
   "codemirror_mode": {
    "name": "ipython",
    "version": 3
   },
   "file_extension": ".py",
   "mimetype": "text/x-python",
   "name": "python",
   "nbconvert_exporter": "python",
   "pygments_lexer": "ipython3",
   "version": "3.10.4 (v3.10.4:9d38120e33, Mar 23 2022, 17:29:05) [Clang 13.0.0 (clang-1300.0.29.30)]"
  },
  "vscode": {
   "interpreter": {
    "hash": "7e1998ff7f8aa20ada591c520b972326324e5ea05489af9e422744c7c09f6dad"
   }
  }
 },
 "nbformat": 4,
 "nbformat_minor": 5
}
