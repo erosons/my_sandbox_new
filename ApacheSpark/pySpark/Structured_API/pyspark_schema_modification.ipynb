{
 "cells": [
  {
   "cell_type": "code",
   "execution_count": 4,
   "id": "261db2e4",
   "metadata": {},
   "outputs": [],
   "source": [
    "import findspark\n",
    "findspark.init('/Users/s.eromonsei/Documents/GitHub/Engine/spark-3.2.0-bin-hadoop3.2')\n",
    "import pyspark\n",
    "from pyspark.sql import SparkSession\n",
    "from pyspark.sql.types import (StructField,StructType,\n",
    "                               ShortType,IntegerType,StringType,FloatType,BooleanType)\n",
    "\n",
    "\n",
    "spark=SparkSession.builder.appName('Basics').getOrCreate()\n",
    "df=spark.read.csv('/Users/s.eromonsei/Documents/GitHub/DataFolder/SampleSuperstore.csv',header=True)"
   ]
  },
  {
   "cell_type": "code",
   "execution_count": 6,
   "id": "7259b7ef",
   "metadata": {},
   "outputs": [
    {
     "name": "stdout",
     "output_type": "stream",
     "text": [
      "root\n",
      " |-- Ship Mode: string (nullable = true)\n",
      " |-- Segment: string (nullable = true)\n",
      " |-- Country: string (nullable = true)\n",
      " |-- City: string (nullable = true)\n",
      " |-- State: string (nullable = true)\n",
      " |-- Postal Code: string (nullable = true)\n",
      " |-- Region: string (nullable = true)\n",
      " |-- Category: string (nullable = true)\n",
      " |-- Sub-Category: string (nullable = true)\n",
      " |-- Sales: string (nullable = true)\n",
      " |-- Quantity: string (nullable = true)\n",
      " |-- Discount: string (nullable = true)\n",
      " |-- Profit: string (nullable = true)\n",
      "\n"
     ]
    }
   ],
   "source": [
    "df.printSchema()"
   ]
  },
  {
   "cell_type": "code",
   "execution_count": 8,
   "id": "43b5d7c0",
   "metadata": {},
   "outputs": [],
   "source": [
    "newDataschema=[StructField('Ship Mode',StringType(),True),\n",
    "                StructField('Segment',StringType(),True),\n",
    "                StructField('Country',StringType(),True),\n",
    "                StructField('City',StringType(),True),\n",
    "                StructField('State',StringType(),True),\n",
    "                StructField('Postal Code',StringType(),True),\n",
    "                StructField('Region',StringType(),True),\n",
    "                StructField('Category',StringType(),True),\n",
    "                StructField('Sub-Category',StringType(),True),\n",
    "                StructField('Sales',IntegerType(),True),\n",
    "                StructField('Quantity',FloatType(),True),\n",
    "                StructField('Discount',FloatType(),True),\n",
    "                StructField('Profit',FloatType(),True)\n",
    "                ]\n",
    "\n",
    "final_struc=StructType(fields=newDataschema)"
   ]
  },
  {
   "cell_type": "code",
   "execution_count": 9,
   "id": "8228c2c9",
   "metadata": {},
   "outputs": [],
   "source": [
    "df=spark.read.csv('/Users/s.eromonsei/Documents/GitHub/DataFolder/SampleSuperstore.csv',header=True,schema=final_struc)"
   ]
  },
  {
   "cell_type": "code",
   "execution_count": 10,
   "id": "8508e4be",
   "metadata": {},
   "outputs": [],
   "source": [
    "df.createOrReplaceTempView('SuperStoreData')"
   ]
  }
 ],
 "metadata": {
  "kernelspec": {
   "display_name": "Python 3",
   "language": "python",
   "name": "python3"
  },
  "language_info": {
   "codemirror_mode": {
    "name": "ipython",
    "version": 3
   },
   "file_extension": ".py",
   "mimetype": "text/x-python",
   "name": "python",
   "nbconvert_exporter": "python",
   "pygments_lexer": "ipython3",
   "version": "3.10.4 (v3.10.4:9d38120e33, Mar 23 2022, 17:29:05) [Clang 13.0.0 (clang-1300.0.29.30)]"
  },
  "vscode": {
   "interpreter": {
    "hash": "7e1998ff7f8aa20ada591c520b972326324e5ea05489af9e422744c7c09f6dad"
   }
  }
 },
 "nbformat": 4,
 "nbformat_minor": 5
}
