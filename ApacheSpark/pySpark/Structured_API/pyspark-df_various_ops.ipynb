{
 "cells": [
  {
   "cell_type": "code",
   "execution_count": null,
   "metadata": {},
   "outputs": [],
   "source": [
    "import pyspark\n",
    "import pyspark.sql.functions as f\n",
    "import pandas as pd\n",
    "from pyspark.sql import SparkSession\n",
    "from pyspark.sql.types import (StructField, StructType,\n",
    "                               ShortType, IntegerType, StringType, FloatType, BooleanType)\n",
    "\n",
    "#Create spark session\n",
    "spark = SparkSession.builder.appName('FirstApp').getOrCreate()\n",
    "\n",
    "\n",
    "try:\n",
    "    df=spark.read.format(\"csv\").\\\n",
    "      option(\"header\",True).\\\n",
    "      option(\"separator\",\",\").\\\n",
    "      option(\"inferSchema\",True).\\\n",
    "      option(\"inferSchema\",True).\\\n",
    "      load(\"hdfs:///Bigdata/Superstore.csv\")\n",
    "\n",
    "   # Creating a SQL-view of the dataFrame\n",
    "    df.createOrReplaceTempView('SuperStoreData')\n",
    "    SQL1=\"\"\" SELECT * from SuperStoreData \n",
    "             where profit > \"100\" \"\"\"\n",
    "    results =spark.sql(SQL1)\n",
    "    results.select(\"Category\",\"Profit\",\"Sales\").show(10, False)\n",
    "    \n",
    "\n",
    "except (ValueError,TypeError) as error:\n",
    "    print(\"Connector write failed\", error)"
   ]
  },
  {
   "cell_type": "markdown",
   "metadata": {},
   "source": [
    "<b>FIlter Operations</b>\n",
    "  Triming transformation for specific values in with one Condition"
   ]
  },
  {
   "cell_type": "code",
   "execution_count": null,
   "metadata": {},
   "outputs": [],
   "source": [
    "results.filter(f.col(\"Category\") ==\"Technology\").select(\"Category\",\"Profit\",\"Sales\").show(10,False)"
   ]
  },
  {
   "cell_type": "code",
   "execution_count": null,
   "metadata": {},
   "outputs": [],
   "source": [
    "#Multiple columns filter\n",
    "results.filter((f.col(\"Category\") ==\"Furniture\") & (f.col(\"Category\") ==\"Technology\")).\\\n",
    "select(\"Category\",\"Profit\").show(10,False)"
   ]
  },
  {
   "cell_type": "code",
   "execution_count": null,
   "metadata": {},
   "outputs": [],
   "source": [
    "# Performing similiar Operation in SQL\n",
    " SQL_filter=\"\"\" SELECT * from SuperStoreData \n",
    "             where \"Category\" in (\"Furniture\",\"Technology\")\n",
    "             and profit > \"100\" \"\"\"\n",
    "results_filter =spark.sql(SQL_filter)\n",
    "results_filter.select(\"Category\",\"Profit\",\"Sales\").show(10, False)\n",
    "    "
   ]
  },
  {
   "cell_type": "markdown",
   "metadata": {},
   "source": [
    "<b>Aggregation Operations¶</b>"
   ]
  },
  {
   "cell_type": "code",
   "execution_count": null,
   "metadata": {},
   "outputs": [],
   "source": [
    "results.groupby(\"Category\").agg({\"Profit\":\"Sum\",\"Sales\":\"mean\"}).show()"
   ]
  },
  {
   "cell_type": "markdown",
   "metadata": {},
   "source": [
    "##### Performing Aggreg similiar Operation in SQL"
   ]
  },
  {
   "cell_type": "code",
   "execution_count": null,
   "metadata": {},
   "outputs": [],
   "source": [
    " SQL_filter1=\"\"\" SELECT  \n",
    "                 Category,\n",
    "                 mean(Sales) as avgSales,\n",
    "                 Sum(Profit) as sumprofit\n",
    "                 from SuperStoreData \n",
    "                group by Category\n",
    "       \"\"\"\n",
    "results_filter =spark.sql(SQL_filter1)\n",
    "results_filter.select(\"Category\",\"avgSales\",\"sumprofit\").show(10, False)"
   ]
  },
  {
   "cell_type": "markdown",
   "metadata": {},
   "source": [
    "##### Counts Operations"
   ]
  },
  {
   "cell_type": "code",
   "execution_count": null,
   "metadata": {},
   "outputs": [],
   "source": [
    "results.count()"
   ]
  },
  {
   "cell_type": "markdown",
   "metadata": {},
   "source": [
    "#### Distinct Operations"
   ]
  },
  {
   "cell_type": "code",
   "execution_count": null,
   "metadata": {},
   "outputs": [],
   "source": [
    "results.select(\"Category\").distinct().show()"
   ]
  },
  {
   "cell_type": "markdown",
   "metadata": {},
   "source": [
    "##### Renaming of Operations"
   ]
  },
  {
   "cell_type": "code",
   "execution_count": null,
   "metadata": {},
   "outputs": [],
   "source": [
    "results.withColumnRenamed('Profit','Margin').show(2,False)\n",
    "\n",
    "# OR \n",
    "\n",
    "results=results.withColumn('NewProfit',f.log(f.col('Profit'))).show(2,False)"
   ]
  }
 ],
 "metadata": {
  "kernelspec": {
   "display_name": "Python 3",
   "language": "python",
   "name": "python3"
  },
  "language_info": {
   "codemirror_mode": {
    "name": "ipython",
    "version": 3
   },
   "file_extension": ".py",
   "mimetype": "text/x-python",
   "name": "python",
   "nbconvert_exporter": "python",
   "pygments_lexer": "ipython3",
   "version": "3.10.4 (v3.10.4:9d38120e33, Mar 23 2022, 17:29:05) [Clang 13.0.0 (clang-1300.0.29.30)]"
  },
  "orig_nbformat": 4,
  "vscode": {
   "interpreter": {
    "hash": "7e1998ff7f8aa20ada591c520b972326324e5ea05489af9e422744c7c09f6dad"
   }
  }
 },
 "nbformat": 4,
 "nbformat_minor": 2
}
