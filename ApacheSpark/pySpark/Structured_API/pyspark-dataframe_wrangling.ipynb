{
 "cells": [
  {
   "cell_type": "code",
   "execution_count": 33,
   "id": "2da5eb46",
   "metadata": {},
   "outputs": [],
   "source": [
    "import findspark\n",
    "findspark.init('/Users/s.eromonsei/Documents/GitHub/Engine/spark-3.2.0-bin-hadoop3.2')\n",
    "import pyspark\n",
    "from pyspark.sql import SparkSession"
   ]
  },
  {
   "cell_type": "code",
   "execution_count": 34,
   "id": "af08c293",
   "metadata": {},
   "outputs": [],
   "source": [
    "spark=SparkSession.builder.appName('Basics').getOrCreate()"
   ]
  },
  {
   "cell_type": "raw",
   "id": "643492b5",
   "metadata": {},
   "source": [
    "Get the data to read by spark into dataFrame\n",
    "\n",
    "if not in dataFrame use=> df=spark.createDataFrame(data=df,schema=final_struc)\""
   ]
  },
  {
   "cell_type": "code",
   "execution_count": 35,
   "id": "e77ce84f",
   "metadata": {},
   "outputs": [],
   "source": [
    "df=spark.read.csv('/Users/s.eromonsei/Documents/GitHub/DataFolder/SampleSuperstore.csv',header=True)"
   ]
  },
  {
   "cell_type": "code",
   "execution_count": 36,
   "id": "1c783db2",
   "metadata": {},
   "outputs": [
    {
     "name": "stdout",
     "output_type": "stream",
     "text": [
      "+--------------+-----------+-------------+---------------+--------------+-----------+-------+---------------+------------+--------+--------+--------+--------+\n",
      "|     Ship Mode|    Segment|      Country|           City|         State|Postal Code| Region|       Category|Sub-Category|   Sales|Quantity|Discount|  Profit|\n",
      "+--------------+-----------+-------------+---------------+--------------+-----------+-------+---------------+------------+--------+--------+--------+--------+\n",
      "|  Second Class|   Consumer|United States|      Henderson|      Kentucky|      42420|  South|      Furniture|   Bookcases|  261.96|       2|       0| 41.9136|\n",
      "|  Second Class|   Consumer|United States|      Henderson|      Kentucky|      42420|  South|      Furniture|      Chairs|  731.94|       3|       0| 219.582|\n",
      "|  Second Class|  Corporate|United States|    Los Angeles|    California|      90036|   West|Office Supplies|      Labels|   14.62|       2|       0|  6.8714|\n",
      "|Standard Class|   Consumer|United States|Fort Lauderdale|       Florida|      33311|  South|      Furniture|      Tables|957.5775|       5|    0.45|-383.031|\n",
      "|Standard Class|   Consumer|United States|Fort Lauderdale|       Florida|      33311|  South|Office Supplies|     Storage|  22.368|       2|     0.2|  2.5164|\n",
      "|Standard Class|   Consumer|United States|    Los Angeles|    California|      90032|   West|      Furniture| Furnishings|   48.86|       7|       0| 14.1694|\n",
      "|Standard Class|   Consumer|United States|    Los Angeles|    California|      90032|   West|Office Supplies|         Art|    7.28|       4|       0|  1.9656|\n",
      "|Standard Class|   Consumer|United States|    Los Angeles|    California|      90032|   West|     Technology|      Phones| 907.152|       6|     0.2| 90.7152|\n",
      "|Standard Class|   Consumer|United States|    Los Angeles|    California|      90032|   West|Office Supplies|     Binders|  18.504|       3|     0.2|  5.7825|\n",
      "|Standard Class|   Consumer|United States|    Los Angeles|    California|      90032|   West|Office Supplies|  Appliances|   114.9|       5|       0|   34.47|\n",
      "|Standard Class|   Consumer|United States|    Los Angeles|    California|      90032|   West|      Furniture|      Tables|1706.184|       9|     0.2| 85.3092|\n",
      "|Standard Class|   Consumer|United States|    Los Angeles|    California|      90032|   West|     Technology|      Phones| 911.424|       4|     0.2| 68.3568|\n",
      "|Standard Class|   Consumer|United States|        Concord|North Carolina|      28027|  South|Office Supplies|       Paper|  15.552|       3|     0.2|  5.4432|\n",
      "|Standard Class|   Consumer|United States|        Seattle|    Washington|      98103|   West|Office Supplies|     Binders| 407.976|       3|     0.2|132.5922|\n",
      "|Standard Class|Home Office|United States|     Fort Worth|         Texas|      76106|Central|Office Supplies|  Appliances|   68.81|       5|     0.8|-123.858|\n",
      "|Standard Class|Home Office|United States|     Fort Worth|         Texas|      76106|Central|Office Supplies|     Binders|   2.544|       3|     0.8|  -3.816|\n",
      "|Standard Class|   Consumer|United States|        Madison|     Wisconsin|      53711|Central|Office Supplies|     Storage|  665.88|       6|       0| 13.3176|\n",
      "|  Second Class|   Consumer|United States|    West Jordan|          Utah|      84084|   West|Office Supplies|     Storage|    55.5|       2|       0|    9.99|\n",
      "|  Second Class|   Consumer|United States|  San Francisco|    California|      94109|   West|Office Supplies|         Art|    8.56|       2|       0|  2.4824|\n",
      "|  Second Class|   Consumer|United States|  San Francisco|    California|      94109|   West|     Technology|      Phones|  213.48|       3|     0.2|  16.011|\n",
      "+--------------+-----------+-------------+---------------+--------------+-----------+-------+---------------+------------+--------+--------+--------+--------+\n",
      "only showing top 20 rows\n",
      "\n"
     ]
    }
   ],
   "source": [
    "df.show()"
   ]
  },
  {
   "cell_type": "raw",
   "id": "c547042d",
   "metadata": {},
   "source": [
    "Display all the table/Object Schema"
   ]
  },
  {
   "cell_type": "code",
   "execution_count": 37,
   "id": "d0562a4d",
   "metadata": {},
   "outputs": [
    {
     "name": "stdout",
     "output_type": "stream",
     "text": [
      "root\n",
      " |-- Ship Mode: string (nullable = true)\n",
      " |-- Segment: string (nullable = true)\n",
      " |-- Country: string (nullable = true)\n",
      " |-- City: string (nullable = true)\n",
      " |-- State: string (nullable = true)\n",
      " |-- Postal Code: string (nullable = true)\n",
      " |-- Region: string (nullable = true)\n",
      " |-- Category: string (nullable = true)\n",
      " |-- Sub-Category: string (nullable = true)\n",
      " |-- Sales: string (nullable = true)\n",
      " |-- Quantity: string (nullable = true)\n",
      " |-- Discount: string (nullable = true)\n",
      " |-- Profit: string (nullable = true)\n",
      "\n"
     ]
    }
   ],
   "source": [
    "df.printSchema()"
   ]
  },
  {
   "cell_type": "raw",
   "id": "20a04b77",
   "metadata": {},
   "source": [
    "Display Columns return a list"
   ]
  },
  {
   "cell_type": "code",
   "execution_count": 38,
   "id": "c5819665",
   "metadata": {},
   "outputs": [
    {
     "data": {
      "text/plain": [
       "['Ship Mode',\n",
       " 'Segment',\n",
       " 'Country',\n",
       " 'City',\n",
       " 'State',\n",
       " 'Postal Code',\n",
       " 'Region',\n",
       " 'Category',\n",
       " 'Sub-Category',\n",
       " 'Sales',\n",
       " 'Quantity',\n",
       " 'Discount',\n",
       " 'Profit']"
      ]
     },
     "execution_count": 38,
     "metadata": {},
     "output_type": "execute_result"
    }
   ],
   "source": [
    "df.columns"
   ]
  },
  {
   "cell_type": "code",
   "execution_count": 39,
   "id": "f5e89fbb",
   "metadata": {},
   "outputs": [
    {
     "name": "stdout",
     "output_type": "stream",
     "text": [
      "+-------+--------------+-----------+-------------+--------+-------+------------------+-------+----------+------------+-----------------+-----------------+-------------------+------------------+\n",
      "|summary|     Ship Mode|    Segment|      Country|    City|  State|       Postal Code| Region|  Category|Sub-Category|            Sales|         Quantity|           Discount|            Profit|\n",
      "+-------+--------------+-----------+-------------+--------+-------+------------------+-------+----------+------------+-----------------+-----------------+-------------------+------------------+\n",
      "|  count|          9994|       9994|         9994|    9994|   9994|              9994|   9994|      9994|        9994|             9994|             9994|               9994|              9994|\n",
      "|   mean|          null|       null|         null|    null|   null|  55190.3794276566|   null|      null|        null|229.8580008304938|3.789573744246548|0.15620272163298934|28.656896307784802|\n",
      "| stddev|          null|       null|         null|    null|   null|32063.693350364487|   null|      null|        null|623.2451005086809|2.225109691141402|0.20645196782571626| 234.2601076909573|\n",
      "|    min|   First Class|   Consumer|United States|Aberdeen|Alabama|             10009|Central| Furniture| Accessories|            0.444|                1|                  0|           -0.0895|\n",
      "|    max|Standard Class|Home Office|United States|    Yuma|Wyoming|             99301|   West|Technology|      Tables|           999.98|                9|                0.8|           99.9408|\n",
      "+-------+--------------+-----------+-------------+--------+-------+------------------+-------+----------+------------+-----------------+-----------------+-------------------+------------------+\n",
      "\n"
     ]
    }
   ],
   "source": [
    "df.describe().show()"
   ]
  },
  {
   "cell_type": "markdown",
   "id": "42044a24",
   "metadata": {},
   "source": [
    "##### Redefining the dataSchema of a dataframe, Sometimes pysaprk passes all data are passed as String </h4>"
   ]
  },
  {
   "cell_type": "code",
   "execution_count": 40,
   "id": "97913965",
   "metadata": {},
   "outputs": [],
   "source": [
    "from pyspark.sql.types import (StructField,StructType,\n",
    "                               ShortType,IntegerType,StringType,FloatType,BooleanType)"
   ]
  },
  {
   "cell_type": "code",
   "execution_count": 41,
   "id": "3fe9c19e",
   "metadata": {},
   "outputs": [],
   "source": [
    "newDataschema=[StructField('Ship Mode',StringType(),True),\n",
    "                StructField('Segment',StringType(),True),\n",
    "                StructField('Country',StringType(),True),\n",
    "                StructField('City',StringType(),True),\n",
    "                StructField('State',StringType(),True),\n",
    "                StructField('Postal Code',StringType(),True),\n",
    "                StructField('Region',StringType(),True),\n",
    "                StructField('Category',StringType(),True),\n",
    "                StructField('Sub-Category',StringType(),True),\n",
    "                StructField('Sales',IntegerType(),True),\n",
    "                StructField('Quantity',FloatType(),True),\n",
    "                StructField('Discount',FloatType(),True),\n",
    "                StructField('Profit',FloatType(),True)\n",
    "                ]"
   ]
  },
  {
   "cell_type": "markdown",
   "id": "aa88de37",
   "metadata": {},
   "source": [
    "<b>Reload the data with the new Schema </b>"
   ]
  },
  {
   "cell_type": "code",
   "execution_count": 44,
   "id": "d81c3b4c",
   "metadata": {},
   "outputs": [],
   "source": [
    "final_struc=StructType(fields=newDataschema)"
   ]
  },
  {
   "cell_type": "code",
   "execution_count": 45,
   "id": "c4e2d56c",
   "metadata": {},
   "outputs": [],
   "source": [
    "df=spark.read.csv('/Users/s.eromonsei/Documents/GitHub/DataFolder/SampleSuperstore.csv',header=True,schema=final_struc)"
   ]
  },
  {
   "cell_type": "code",
   "execution_count": 46,
   "id": "20029a86",
   "metadata": {},
   "outputs": [
    {
     "name": "stdout",
     "output_type": "stream",
     "text": [
      "root\n",
      " |-- Ship Mode: string (nullable = true)\n",
      " |-- Segment: string (nullable = true)\n",
      " |-- Country: string (nullable = true)\n",
      " |-- City: string (nullable = true)\n",
      " |-- State: string (nullable = true)\n",
      " |-- Postal Code: string (nullable = true)\n",
      " |-- Region: string (nullable = true)\n",
      " |-- Category: string (nullable = true)\n",
      " |-- Sub-Category: string (nullable = true)\n",
      " |-- Sales: integer (nullable = true)\n",
      " |-- Quantity: float (nullable = true)\n",
      " |-- Discount: float (nullable = true)\n",
      " |-- Profit: float (nullable = true)\n",
      "\n"
     ]
    }
   ],
   "source": [
    "df.printSchema()"
   ]
  },
  {
   "cell_type": "raw",
   "id": "716ddf25",
   "metadata": {},
   "source": [
    "Selecting Rows and Columns from the DataFrame"
   ]
  },
  {
   "cell_type": "code",
   "execution_count": 47,
   "id": "fabc5eff",
   "metadata": {},
   "outputs": [
    {
     "name": "stdout",
     "output_type": "stream",
     "text": [
      "+--------------+-----------+-------------+---------------+\n",
      "|     Ship Mode|    Segment|      Country|           City|\n",
      "+--------------+-----------+-------------+---------------+\n",
      "|  Second Class|   Consumer|United States|      Henderson|\n",
      "|  Second Class|   Consumer|United States|      Henderson|\n",
      "|  Second Class|  Corporate|United States|    Los Angeles|\n",
      "|Standard Class|   Consumer|United States|Fort Lauderdale|\n",
      "|Standard Class|   Consumer|United States|Fort Lauderdale|\n",
      "|Standard Class|   Consumer|United States|    Los Angeles|\n",
      "|Standard Class|   Consumer|United States|    Los Angeles|\n",
      "|Standard Class|   Consumer|United States|    Los Angeles|\n",
      "|Standard Class|   Consumer|United States|    Los Angeles|\n",
      "|Standard Class|   Consumer|United States|    Los Angeles|\n",
      "|Standard Class|   Consumer|United States|    Los Angeles|\n",
      "|Standard Class|   Consumer|United States|    Los Angeles|\n",
      "|Standard Class|   Consumer|United States|        Concord|\n",
      "|Standard Class|   Consumer|United States|        Seattle|\n",
      "|Standard Class|Home Office|United States|     Fort Worth|\n",
      "|Standard Class|Home Office|United States|     Fort Worth|\n",
      "|Standard Class|   Consumer|United States|        Madison|\n",
      "|  Second Class|   Consumer|United States|    West Jordan|\n",
      "|  Second Class|   Consumer|United States|  San Francisco|\n",
      "|  Second Class|   Consumer|United States|  San Francisco|\n",
      "+--------------+-----------+-------------+---------------+\n",
      "only showing top 20 rows\n",
      "\n"
     ]
    }
   ],
   "source": [
    "df.select(df.columns[:4]).show()"
   ]
  },
  {
   "cell_type": "code",
   "execution_count": 67,
   "id": "9af95259",
   "metadata": {},
   "outputs": [
    {
     "name": "stdout",
     "output_type": "stream",
     "text": [
      "+------------+\n",
      "|Sub-Category|\n",
      "+------------+\n",
      "|   Bookcases|\n",
      "|      Chairs|\n",
      "|      Labels|\n",
      "|      Tables|\n",
      "|     Storage|\n",
      "| Furnishings|\n",
      "|         Art|\n",
      "|      Phones|\n",
      "|     Binders|\n",
      "|  Appliances|\n",
      "|      Tables|\n",
      "|      Phones|\n",
      "|       Paper|\n",
      "|     Binders|\n",
      "|  Appliances|\n",
      "|     Binders|\n",
      "|     Storage|\n",
      "|     Storage|\n",
      "|         Art|\n",
      "|      Phones|\n",
      "+------------+\n",
      "only showing top 20 rows\n",
      "\n"
     ]
    }
   ],
   "source": [
    "df.select('Sub-Category').show()"
   ]
  },
  {
   "cell_type": "markdown",
   "id": "f482fb08",
   "metadata": {},
   "source": [
    "<b> Selecting multiple Columns from a DataFrame </b>"
   ]
  },
  {
   "cell_type": "code",
   "execution_count": 75,
   "id": "0419d8e7",
   "metadata": {},
   "outputs": [
    {
     "name": "stdout",
     "output_type": "stream",
     "text": [
      "+------------+--------------+\n",
      "|Sub-Category|     Ship Mode|\n",
      "+------------+--------------+\n",
      "|   Bookcases|  Second Class|\n",
      "|      Chairs|  Second Class|\n",
      "|      Labels|  Second Class|\n",
      "|      Tables|Standard Class|\n",
      "|     Storage|Standard Class|\n",
      "| Furnishings|Standard Class|\n",
      "|         Art|Standard Class|\n",
      "|      Phones|Standard Class|\n",
      "|     Binders|Standard Class|\n",
      "|  Appliances|Standard Class|\n",
      "|      Tables|Standard Class|\n",
      "|      Phones|Standard Class|\n",
      "|       Paper|Standard Class|\n",
      "|     Binders|Standard Class|\n",
      "|  Appliances|Standard Class|\n",
      "|     Binders|Standard Class|\n",
      "|     Storage|Standard Class|\n",
      "|     Storage|  Second Class|\n",
      "|         Art|  Second Class|\n",
      "|      Phones|  Second Class|\n",
      "+------------+--------------+\n",
      "only showing top 20 rows\n",
      "\n"
     ]
    }
   ],
   "source": [
    "df.select(['Sub-Category','Ship Mode']).show()"
   ]
  },
  {
   "cell_type": "code",
   "execution_count": null,
   "id": "3bb10660",
   "metadata": {},
   "outputs": [],
   "source": [
    "type(df['Sub-Category'])"
   ]
  },
  {
   "cell_type": "markdown",
   "id": "7777f7b6",
   "metadata": {},
   "source": [
    "<b> Creating a new columns from existing columns </b>"
   ]
  },
  {
   "cell_type": "code",
   "execution_count": 85,
   "id": "579fddc1",
   "metadata": {},
   "outputs": [
    {
     "name": "stdout",
     "output_type": "stream",
     "text": [
      "+--------------+-----------+-------------+---------------+--------------+-----------+-------+---------------+------------+-----+--------+--------+--------+---------+\n",
      "|     Ship Mode|    Segment|      Country|           City|         State|Postal Code| Region|       Category|Sub-Category|Sales|Quantity|Discount|  Profit|NewProfit|\n",
      "+--------------+-----------+-------------+---------------+--------------+-----------+-------+---------------+------------+-----+--------+--------+--------+---------+\n",
      "|  Second Class|   Consumer|United States|      Henderson|      Kentucky|      42420|  South|      Furniture|   Bookcases| null|     2.0|     0.0| 41.9136|  83.8272|\n",
      "|  Second Class|   Consumer|United States|      Henderson|      Kentucky|      42420|  South|      Furniture|      Chairs| null|     3.0|     0.0| 219.582|  439.164|\n",
      "|  Second Class|  Corporate|United States|    Los Angeles|    California|      90036|   West|Office Supplies|      Labels| null|     2.0|     0.0|  6.8714|  13.7428|\n",
      "|Standard Class|   Consumer|United States|Fort Lauderdale|       Florida|      33311|  South|      Furniture|      Tables| null|     5.0|    0.45|-383.031| -766.062|\n",
      "|Standard Class|   Consumer|United States|Fort Lauderdale|       Florida|      33311|  South|Office Supplies|     Storage| null|     2.0|     0.2|  2.5164|   5.0328|\n",
      "|Standard Class|   Consumer|United States|    Los Angeles|    California|      90032|   West|      Furniture| Furnishings| null|     7.0|     0.0| 14.1694|  28.3388|\n",
      "|Standard Class|   Consumer|United States|    Los Angeles|    California|      90032|   West|Office Supplies|         Art| null|     4.0|     0.0|  1.9656|   3.9312|\n",
      "|Standard Class|   Consumer|United States|    Los Angeles|    California|      90032|   West|     Technology|      Phones| null|     6.0|     0.2| 90.7152| 181.4304|\n",
      "|Standard Class|   Consumer|United States|    Los Angeles|    California|      90032|   West|Office Supplies|     Binders| null|     3.0|     0.2|  5.7825|   11.565|\n",
      "|Standard Class|   Consumer|United States|    Los Angeles|    California|      90032|   West|Office Supplies|  Appliances| null|     5.0|     0.0|   34.47|    68.94|\n",
      "|Standard Class|   Consumer|United States|    Los Angeles|    California|      90032|   West|      Furniture|      Tables| null|     9.0|     0.2| 85.3092| 170.6184|\n",
      "|Standard Class|   Consumer|United States|    Los Angeles|    California|      90032|   West|     Technology|      Phones| null|     4.0|     0.2| 68.3568| 136.7136|\n",
      "|Standard Class|   Consumer|United States|        Concord|North Carolina|      28027|  South|Office Supplies|       Paper| null|     3.0|     0.2|  5.4432|  10.8864|\n",
      "|Standard Class|   Consumer|United States|        Seattle|    Washington|      98103|   West|Office Supplies|     Binders| null|     3.0|     0.2|132.5922| 265.1844|\n",
      "|Standard Class|Home Office|United States|     Fort Worth|         Texas|      76106|Central|Office Supplies|  Appliances| null|     5.0|     0.8|-123.858| -247.716|\n",
      "|Standard Class|Home Office|United States|     Fort Worth|         Texas|      76106|Central|Office Supplies|     Binders| null|     3.0|     0.8|  -3.816|   -7.632|\n",
      "|Standard Class|   Consumer|United States|        Madison|     Wisconsin|      53711|Central|Office Supplies|     Storage| null|     6.0|     0.0| 13.3176|  26.6352|\n",
      "|  Second Class|   Consumer|United States|    West Jordan|          Utah|      84084|   West|Office Supplies|     Storage| null|     2.0|     0.0|    9.99|    19.98|\n",
      "|  Second Class|   Consumer|United States|  San Francisco|    California|      94109|   West|Office Supplies|         Art| null|     2.0|     0.0|  2.4824|   4.9648|\n",
      "|  Second Class|   Consumer|United States|  San Francisco|    California|      94109|   West|     Technology|      Phones| null|     3.0|     0.2|  16.011|   32.022|\n",
      "+--------------+-----------+-------------+---------------+--------------+-----------+-------+---------------+------------+-----+--------+--------+--------+---------+\n",
      "only showing top 20 rows\n",
      "\n"
     ]
    }
   ],
   "source": [
    "df.withColumn('NewProfit',df['Profit']*2).show()"
   ]
  },
  {
   "cell_type": "code",
   "execution_count": 88,
   "id": "ecdddebc",
   "metadata": {},
   "outputs": [
    {
     "name": "stdout",
     "output_type": "stream",
     "text": [
      "+--------------+-----------+-------------+---------------+--------------+-----------+-------+---------------+------------+-----+--------+--------+--------+\n",
      "|     Ship Mode|    Segment|      Country|           City|         State|Postal Code| Region|       Category|Sub-Category|Sales|Quantity|Discount|  Margin|\n",
      "+--------------+-----------+-------------+---------------+--------------+-----------+-------+---------------+------------+-----+--------+--------+--------+\n",
      "|  Second Class|   Consumer|United States|      Henderson|      Kentucky|      42420|  South|      Furniture|   Bookcases| null|     2.0|     0.0| 41.9136|\n",
      "|  Second Class|   Consumer|United States|      Henderson|      Kentucky|      42420|  South|      Furniture|      Chairs| null|     3.0|     0.0| 219.582|\n",
      "|  Second Class|  Corporate|United States|    Los Angeles|    California|      90036|   West|Office Supplies|      Labels| null|     2.0|     0.0|  6.8714|\n",
      "|Standard Class|   Consumer|United States|Fort Lauderdale|       Florida|      33311|  South|      Furniture|      Tables| null|     5.0|    0.45|-383.031|\n",
      "|Standard Class|   Consumer|United States|Fort Lauderdale|       Florida|      33311|  South|Office Supplies|     Storage| null|     2.0|     0.2|  2.5164|\n",
      "|Standard Class|   Consumer|United States|    Los Angeles|    California|      90032|   West|      Furniture| Furnishings| null|     7.0|     0.0| 14.1694|\n",
      "|Standard Class|   Consumer|United States|    Los Angeles|    California|      90032|   West|Office Supplies|         Art| null|     4.0|     0.0|  1.9656|\n",
      "|Standard Class|   Consumer|United States|    Los Angeles|    California|      90032|   West|     Technology|      Phones| null|     6.0|     0.2| 90.7152|\n",
      "|Standard Class|   Consumer|United States|    Los Angeles|    California|      90032|   West|Office Supplies|     Binders| null|     3.0|     0.2|  5.7825|\n",
      "|Standard Class|   Consumer|United States|    Los Angeles|    California|      90032|   West|Office Supplies|  Appliances| null|     5.0|     0.0|   34.47|\n",
      "|Standard Class|   Consumer|United States|    Los Angeles|    California|      90032|   West|      Furniture|      Tables| null|     9.0|     0.2| 85.3092|\n",
      "|Standard Class|   Consumer|United States|    Los Angeles|    California|      90032|   West|     Technology|      Phones| null|     4.0|     0.2| 68.3568|\n",
      "|Standard Class|   Consumer|United States|        Concord|North Carolina|      28027|  South|Office Supplies|       Paper| null|     3.0|     0.2|  5.4432|\n",
      "|Standard Class|   Consumer|United States|        Seattle|    Washington|      98103|   West|Office Supplies|     Binders| null|     3.0|     0.2|132.5922|\n",
      "|Standard Class|Home Office|United States|     Fort Worth|         Texas|      76106|Central|Office Supplies|  Appliances| null|     5.0|     0.8|-123.858|\n",
      "|Standard Class|Home Office|United States|     Fort Worth|         Texas|      76106|Central|Office Supplies|     Binders| null|     3.0|     0.8|  -3.816|\n",
      "|Standard Class|   Consumer|United States|        Madison|     Wisconsin|      53711|Central|Office Supplies|     Storage| null|     6.0|     0.0| 13.3176|\n",
      "|  Second Class|   Consumer|United States|    West Jordan|          Utah|      84084|   West|Office Supplies|     Storage| null|     2.0|     0.0|    9.99|\n",
      "|  Second Class|   Consumer|United States|  San Francisco|    California|      94109|   West|Office Supplies|         Art| null|     2.0|     0.0|  2.4824|\n",
      "|  Second Class|   Consumer|United States|  San Francisco|    California|      94109|   West|     Technology|      Phones| null|     3.0|     0.2|  16.011|\n",
      "+--------------+-----------+-------------+---------------+--------------+-----------+-------+---------------+------------+-----+--------+--------+--------+\n",
      "only showing top 20 rows\n",
      "\n"
     ]
    }
   ],
   "source": [
    "df.withColumnRenamed('Profit','Margin').show()"
   ]
  },
  {
   "cell_type": "markdown",
   "id": "0d98f6f5",
   "metadata": {},
   "source": [
    "<b>Selecting Rows from a dataFrame </b>"
   ]
  },
  {
   "cell_type": "code",
   "execution_count": 71,
   "id": "45996881",
   "metadata": {},
   "outputs": [
    {
     "data": {
      "text/plain": [
       "[Row(Ship Mode='Second Class', Segment='Consumer', Country='United States', City='Henderson', State='Kentucky', Postal Code='42420', Region='South', Category='Furniture', Sub-Category='Bookcases', Sales=None, Quantity=2.0, Discount=0.0, Profit=41.91360092163086),\n",
       " Row(Ship Mode='Second Class', Segment='Consumer', Country='United States', City='Henderson', State='Kentucky', Postal Code='42420', Region='South', Category='Furniture', Sub-Category='Chairs', Sales=None, Quantity=3.0, Discount=0.0, Profit=219.58200073242188)]"
      ]
     },
     "execution_count": 71,
     "metadata": {},
     "output_type": "execute_result"
    }
   ],
   "source": [
    "df.head(2)"
   ]
  },
  {
   "cell_type": "code",
   "execution_count": 72,
   "id": "42ad8ed0",
   "metadata": {},
   "outputs": [
    {
     "data": {
      "text/plain": [
       "pyspark.sql.types.Row"
      ]
     },
     "execution_count": 72,
     "metadata": {},
     "output_type": "execute_result"
    }
   ],
   "source": [
    "type(df.head(2)[0])"
   ]
  },
  {
   "cell_type": "code",
   "execution_count": 58,
   "id": "c5b30bac",
   "metadata": {},
   "outputs": [
    {
     "data": {
      "text/plain": [
       "Row(Ship Mode='Second Class', Segment='Consumer', Country='United States', City='Henderson', State='Kentucky', Postal Code='42420', Region='South', Category='Furniture', Sub-Category='Bookcases', Sales=None, Quantity=2.0, Discount=0.0, Profit=41.91360092163086)"
      ]
     },
     "execution_count": 58,
     "metadata": {},
     "output_type": "execute_result"
    }
   ],
   "source": [
    "# Index to get the first row\n",
    "df.head(2)[0]"
   ]
  },
  {
   "cell_type": "code",
   "execution_count": null,
   "id": "2ad8cd8d",
   "metadata": {},
   "outputs": [],
   "source": []
  }
 ],
 "metadata": {
  "kernelspec": {
   "display_name": "Python 3",
   "language": "python",
   "name": "python3"
  },
  "language_info": {
   "codemirror_mode": {
    "name": "ipython",
    "version": 3
   },
   "file_extension": ".py",
   "mimetype": "text/x-python",
   "name": "python",
   "nbconvert_exporter": "python",
   "pygments_lexer": "ipython3",
   "version": "3.10.4 (v3.10.4:9d38120e33, Mar 23 2022, 17:29:05) [Clang 13.0.0 (clang-1300.0.29.30)]"
  },
  "vscode": {
   "interpreter": {
    "hash": "7e1998ff7f8aa20ada591c520b972326324e5ea05489af9e422744c7c09f6dad"
   }
  }
 },
 "nbformat": 4,
 "nbformat_minor": 5
}
