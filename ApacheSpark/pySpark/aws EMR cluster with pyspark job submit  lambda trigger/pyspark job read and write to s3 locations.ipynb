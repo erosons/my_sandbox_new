{
 "cells": [
  {
   "cell_type": "raw",
   "id": "84870c2e",
   "metadata": {},
   "source": [
    "Resources setup in AWS\n",
    "=========================\n",
    "1.  Create your code bucket =>s3://codebucketpsspark\n",
    "2.  Source data bucket => s3://etlbucket/SampleSuperstore.csv\n",
    "3.  Destination bucket => s3://boto3practticebucket/aggregatedData.csv\n",
    "4.  Create a role with the following policies : cloudwatch,s3,emr\n",
    "5.  Create Lambda function and attach role\n",
    "6.  Setup trigger to the destination s3\n",
    "6.  Attach lambda function to source data bucket "
   ]
  },
  {
   "cell_type": "code",
   "execution_count": null,
   "id": "19a7d2cf",
   "metadata": {},
   "outputs": [],
   "source": [
    "import sys\n",
    "from pyspark.sql import SparkSession\n",
    "from pyspark import SparkContext\n",
    "from pyspark.sql.types import (StructField,StructType,\n",
    "                               ShortType,IntegerType,StringType,FloatType,BooleanType)\n",
    "\n",
    "spark=SparkSession\\\n",
    "         .builder\\\n",
    "         .appName('S3 read and write job')\\\n",
    "         .getOrCreate()\n",
    "\n",
    "\n",
    "def main():\n",
    "    s3_bucket = sys.argv[1]\n",
    "    s3_filename = sys.argv[2]\n",
    "    #s3_location = \"s3://athena-bucket1/QueryResults/\".format(s3_bucket,s3_file)\n",
    "    #s3_location = \"s3://{}/{}\".format(s3_bucket,s3_filename )\n",
    "    #iris = spark.read.format(\"csv\").option(\"inferSchema\",\"true\").option(\"header\",\"true\").load(s3_location)\n",
    "    superData = spark.read.csv('s3://etlbucket/SampleSuperstore.csv',\"header\"=\"true\",\"inferSchema\"=\"true\")\n",
    "    superData=iris.groupby(\"region\").count()\n",
    "    superData.write.format(\"csv\").option(\"header\",\"true\").save(\"s3://etlbucket/aggregatedData.csv\")\n",
    "    \n",
    "    \n",
    "if __name__==\"__main\":\n",
    "    main()"
   ]
  },
  {
   "cell_type": "code",
   "execution_count": null,
   "id": "a37d387a",
   "metadata": {},
   "outputs": [],
   "source": []
  }
 ],
 "metadata": {
  "kernelspec": {
   "display_name": "Python 3 (ipykernel)",
   "language": "python",
   "name": "python3"
  },
  "language_info": {
   "codemirror_mode": {
    "name": "ipython",
    "version": 3
   },
   "file_extension": ".py",
   "mimetype": "text/x-python",
   "name": "python",
   "nbconvert_exporter": "python",
   "pygments_lexer": "ipython3",
   "version": "3.9.7"
  }
 },
 "nbformat": 4,
 "nbformat_minor": 5
}
