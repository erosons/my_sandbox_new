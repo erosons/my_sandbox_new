{
 "cells": [
  {
   "cell_type": "code",
   "execution_count": null,
   "id": "6a11b549",
   "metadata": {},
   "outputs": [],
   "source": [
    "import boto3\n",
    "import emr_configuration_and_steps\n",
    "import logging\n",
    "import traceback\n",
    "\n",
    "logger = logging.getLogger(__name__)\n",
    "logger.setLevel(logging.INFO)\n",
    "formatter = logging.Formatter('%(asctime)s:%(levelname)s:%(name)s:%(message)s')\n",
    "\n",
    "fh=logging.FileHandler(\"emr.log\")\n",
    "\n",
    "fh.setFormatter(formatter)\n",
    "\n",
    "logger.addHandler(fh)\n",
    "\n",
    "\n",
    "def lambda_handler(event,context):\n",
    "    logger.info(\"starting the lambda function for spawning EMR\")\n",
    "    \n",
    "    try:\n",
    "        emr_provisioning = boto3.client('emr',region_name='us-east-1',aws_access_key_id=os.environ['aws_access_keys'],\\\n",
    "                                aws_secret_access_key=os.environ['aws_secret_key'])\n",
    "        cluster_id = emr_provisioning.run_job_flow(\n",
    "            Name='spark_job_cluster',\n",
    "            VisibleToAllUsers=emr_configuration_and_steps.visible_to_all_users,\n",
    "            LogUri=emr_configuration_and_steps.log_uri,\n",
    "            ReleaseLabel=emr_configuration_and_steps.release_label,\n",
    "            Applications=emr_configuration_and_steps.applications,\n",
    "            Tags=emr_configuration_and_steps.tags,\n",
    "            Instances=emr_configuration_and_steps.instances,\n",
    "            Steps=emr_configuration_and_steps.steps,\n",
    "            Configurations=emr_configuration_and_steps.configurations,\n",
    "            ScaleDownBehavior=emr_configuration_and_steps.scale_down_behavior,\n",
    "            ServiceRole=emr_configuration_and_steps.service_role,\n",
    "            JobFlowRole=emr_configuration_and_steps.job_flow_role\n",
    "        )\n",
    "        logger.info(\"EMR is created successfully\")\n",
    "        return cluster_id['JobFlowId']\n",
    "    except Exception as e:\n",
    "        traceback.print_exc()\n",
    "        raise Exception(e)"
   ]
  }
 ],
 "metadata": {
  "kernelspec": {
   "display_name": "Python 3 (ipykernel)",
   "language": "python",
   "name": "python3"
  },
  "language_info": {
   "codemirror_mode": {
    "name": "ipython",
    "version": 3
   },
   "file_extension": ".py",
   "mimetype": "text/x-python",
   "name": "python",
   "nbconvert_exporter": "python",
   "pygments_lexer": "ipython3",
   "version": "3.9.7"
  }
 },
 "nbformat": 4,
 "nbformat_minor": 5
}
