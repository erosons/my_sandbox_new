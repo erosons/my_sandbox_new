{
 "cells": [
  {
   "cell_type": "code",
   "execution_count": 1,
   "id": "7de73d47",
   "metadata": {},
   "outputs": [],
   "source": [
    "import findspark\n",
    "findspark.init('/Users/s.eromonsei/Documents/GitHub/Engine/spark-3.2.0-bin-hadoop3.2')\n",
    "import pyspark\n",
    "from pyspark.sql import SparkSession\n",
    "from pyspark.sql.types import (StructField,StructType,\n",
    "                               ShortType,IntegerType,StringType,FloatType,BooleanType)"
   ]
  },
  {
   "cell_type": "code",
   "execution_count": 2,
   "id": "56ef2d3b",
   "metadata": {},
   "outputs": [
    {
     "name": "stderr",
     "output_type": "stream",
     "text": [
      "22/03/20 21:12:35 WARN Utils: Your hostname, seromonseis-MacBook-Pro.local resolves to a loopback address: 127.0.0.1; using 10.0.0.98 instead (on interface en0)\n",
      "22/03/20 21:12:35 WARN Utils: Set SPARK_LOCAL_IP if you need to bind to another address\n",
      "Using Spark's default log4j profile: org/apache/spark/log4j-defaults.properties\n",
      "Setting default log level to \"WARN\".\n",
      "To adjust logging level use sc.setLogLevel(newLevel). For SparkR, use setLogLevel(newLevel).\n",
      "22/03/20 21:12:35 WARN NativeCodeLoader: Unable to load native-hadoop library for your platform... using builtin-java classes where applicable\n"
     ]
    }
   ],
   "source": [
    "spark=SparkSession.builder.appName('OpsBasic').getOrCreate()\n",
    "df=spark.read.csv('/Users/s.eromonsei/Documents/GitHub/DataFolder/Historical_stock_prices.csv',inferSchema=True,header=True)"
   ]
  },
  {
   "cell_type": "code",
   "execution_count": 3,
   "id": "410f1adf",
   "metadata": {},
   "outputs": [
    {
     "name": "stdout",
     "output_type": "stream",
     "text": [
      "root\n",
      " |-- Date: string (nullable = true)\n",
      " |-- Open: string (nullable = true)\n",
      " |-- High: string (nullable = true)\n",
      " |-- Low: string (nullable = true)\n",
      " |-- Close*: string (nullable = true)\n",
      " |-- Adj Close**: string (nullable = true)\n",
      " |-- Volume: string (nullable = true)\n",
      "\n"
     ]
    }
   ],
   "source": [
    "df.printSchema()"
   ]
  },
  {
   "cell_type": "markdown",
   "id": "a5bec9f8",
   "metadata": {},
   "source": [
    "Filter Operations in pySpark"
   ]
  },
  {
   "cell_type": "code",
   "execution_count": 14,
   "id": "a25b9af3",
   "metadata": {},
   "outputs": [
    {
     "name": "stdout",
     "output_type": "stream",
     "text": [
      "+---------+------+------+------+------+-----------+-----------+\n",
      "|     Date|  Open|  High|   Low|Close*|Adj Close**|     Volume|\n",
      "+---------+------+------+------+------+-----------+-----------+\n",
      "|24-Mar-95|496.07|500.97|496.07|500.97|     500.97|358,370,000|\n",
      "|23-Mar-95|495.67|496.77|494.19|495.95|     495.95|318,530,000|\n",
      "|22-Mar-95|495.07|495.67|493.67|495.67|     495.67|313,120,000|\n",
      "|21-Mar-95|496.15|499.19|494.04|495.07|     495.07|367,110,000|\n",
      "|20-Mar-95|495.52|496.61|495.27|496.14|     496.14|301,740,000|\n",
      "|17-Mar-95|495.43|496.67|494.95|495.52|     495.52|417,380,000|\n",
      "|16-Mar-95|491.87|495.74|491.78|495.41|     495.41|336,670,000|\n",
      "|15-Mar-95|492.89|492.89|490.83|491.88|     491.88|309,540,000|\n",
      "|14-Mar-95|490.05|493.69|490.05|492.89|     492.89|346,160,000|\n",
      "|13-Mar-95|489.57|491.28|489.35|490.05|     490.05|275,280,000|\n",
      "|10-Mar-95|483.16|490.37|483.16|489.57|     489.57|382,940,000|\n",
      "| 9-Mar-95|483.14|483.74|482.05|483.16|     483.16|319,320,000|\n",
      "| 8-Mar-95|482.12|484.08|481.57|483.14|     483.14|349,780,000|\n",
      "| 7-Mar-95|485.63|485.63| 479.7|482.12|     482.12|355,550,000|\n",
      "| 6-Mar-95|485.42| 485.7|481.52|485.63|     485.63|298,870,000|\n",
      "| 3-Mar-95|485.13|485.42|483.07|485.42|     485.42|330,840,000|\n",
      "| 2-Mar-95|485.65|485.71|483.19|485.13|     485.13|330,030,000|\n",
      "| 1-Mar-95|487.39|487.83|484.92|485.65|     485.65|362,600,000|\n",
      "|28-Feb-95|483.81|487.44|483.77|487.39|     487.39|317,220,000|\n",
      "|27-Feb-95|488.26|488.26|483.18|483.81|     483.81|285,790,000|\n",
      "+---------+------+------+------+------+-----------+-----------+\n",
      "only showing top 20 rows\n",
      "\n"
     ]
    }
   ],
   "source": [
    "df.filter('Open < 500').show()"
   ]
  },
  {
   "cell_type": "raw",
   "id": "765647fb",
   "metadata": {},
   "source": [
    "Implementinng a select base on a filter criteria => We can select on or many columns"
   ]
  },
  {
   "cell_type": "code",
   "execution_count": 18,
   "id": "ea8f86a7",
   "metadata": {},
   "outputs": [
    {
     "name": "stdout",
     "output_type": "stream",
     "text": [
      "+------+------+\n",
      "|  open|  High|\n",
      "+------+------+\n",
      "|496.07|500.97|\n",
      "|495.67|496.77|\n",
      "|495.07|495.67|\n",
      "|496.15|499.19|\n",
      "|495.52|496.61|\n",
      "|495.43|496.67|\n",
      "|491.87|495.74|\n",
      "|492.89|492.89|\n",
      "|490.05|493.69|\n",
      "|489.57|491.28|\n",
      "|483.16|490.37|\n",
      "|483.14|483.74|\n",
      "|482.12|484.08|\n",
      "|485.63|485.63|\n",
      "|485.42| 485.7|\n",
      "|485.13|485.42|\n",
      "|485.65|485.71|\n",
      "|487.39|487.83|\n",
      "|483.81|487.44|\n",
      "|488.26|488.26|\n",
      "+------+------+\n",
      "only showing top 20 rows\n",
      "\n"
     ]
    }
   ],
   "source": [
    "df.filter('Open < 500').select(['open','High']).show()"
   ]
  },
  {
   "cell_type": "raw",
   "id": "91714155",
   "metadata": {},
   "source": [
    "Alternatively implementing a dataFrame operation instead of SQL"
   ]
  },
  {
   "cell_type": "code",
   "execution_count": 24,
   "id": "e663b7d0",
   "metadata": {},
   "outputs": [
    {
     "name": "stdout",
     "output_type": "stream",
     "text": [
      "+-----------+\n",
      "|     Volume|\n",
      "+-----------+\n",
      "|358,370,000|\n",
      "|318,530,000|\n",
      "|313,120,000|\n",
      "|367,110,000|\n",
      "|301,740,000|\n",
      "|417,380,000|\n",
      "|336,670,000|\n",
      "|309,540,000|\n",
      "|346,160,000|\n",
      "|275,280,000|\n",
      "|382,940,000|\n",
      "|319,320,000|\n",
      "|349,780,000|\n",
      "|355,550,000|\n",
      "|298,870,000|\n",
      "|330,840,000|\n",
      "|330,030,000|\n",
      "|362,600,000|\n",
      "|317,220,000|\n",
      "|285,790,000|\n",
      "+-----------+\n",
      "only showing top 20 rows\n",
      "\n"
     ]
    }
   ],
   "source": [
    "df.filter(df['open'] < 500).select('Volume').show()"
   ]
  },
  {
   "cell_type": "raw",
   "id": "0c765b9d",
   "metadata": {},
   "source": [
    "Filtering base on multiple conditions logics , use & => and | => Or  ~ => not in"
   ]
  },
  {
   "cell_type": "code",
   "execution_count": 33,
   "id": "136fad0a",
   "metadata": {},
   "outputs": [
    {
     "name": "stdout",
     "output_type": "stream",
     "text": [
      "+---------+------+------+------+------+-----------+-----------+\n",
      "|     Date|  Open|  High|   Low|Close*|Adj Close**|     Volume|\n",
      "+---------+------+------+------+------+-----------+-----------+\n",
      "|24-Mar-95|496.07|500.97|496.07|500.97|     500.97|358,370,000|\n",
      "|23-Mar-95|495.67|496.77|494.19|495.95|     495.95|318,530,000|\n",
      "|22-Mar-95|495.07|495.67|493.67|495.67|     495.67|313,120,000|\n",
      "|21-Mar-95|496.15|499.19|494.04|495.07|     495.07|367,110,000|\n",
      "|20-Mar-95|495.52|496.61|495.27|496.14|     496.14|301,740,000|\n",
      "|17-Mar-95|495.43|496.67|494.95|495.52|     495.52|417,380,000|\n",
      "|16-Mar-95|491.87|495.74|491.78|495.41|     495.41|336,670,000|\n",
      "|15-Mar-95|492.89|492.89|490.83|491.88|     491.88|309,540,000|\n",
      "|14-Mar-95|490.05|493.69|490.05|492.89|     492.89|346,160,000|\n",
      "|13-Mar-95|489.57|491.28|489.35|490.05|     490.05|275,280,000|\n",
      "|10-Mar-95|483.16|490.37|483.16|489.57|     489.57|382,940,000|\n",
      "| 9-Mar-95|483.14|483.74|482.05|483.16|     483.16|319,320,000|\n",
      "| 8-Mar-95|482.12|484.08|481.57|483.14|     483.14|349,780,000|\n",
      "| 7-Mar-95|485.63|485.63| 479.7|482.12|     482.12|355,550,000|\n",
      "| 6-Mar-95|485.42| 485.7|481.52|485.63|     485.63|298,870,000|\n",
      "| 3-Mar-95|485.13|485.42|483.07|485.42|     485.42|330,840,000|\n",
      "| 2-Mar-95|485.65|485.71|483.19|485.13|     485.13|330,030,000|\n",
      "| 1-Mar-95|487.39|487.83|484.92|485.65|     485.65|362,600,000|\n",
      "|28-Feb-95|483.81|487.44|483.77|487.39|     487.39|317,220,000|\n",
      "|27-Feb-95|488.26|488.26|483.18|483.81|     483.81|285,790,000|\n",
      "+---------+------+------+------+------+-----------+-----------+\n",
      "only showing top 20 rows\n",
      "\n"
     ]
    }
   ],
   "source": [
    "df.filter((df['open'] < 500) & ~(df['close*'] < 200)).show()"
   ]
  },
  {
   "cell_type": "raw",
   "id": "3032990d",
   "metadata": {},
   "source": [
    "Filtering for Specifics criterias Like Low == 479.7"
   ]
  },
  {
   "cell_type": "code",
   "execution_count": 34,
   "id": "0c530724",
   "metadata": {},
   "outputs": [
    {
     "name": "stdout",
     "output_type": "stream",
     "text": [
      "+--------+------+------+-----+------+-----------+-----------+\n",
      "|    Date|  Open|  High|  Low|Close*|Adj Close**|     Volume|\n",
      "+--------+------+------+-----+------+-----------+-----------+\n",
      "|7-Mar-95|485.63|485.63|479.7|482.12|     482.12|355,550,000|\n",
      "+--------+------+------+-----+------+-----------+-----------+\n",
      "\n"
     ]
    }
   ],
   "source": [
    "df.filter(df['Low'] == 479.7).show()"
   ]
  },
  {
   "cell_type": "markdown",
   "id": "88c5bbd1",
   "metadata": {},
   "source": [
    "<b>Collect Operations </b>"
   ]
  },
  {
   "cell_type": "raw",
   "id": "90b4acd1",
   "metadata": {},
   "source": [
    "=> This allows you to extract out the raw data from the table above into an array/ List"
   ]
  },
  {
   "cell_type": "code",
   "execution_count": 35,
   "id": "28a9489b",
   "metadata": {},
   "outputs": [
    {
     "data": {
      "text/plain": [
       "[Row(Date='7-Mar-95', Open='485.63', High='485.63', Low='479.7', Close*='482.12', Adj Close**='482.12', Volume='355,550,000')]"
      ]
     },
     "execution_count": 35,
     "metadata": {},
     "output_type": "execute_result"
    }
   ],
   "source": [
    "df.filter(df['Low'] == 479.7).collect()"
   ]
  },
  {
   "cell_type": "code",
   "execution_count": 40,
   "id": "690b8fed",
   "metadata": {},
   "outputs": [],
   "source": [
    "results = df.filter(df['Low'] == 479.7).collect()"
   ]
  },
  {
   "cell_type": "code",
   "execution_count": 44,
   "id": "65077639",
   "metadata": {},
   "outputs": [
    {
     "data": {
      "text/plain": [
       "Row(Date='7-Mar-95', Open='485.63', High='485.63', Low='479.7', Close*='482.12', Adj Close**='482.12', Volume='355,550,000')"
      ]
     },
     "execution_count": 44,
     "metadata": {},
     "output_type": "execute_result"
    }
   ],
   "source": [
    "#This extact the first row of the object through indexing\n",
    "results[0]"
   ]
  },
  {
   "cell_type": "code",
   "execution_count": 46,
   "id": "6357958d",
   "metadata": {},
   "outputs": [
    {
     "data": {
      "text/plain": [
       "{'Date': '7-Mar-95',\n",
       " 'Open': '485.63',\n",
       " 'High': '485.63',\n",
       " 'Low': '479.7',\n",
       " 'Close*': '482.12',\n",
       " 'Adj Close**': '482.12',\n",
       " 'Volume': '355,550,000'}"
      ]
     },
     "execution_count": 46,
     "metadata": {},
     "output_type": "execute_result"
    }
   ],
   "source": [
    "# We can then convert this into dictionary and grab use the Key to grab the Value.\n",
    "results[0].asDict()"
   ]
  },
  {
   "cell_type": "markdown",
   "id": "cc503cbb",
   "metadata": {},
   "source": [
    "Calling first few Rows"
   ]
  },
  {
   "cell_type": "code",
   "execution_count": 7,
   "id": "67423b1a",
   "metadata": {},
   "outputs": [
    {
     "data": {
      "text/plain": [
       "Row(Date='18-Mar-22', Open='4,407.34', High='4,465.40', Low='4,390.57', Close*='4,463.12', Adj Close**='4,463.12', Volume='4,233,761,000')"
      ]
     },
     "execution_count": 7,
     "metadata": {},
     "output_type": "execute_result"
    }
   ],
   "source": [
    "df.head(3)[0]"
   ]
  }
 ],
 "metadata": {
  "kernelspec": {
   "display_name": "Python 3",
   "language": "python",
   "name": "python3"
  },
  "language_info": {
   "codemirror_mode": {
    "name": "ipython",
    "version": 3
   },
   "file_extension": ".py",
   "mimetype": "text/x-python",
   "name": "python",
   "nbconvert_exporter": "python",
   "pygments_lexer": "ipython3",
   "version": "3.10.4 (v3.10.4:9d38120e33, Mar 23 2022, 17:29:05) [Clang 13.0.0 (clang-1300.0.29.30)]"
  },
  "vscode": {
   "interpreter": {
    "hash": "7e1998ff7f8aa20ada591c520b972326324e5ea05489af9e422744c7c09f6dad"
   }
  }
 },
 "nbformat": 4,
 "nbformat_minor": 5
}
