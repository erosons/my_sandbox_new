{
 "cells": [
  {
   "cell_type": "code",
   "execution_count": 16,
   "metadata": {},
   "outputs": [],
   "source": [
    "a=\"y\""
   ]
  },
  {
   "cell_type": "code",
   "execution_count": 9,
   "metadata": {},
   "outputs": [],
   "source": [
    "house=\"/home/samson/enex.csv\"\n",
    "num=\"/home/samson/enex.csv\".count(\"/\")\n"
   ]
  },
  {
   "cell_type": "code",
   "execution_count": null,
   "metadata": {},
   "outputs": [],
   "source": [
    "a."
   ]
  },
  {
   "cell_type": "code",
   "execution_count": 11,
   "metadata": {},
   "outputs": [
    {
     "data": {
      "text/plain": [
       "'enex.csv'"
      ]
     },
     "execution_count": 11,
     "metadata": {},
     "output_type": "execute_result"
    }
   ],
   "source": [
    "house.split(\"/\")[num]"
   ]
  },
  {
   "cell_type": "code",
   "execution_count": 13,
   "metadata": {},
   "outputs": [
    {
     "data": {
      "text/plain": [
       "'/Users/s.eromonsei/my_sandbox'"
      ]
     },
     "execution_count": 13,
     "metadata": {},
     "output_type": "execute_result"
    }
   ],
   "source": [
    "pwd"
   ]
  },
  {
   "cell_type": "code",
   "execution_count": 15,
   "metadata": {},
   "outputs": [],
   "source": [
    "import os\n",
    "os.makedirs(os.path.dirname(\"/Users/s.eromonsei/my_sandbox/Engineering/DataEngineering/airflow/dags/enel-x.py\"), exist_ok=True)"
   ]
  },
  {
   "cell_type": "code",
   "execution_count": null,
   "metadata": {},
   "outputs": [],
   "source": [
    "from datetime import datetime, timedelta\n",
    "from airflow.operators.python_operator import PythonOperator\n",
    "import pytz\n",
    "import os\n",
    "import logging\n",
    "from airflow.models.dag import DAG\n",
    "from airflow.utils.dates import days_ago\n",
    "from airflow.sensors.external_task_sensor import ExternalTaskSensor\n",
    "from airflow.providers.microsoft.azure.hooks.wasb import WasbHook\n",
    "from airflow.operators.bash import BashOperator\n",
    "import pandas as pd\n",
    "\n",
    "\n",
    "\n",
    "logging.basicConfig(filename='new.log', level=logging.DEBUG,\n",
    "                    format='(name)s:%(asctime)s:%(levelname)s:%(message)s')\n",
    "\n",
    "\n",
    "args = {\n",
    "    \"owner\": \"Samson\",\n",
    "    \"start_date\": days_ago(1),\n",
    "    \"retries\": 3,\n",
    "    \"retry_delay\": timedelta(minutes=10),\n",
    "    \"owner\": \"Samson\",\n",
    "    \"email\": \n",
    "\n",
    "\n",
    "with DAG(\n",
    "    dag_id=\"Casio_Battery_Extract_from_Azure_Ingestion_to_awsbucket\",\n",
    "    schedule_interval=timedelta(1),\n",
    "    tags=[\"Load to A2 for CAISO Battery Customers\"],\n",
    "    default_args=args,\n",
    "    catchup=False,\n",
    ") as dag:\n",
    "\n",
    "    container_name = \"enelx\"\n",
    "    today = datetime.utcnow()\n",
    "    yesterday = today - timedelta(days=1)\n",
    "    dateRef = today.strftime('%Y%m%d')\n",
    "    thresholdTime = pytz.UTC.localize(yesterday)\n",
    "    localPath=\"/tmp\"\n",
    "    blobConn=WasbHook(wasb_conn_id=\"AzureBlob\",public_read=False)\n",
    "\n",
    "\n",
    "    def conn_test():\n",
    "     \"\"\"\n",
    "     Check azure blob connectivity\n",
    "     \"\"\"\n",
    "     try:\n",
    "   \n",
    "        return print(blobConn.get_conn())\n",
    "         \n",
    "     except:\n",
    "        return logging.debug(\"COnnectivity to the blob storage cnuld not be established\")\n",
    "    \n",
    "\n",
    "    def readblob(container_name,blob_name):\n",
    "     \"\"\"\n",
    "     Check azure blob connectivity\n",
    "     \"\"\"\n",
    "     try:\n",
    "        if  blobConn.check_for_blob(container_name, blob_name)==True:\n",
    "            print(True)\n",
    "            #df = pd.read_csv(f'{blobConn.read_file(container_name, blob_name)}')\n",
    "            print(blobConn.read_file(container_name, blob_name))\n",
    "     except:\n",
    "        logging.error(\"Blob does not exist in storage\")\n",
    "\n",
    "\n",
    "    def getbloblist():\n",
    "        \"\"\"Getting Blob based on the date criteria\n",
    "        Parameters\n",
    "        - params container_name (str) – The name of the container\n",
    "        - Params prefix (str | None) – Filters the results to return only blobs whose names begin with the specified prefix\n",
    "        \"\"\"\n",
    "        \n",
    "        for blob in blobConn.get_blobs_list(container_name=container_name, prefix=\"MeterData/uploads/\") :\n",
    "            print(type(blob))\n",
    "            #readblob(container_name,blob)\n",
    "            # if   thresholdTime < blob.last_modified :\n",
    "            #     # write blob to local directory\n",
    "            #     num = blob.count('/')\n",
    "            #     blobName = blob.split('/')[num]\n",
    "            #     print(blobName)\n",
    "                # dateRef = blob.creation_time.strftime('%Y%m%d')\n",
    "                # download_file_path = os.path.join(localPath + dateRef, blobName)\n",
    "                # os.makedirs(os.path.dirname(download_file_path), exist_ok=True)\n",
    "                \n",
    "                blobConn.get_file(download_file_path, container_name, blobName)\n",
    "                        #Download a file from Azure Blob Storage.\n",
    "                        #file_path (str) – Path to the file to download.\n",
    "                        #container_name (str) – Name of the container.\n",
    "                        #blob_name (str) – Name of the blob.\n",
    "                        # kwargs – Optional keyword arguments that BlobClient.download_blob() takes.\n",
    "\n",
    "                \n",
    "        return logging.info(\"Blobs successful\")\n",
    "  \n",
    "\n",
    "    Blob_read = PythonOperator(\n",
    "        task_id=\"readBlob\",\n",
    "        python_callable=readblob,\n",
    "        dag=dag\n",
    "        )\n",
    "\n",
    "    testblobConn= PythonOperator(\n",
    "        task_id=\"conn_test\",\n",
    "        python_callable=conn_test,\n",
    "        dag=dag\n",
    "        )\n",
    "\n",
    "    listBlob= PythonOperator(\n",
    "        task_id=\"BlobList\",\n",
    "        python_callable=getbloblist,\n",
    "        dag=dag\n",
    "        )\n",
    "\n",
    "    \n",
    "\n",
    "    testblobConn >> listBlob"
   ]
  }
 ],
 "metadata": {
  "kernelspec": {
   "display_name": "Python 3",
   "language": "python",
   "name": "python3"
  },
  "language_info": {
   "codemirror_mode": {
    "name": "ipython",
    "version": 3
   },
   "file_extension": ".py",
   "mimetype": "text/x-python",
   "name": "python",
   "nbconvert_exporter": "python",
   "pygments_lexer": "ipython3",
   "version": "3.10.4"
  },
  "orig_nbformat": 4,
  "vscode": {
   "interpreter": {
    "hash": "7e1998ff7f8aa20ada591c520b972326324e5ea05489af9e422744c7c09f6dad"
   }
  }
 },
 "nbformat": 4,
 "nbformat_minor": 2
}
