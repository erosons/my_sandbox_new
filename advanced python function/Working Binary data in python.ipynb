{
 "cells": [
  {
   "cell_type": "markdown",
   "metadata": {},
   "source": [
    "# <b>Streaming data and buffers</b>"
   ]
  },
  {
   "cell_type": "markdown",
   "metadata": {},
   "source": [
    "Python io module allows us to manage the file-related input and output operations. The advantage of using the IO module is that the classes and functions available allows us to extend the functionality to enable writing to the Unicode data.\n",
    "\n",
    "A data stream as the name suggests is a stream of data. We can visualize this as the stream of water flowing from one end to another. \n",
    "\n",
    "Each droplet of water is the packet of data flowing in the stream and we can resize this data packet as per our needs.\n",
    "If we have a massive file to deal with, we can process the file’s data one packet at a time instead of loading the entire file in the memory. Also, we can write to a file or data store one packet at a time.\n",
    "\n",
    "Buffer, on the other hand, is a temporary region of volatile memory (RAM) where data can be stored before consuming it. We can read from or write to a data buffer using streams."
   ]
  },
  {
   "cell_type": "code",
   "execution_count": 8,
   "metadata": {},
   "outputs": [
    {
     "data": {
      "text/plain": [
       "bytes"
      ]
     },
     "execution_count": 8,
     "metadata": {},
     "output_type": "execute_result"
    }
   ],
   "source": [
    "# Creating a byte types and example\n",
    "\n",
    "mybinarytext=b'Hello World!'\n",
    "\n",
    "type(mybinarytext)\n"
   ]
  },
  {
   "cell_type": "code",
   "execution_count": 15,
   "metadata": {},
   "outputs": [
    {
     "name": "stdout",
     "output_type": "stream",
     "text": [
      "b'\\x00\\x00\\x00\\x00\\x00\\x00\\x00\\x00\\x00\\x00\\x00\\x00\\x00\\x00\\x00\\x00\\x00\\x00\\x00\\x00\\x00\\x00\\x00\\x00\\x00\\x00\\x00\\x00\\x00\\x00\\x00\\x00'\n",
      "b'\\x00\\x01\\x02\\x03'\n",
      "ÿ\n",
      "255\n",
      "<class 'int'>\n",
      "255\t240\n",
      "my data bytes is:11110000\n",
      "my data bytes is:11111111\n"
     ]
    }
   ],
   "source": [
    "#creating a empty 32bytes..\n",
    "\n",
    "\n",
    "print(bytes(32))\n",
    "\n",
    "#creating a 4bytes\n",
    "\n",
    "x=b'\\x00\\x01\\x02\\x03'\n",
    "print(x)\n",
    "\n",
    "#Using an ASCII representaion\n",
    "\n",
    "print('\\xFF')\n",
    "\n",
    "# coverting a value to an interger\n",
    "print(ord(b'\\xFF'))\n",
    "print(type(ord(b'\\xFF')))\n",
    "\n",
    "# print the bytes indexes\n",
    "y=b'\\xf0\\xff'\n",
    "print(y[1],y[0],sep=\"\\t\")\n",
    "\n",
    "#print out the exact bytes\n",
    "print(\"my data bytes is:{:b}\".format(y[0]))\n",
    "print(\"my data bytes is:{:b}\".format(y[1]))\n",
    "\n"
   ]
  },
  {
   "cell_type": "code",
   "execution_count": null,
   "metadata": {},
   "outputs": [],
   "source": []
  }
 ],
 "metadata": {
  "kernelspec": {
   "display_name": "Python 3",
   "language": "python",
   "name": "python3"
  },
  "language_info": {
   "codemirror_mode": {
    "name": "ipython",
    "version": 3
   },
   "file_extension": ".py",
   "mimetype": "text/x-python",
   "name": "python",
   "nbconvert_exporter": "python",
   "pygments_lexer": "ipython3",
   "version": "3.7.3"
  }
 },
 "nbformat": 4,
 "nbformat_minor": 4
}
