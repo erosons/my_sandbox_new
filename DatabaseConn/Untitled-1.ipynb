{
 "cells": [
  {
   "cell_type": "code",
   "execution_count": 1,
   "metadata": {},
   "outputs": [],
   "source": [
    "class Father():\n",
    "    # this class attribute is accessible to all the instances and Class its self\n",
    "    mainattr = \"two eye\"\n",
    "\n",
    "    def __init__(self, heights, eyecolor):\n",
    "        # both attrs argument will only be accessible within an instance of the class where it is called on\n",
    "        self.heights = heights\n",
    "        self.eyecolor = eyecolor\n",
    "\n",
    "    def charac(self):\n",
    "        print(\n",
    "            f\"I am the father of prosper with a height:{self.heights}ft and {self.eyecolor} eyeball\")\n",
    "\n"
   ]
  },
  {
   "cell_type": "code",
   "execution_count": 2,
   "metadata": {},
   "outputs": [
    {
     "name": "stdout",
     "output_type": "stream",
     "text": [
      "I am the father of prosper with a height:6ft and brown eyeball\n"
     ]
    }
   ],
   "source": [
    "parent = Father(6, \"brown\")\n",
    "parent.charac()"
   ]
  },
  {
   "cell_type": "code",
   "execution_count": 3,
   "metadata": {},
   "outputs": [
    {
     "data": {
      "text/plain": [
       "'two eye'"
      ]
     },
     "execution_count": 3,
     "metadata": {},
     "output_type": "execute_result"
    }
   ],
   "source": [
    "parent.mainattr"
   ]
  },
  {
   "cell_type": "code",
   "execution_count": null,
   "metadata": {},
   "outputs": [],
   "source": []
  }
 ],
 "metadata": {
  "interpreter": {
   "hash": "31f2aee4e71d21fbe5cf8b01ff0e069b9275f58929596ceb00d14d90e3e16cd6"
  },
  "kernelspec": {
   "display_name": "Python 3.8.2 64-bit",
   "language": "python",
   "name": "python3"
  },
  "language_info": {
   "codemirror_mode": {
    "name": "ipython",
    "version": 3
   },
   "file_extension": ".py",
   "mimetype": "text/x-python",
   "name": "python",
   "nbconvert_exporter": "python",
   "pygments_lexer": "ipython3",
   "version": "3.8.2"
  },
  "orig_nbformat": 4
 },
 "nbformat": 4,
 "nbformat_minor": 2
}
