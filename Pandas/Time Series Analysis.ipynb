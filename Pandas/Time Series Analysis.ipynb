{
 "cells": [
  {
   "cell_type": "code",
   "execution_count": 56,
   "metadata": {},
   "outputs": [],
   "source": [
    "import datetime\n",
    "import pandas_datareader as web\n",
    "import matplotlib.pyplot as plt\n",
    "import seaborn as sns\n",
    "import numpy as np\n",
    "import pandas as pd\n"
   ]
  },
  {
   "cell_type": "code",
   "execution_count": 57,
   "metadata": {},
   "outputs": [
    {
     "name": "stdout",
     "output_type": "stream",
     "text": [
      "2020 6 21\n"
     ]
    }
   ],
   "source": [
    "now=datetime.datetime.now()\n",
    "print(now.year,now.month,now.day)"
   ]
  },
  {
   "cell_type": "code",
   "execution_count": 58,
   "metadata": {},
   "outputs": [],
   "source": [
    "start_date = datetime.datetime(2001, 1, 1)\n",
    "end_date = datetime.datetime(now.year,now.month,now.day)"
   ]
  },
  {
   "cell_type": "code",
   "execution_count": 60,
   "metadata": {},
   "outputs": [
    {
     "name": "stdout",
     "output_type": "stream",
     "text": [
      "{'AAPL': Date\n",
      "2015-06-23    117.071945\n",
      "2015-06-24    118.067299\n",
      "2015-06-25    117.505127\n",
      "2015-06-26    116.813896\n",
      "2015-06-29    114.767921\n",
      "                 ...    \n",
      "2020-06-15    342.989990\n",
      "2020-06-16    352.079987\n",
      "2020-06-17    351.589996\n",
      "2020-06-18    351.730011\n",
      "2020-06-19    349.720001\n",
      "Name: Adj Close, Length: 1258, dtype: float64, 'IBM': Date\n",
      "2015-06-23    135.672729\n",
      "2015-06-24    134.345154\n",
      "2015-06-25    133.629044\n",
      "2015-06-26    133.130234\n",
      "2015-06-29    131.126709\n",
      "                 ...    \n",
      "2020-06-15    121.650002\n",
      "2020-06-16    125.150002\n",
      "2020-06-17    124.150002\n",
      "2020-06-18    124.160004\n",
      "2020-06-19    122.470001\n",
      "Name: Adj Close, Length: 1258, dtype: float64, 'GOOG': Date\n",
      "2015-06-23     540.479980\n",
      "2015-06-24     537.840027\n",
      "2015-06-25     535.229980\n",
      "2015-06-26     531.690002\n",
      "2015-06-29     521.520020\n",
      "                 ...     \n",
      "2020-06-15    1419.849976\n",
      "2020-06-16    1442.719971\n",
      "2020-06-17    1451.119995\n",
      "2020-06-18    1435.959961\n",
      "2020-06-19    1431.719971\n",
      "Name: Adj Close, Length: 1258, dtype: float64, 'MSFT': Date\n",
      "2015-06-23     41.549664\n",
      "2015-06-24     41.305302\n",
      "2015-06-25     41.314346\n",
      "2015-06-26     40.961388\n",
      "2015-06-29     40.155910\n",
      "                 ...    \n",
      "2020-06-15    188.940002\n",
      "2020-06-16    193.570007\n",
      "2020-06-17    194.240005\n",
      "2020-06-18    196.320007\n",
      "2020-06-19    195.149994\n",
      "Name: Adj Close, Length: 1258, dtype: float64}\n"
     ]
    }
   ],
   "source": [
    "all_data = {ticker: web.get_data_yahoo(ticker)[\"Adj Close\"] for ticker in [\"AAPL\", \"IBM\", \"GOOG\", \"MSFT\"]}\n",
    "print(all_data)"
   ]
  },
  {
   "cell_type": "code",
   "execution_count": 11,
   "metadata": {},
   "outputs": [
    {
     "name": "stdout",
     "output_type": "stream",
     "text": [
      "Symbols           AAPL         IBM         GOOG        MSFT         GC=F\n",
      "Date                                                                    \n",
      "2001-01-02    0.919804   54.812603          NaN   13.876167   268.399994\n",
      "2001-01-03    1.012557   61.154232          NaN   15.335761   268.000000\n",
      "2001-01-04    1.055069   60.225201          NaN   15.495715   267.299988\n",
      "2001-01-05    1.012557   60.750294          NaN   15.715664   268.000000\n",
      "2001-01-08    1.024151   60.467560          NaN   15.655667   268.000000\n",
      "...                ...         ...          ...         ...          ...\n",
      "2020-06-16  352.079987  125.150002  1442.719971  193.570007  1735.000000\n",
      "2020-06-17  351.589996  124.150002  1451.119995  194.240005  1736.800049\n",
      "2020-06-18  351.730011  124.160004  1435.959961  196.320007  1729.900024\n",
      "2020-06-19  349.720001  122.470001  1431.719971  195.149994  1756.199951\n",
      "2020-06-21         NaN         NaN          NaN         NaN  1761.500000\n",
      "\n",
      "[4975 rows x 5 columns]\n"
     ]
    }
   ],
   "source": [
    "# All another way to call stock datas\n",
    "stocker_data= web.DataReader([\"AAPL\", \"IBM\", \"GOOG\", \"MSFT\",\"GC=F\"],\"yahoo\",start_date,end_date)[\"Adj Close\"]\n",
    "print(stocker_data)"
   ]
  },
  {
   "cell_type": "code",
   "execution_count": 12,
   "metadata": {},
   "outputs": [
    {
     "data": {
      "text/html": [
       "<div>\n",
       "<style scoped>\n",
       "    .dataframe tbody tr th:only-of-type {\n",
       "        vertical-align: middle;\n",
       "    }\n",
       "\n",
       "    .dataframe tbody tr th {\n",
       "        vertical-align: top;\n",
       "    }\n",
       "\n",
       "    .dataframe thead th {\n",
       "        text-align: right;\n",
       "    }\n",
       "</style>\n",
       "<table border=\"1\" class=\"dataframe\">\n",
       "  <thead>\n",
       "    <tr style=\"text-align: right;\">\n",
       "      <th>Symbols</th>\n",
       "      <th>AAPL</th>\n",
       "      <th>IBM</th>\n",
       "      <th>GOOG</th>\n",
       "      <th>MSFT</th>\n",
       "      <th>GC=F</th>\n",
       "    </tr>\n",
       "    <tr>\n",
       "      <th>Date</th>\n",
       "      <th></th>\n",
       "      <th></th>\n",
       "      <th></th>\n",
       "      <th></th>\n",
       "      <th></th>\n",
       "    </tr>\n",
       "  </thead>\n",
       "  <tbody>\n",
       "    <tr>\n",
       "      <th>2001-01-02</th>\n",
       "      <td>NaN</td>\n",
       "      <td>NaN</td>\n",
       "      <td>NaN</td>\n",
       "      <td>NaN</td>\n",
       "      <td>NaN</td>\n",
       "    </tr>\n",
       "    <tr>\n",
       "      <th>2001-01-03</th>\n",
       "      <td>0.100840</td>\n",
       "      <td>0.115697</td>\n",
       "      <td>NaN</td>\n",
       "      <td>0.105187</td>\n",
       "      <td>-0.001490</td>\n",
       "    </tr>\n",
       "    <tr>\n",
       "      <th>2001-01-04</th>\n",
       "      <td>0.041985</td>\n",
       "      <td>-0.015192</td>\n",
       "      <td>NaN</td>\n",
       "      <td>0.010430</td>\n",
       "      <td>-0.002612</td>\n",
       "    </tr>\n",
       "    <tr>\n",
       "      <th>2001-01-05</th>\n",
       "      <td>-0.040293</td>\n",
       "      <td>0.008719</td>\n",
       "      <td>NaN</td>\n",
       "      <td>0.014194</td>\n",
       "      <td>0.002619</td>\n",
       "    </tr>\n",
       "    <tr>\n",
       "      <th>2001-01-08</th>\n",
       "      <td>0.011451</td>\n",
       "      <td>-0.004654</td>\n",
       "      <td>NaN</td>\n",
       "      <td>-0.003818</td>\n",
       "      <td>0.000000</td>\n",
       "    </tr>\n",
       "    <tr>\n",
       "      <th>...</th>\n",
       "      <td>...</td>\n",
       "      <td>...</td>\n",
       "      <td>...</td>\n",
       "      <td>...</td>\n",
       "      <td>...</td>\n",
       "    </tr>\n",
       "    <tr>\n",
       "      <th>2020-06-16</th>\n",
       "      <td>0.026502</td>\n",
       "      <td>0.028771</td>\n",
       "      <td>0.016107</td>\n",
       "      <td>0.024505</td>\n",
       "      <td>0.002195</td>\n",
       "    </tr>\n",
       "    <tr>\n",
       "      <th>2020-06-17</th>\n",
       "      <td>-0.001392</td>\n",
       "      <td>-0.007990</td>\n",
       "      <td>0.005822</td>\n",
       "      <td>0.003461</td>\n",
       "      <td>0.001037</td>\n",
       "    </tr>\n",
       "    <tr>\n",
       "      <th>2020-06-18</th>\n",
       "      <td>0.000398</td>\n",
       "      <td>0.000081</td>\n",
       "      <td>-0.010447</td>\n",
       "      <td>0.010708</td>\n",
       "      <td>-0.003973</td>\n",
       "    </tr>\n",
       "    <tr>\n",
       "      <th>2020-06-19</th>\n",
       "      <td>-0.005715</td>\n",
       "      <td>-0.013611</td>\n",
       "      <td>-0.002953</td>\n",
       "      <td>-0.005960</td>\n",
       "      <td>0.015203</td>\n",
       "    </tr>\n",
       "    <tr>\n",
       "      <th>2020-06-21</th>\n",
       "      <td>0.000000</td>\n",
       "      <td>0.000000</td>\n",
       "      <td>0.000000</td>\n",
       "      <td>0.000000</td>\n",
       "      <td>0.003018</td>\n",
       "    </tr>\n",
       "  </tbody>\n",
       "</table>\n",
       "<p>4975 rows × 5 columns</p>\n",
       "</div>"
      ],
      "text/plain": [
       "Symbols         AAPL       IBM      GOOG      MSFT      GC=F\n",
       "Date                                                        \n",
       "2001-01-02       NaN       NaN       NaN       NaN       NaN\n",
       "2001-01-03  0.100840  0.115697       NaN  0.105187 -0.001490\n",
       "2001-01-04  0.041985 -0.015192       NaN  0.010430 -0.002612\n",
       "2001-01-05 -0.040293  0.008719       NaN  0.014194  0.002619\n",
       "2001-01-08  0.011451 -0.004654       NaN -0.003818  0.000000\n",
       "...              ...       ...       ...       ...       ...\n",
       "2020-06-16  0.026502  0.028771  0.016107  0.024505  0.002195\n",
       "2020-06-17 -0.001392 -0.007990  0.005822  0.003461  0.001037\n",
       "2020-06-18  0.000398  0.000081 -0.010447  0.010708 -0.003973\n",
       "2020-06-19 -0.005715 -0.013611 -0.002953 -0.005960  0.015203\n",
       "2020-06-21  0.000000  0.000000  0.000000  0.000000  0.003018\n",
       "\n",
       "[4975 rows x 5 columns]"
      ]
     },
     "execution_count": 12,
     "metadata": {},
     "output_type": "execute_result"
    }
   ],
   "source": [
    "stocker_data.pct_change()"
   ]
  },
  {
   "cell_type": "code",
   "execution_count": 13,
   "metadata": {},
   "outputs": [
    {
     "data": {
      "image/png": "[encoded data removed]",
      "text/plain": [
       "<Figure size 432x288 with 1 Axes>"
      ]
     },
     "metadata": {
      "needs_background": "light"
     },
     "output_type": "display_data"
    }
   ],
   "source": [
    "#plotting scattor plot visualization between IBN &  MSFT USING seaborn\n",
    "#  show the trend line\n",
    "sns.regplot(\"IBM\",\"GC=F\",stocker_data)\n",
    "plt.title(\"%s Adj Close vs %s Adj Close prices\" % (\"IBM\",\"GC=F\"))\n",
    "plt.show()"
   ]
  },
  {
   "cell_type": "code",
   "execution_count": 14,
   "metadata": {},
   "outputs": [
    {
     "data": {
      "image/png": "[encoded data removed]",
      "text/plain": [
       "<Figure size 432x288 with 1 Axes>"
      ]
     },
     "metadata": {
      "needs_background": "light"
     },
     "output_type": "display_data"
    }
   ],
   "source": [
    "#plotting scattor plot visualization between IBN &  MSFT USING matplotlib\n",
    "plt.scatter(stocker_data['IBM'], stocker_data['GC=F'], color='blue')\n",
    "plt.title('Linear regression between IBM and GC=F', fontsize=14)\n",
    "plt.xlabel('IBM', fontsize=14)\n",
    "plt.ylabel('GC=F', fontsize=14)\n",
    "plt.grid(False)\n",
    "plt.show()"
   ]
  },
  {
   "cell_type": "code",
   "execution_count": 15,
   "metadata": {},
   "outputs": [
    {
     "name": "stdout",
     "output_type": "stream",
     "text": [
      "0.4837191579616934\n"
     ]
    }
   ],
   "source": [
    "show_corre=stocker_data.MSFT.corr(stocker_data[\"GC=F\"])\n",
    "print(show_corre)"
   ]
  },
  {
   "cell_type": "code",
   "execution_count": 16,
   "metadata": {},
   "outputs": [
    {
     "name": "stdout",
     "output_type": "stream",
     "text": [
      "Symbols      AAPL       IBM      GOOG      MSFT      GC=F\n",
      "Symbols                                                  \n",
      "AAPL     1.000000  0.692499  0.964741  0.952052  0.663755\n",
      "IBM      0.692499  1.000000  0.595517  0.495775  0.894120\n",
      "GOOG     0.964741  0.595517  1.000000  0.940784  0.500513\n",
      "MSFT     0.952052  0.495775  0.940784  1.000000  0.483719\n",
      "GC=F     0.663755  0.894120  0.500513  0.483719  1.000000\n"
     ]
    }
   ],
   "source": [
    "#To show correlation for the entire data\n",
    "show_all_data=stocker_data.corr()\n",
    "print(show_all_data)"
   ]
  },
  {
   "cell_type": "code",
   "execution_count": 17,
   "metadata": {},
   "outputs": [
    {
     "name": "stdout",
     "output_type": "stream",
     "text": [
      "Index(['AAPL', 'IBM', 'GOOG', 'MSFT', 'GC=F'], dtype='object', name='Symbols')\n"
     ]
    }
   ],
   "source": [
    "columns=stocker_data.columns\n",
    "print(columns)"
   ]
  },
  {
   "cell_type": "code",
   "execution_count": 19,
   "metadata": {},
   "outputs": [
    {
     "data": {
      "text/plain": [
       "(Symbols\n",
       " AAPL     64.068750\n",
       " IBM      99.982286\n",
       " GOOG    515.131080\n",
       " MSFT     39.707740\n",
       " GC=F    993.443101\n",
       " dtype: float64,\n",
       " Symbols\n",
       " AAPL     72.840061\n",
       " IBM      36.071594\n",
       " GOOG    364.753091\n",
       " MSFT     36.491316\n",
       " GC=F    458.130933\n",
       " dtype: float64)"
      ]
     },
     "execution_count": 19,
     "metadata": {},
     "output_type": "execute_result"
    }
   ],
   "source": [
    "stocker_data.mean(),stocker_data.std()"
   ]
  },
  {
   "cell_type": "code",
   "execution_count": 48,
   "metadata": {},
   "outputs": [
    {
     "data": {
      "image/png": "[encoded data removed]",
      "text/plain": [
       "<Figure size 432x288 with 1 Axes>"
      ]
     },
     "metadata": {
      "needs_background": "light"
     },
     "output_type": "display_data"
    }
   ],
   "source": [
    "# plot perform a risk analysis plot on this stocks and check which to invest in\n",
    "plt.scatter(stocker_data.mean(), stocker_data.std())\n",
    "plt.xlabel(\"Expected returns\")\n",
    "plt.ylabel(\"Volatility or standard Deviation\")\n",
    "for label,x,y in zip(stocker_data.columns,stocker_data.mean(),stocker_data.std()):\n",
    "    plt.annotate(label, \n",
    "                 xy=(x,y),xytext=(20,-20),\n",
    "                 textcoords=\"offset points\",ha='right', va='bottom',\n",
    "                 bbox=dict(boxstyle=\"round\",pad=0.5,fc=\"yellow\",alpha=0.5),\n",
    "                 arrowprops=dict(arrowstyle='->',ConnectionStyle=\"Arc3,rad=0\"))\n",
    "plt.show()"
   ]
  },
  {
   "cell_type": "code",
   "execution_count": null,
   "metadata": {},
   "outputs": [],
   "source": []
  }
 ],
 "metadata": {
  "kernelspec": {
   "display_name": "Python 3",
   "language": "python",
   "name": "python3"
  },
  "language_info": {
   "codemirror_mode": {
    "name": "ipython",
    "version": 3
   },
   "file_extension": ".py",
   "mimetype": "text/x-python",
   "name": "python",
   "nbconvert_exporter": "python",
   "pygments_lexer": "ipython3",
   "version": "3.8.5"
  }
 },
 "nbformat": 4,
 "nbformat_minor": 4
}
