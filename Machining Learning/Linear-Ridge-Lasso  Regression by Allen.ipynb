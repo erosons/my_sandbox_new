{
 "cells": [
  {
   "cell_type": "code",
   "execution_count": 29,
   "metadata": {},
   "outputs": [],
   "source": [
    "import numpy as np\n",
    "import matplotlib.pyplot as plt\n",
    "from mglearn.datasets import load_extended_boston,make_forge\n",
    "from sklearn.model_selection import train_test_split\n",
    "X,y=load_extended_boston()"
   ]
  },
  {
   "cell_type": "markdown",
   "metadata": {},
   "source": [
    "### <h5> Computing Loss functions to be used fro Regression and Classification</h5>1"
   ]
  },
  {
   "cell_type": "code",
   "execution_count": 59,
   "metadata": {},
   "outputs": [],
   "source": [
    "def rms(y_prediction,y_test):\n",
    "    differences=y_prediction-y_test\n",
    "    differences_sqd=differences**2\n",
    "    Mean_squared_error=np.mean(differences_sqd)\n",
    "    Root_Mean_squared_error=np.sqrt(Mean_squared_error)\n",
    "    return Root_Mean_squared_error\n"
   ]
  },
  {
   "cell_type": "code",
   "execution_count": 72,
   "metadata": {},
   "outputs": [],
   "source": [
    "def mean_absolute_error(y_prediction,y_test):\n",
    "    differences=y_prediction-y_test\n",
    "    absoute_differences=np.absolute(differences)\n",
    "    Mean_absoute_differences=np.mean(absoute_differences)\n",
    "    return Mean_absoute_differences"
   ]
  },
  {
   "cell_type": "code",
   "execution_count": 60,
   "metadata": {},
   "outputs": [],
   "source": [
    "from sklearn.model_selection import train_test_split\n",
    "X_train,X_test,y_train,y_test=train_test_split(X,y, random_state=0)"
   ]
  },
  {
   "cell_type": "code",
   "execution_count": 61,
   "metadata": {},
   "outputs": [],
   "source": [
    "from sklearn.linear_model import LinearRegression\n",
    "LinReg=LinearRegression().fit(X_train,y_train)"
   ]
  },
  {
   "cell_type": "code",
   "execution_count": 62,
   "metadata": {},
   "outputs": [
    {
     "name": "stdout",
     "output_type": "stream",
     "text": [
      "Score for the training set=> 0.95\n",
      "Score for the training set=> 0.61\n"
     ]
    }
   ],
   "source": [
    "print(\"Score for the training set=> {:.2f}\".format(LinReg.score(X_train,y_train)))\n",
    "print(\"Score for the training set=> {:.2f}\".format(LinReg.score(X_test,y_test)))"
   ]
  },
  {
   "cell_type": "markdown",
   "metadata": {},
   "source": [
    "#### <p>The Training set is overfitted and not generalized that why the test score is low</p>"
   ]
  },
  {
   "cell_type": "code",
   "execution_count": null,
   "metadata": {},
   "outputs": [],
   "source": []
  },
  {
   "cell_type": "markdown",
   "metadata": {},
   "source": [
    "<h3> To optimized or regularize the training and enhance test set performance</h3>\n",
    "<li> We choose an another LinearRegression <b>Ridge</b> that uses L2 regularuzation ,this reduces not only predict with the cofficient ensure their effect is reduced by reducng their weight to near zero</li>"
   ]
  },
  {
   "cell_type": "code",
   "execution_count": 63,
   "metadata": {},
   "outputs": [
    {
     "name": "stdout",
     "output_type": "stream",
     "text": [
      "Score for the training set=> 0.95 Score for the training set=> 0.62\n",
      "Inspect the coefficient as they get small as aplha increases\n",
      " [-4.12710947e+02 -4.99457245e+01 -1.15068760e+02 -1.01215688e+15\n",
      " -2.34715109e+01  2.75809397e+01  5.54401812e+01 -4.91522695e+01\n",
      "  3.33488227e+01  2.26576058e+01 -4.63712840e+00 -1.25637313e+01\n",
      " -2.07438819e+01  1.52629531e+01  4.25151137e+03  6.50372407e+02\n",
      "  1.16773467e+02 -9.75914828e+00  4.42191879e+01 -2.29923207e+01\n",
      "  6.18146578e+01  1.09756371e+02 -2.98090266e+02  1.36294628e+02\n",
      "  5.79189218e-01  4.51016953e+01 -1.18089717e+01 -2.02832622e+01\n",
      " -3.44697861e+00 -7.93394078e+01  8.48817351e+00  5.57970625e+00\n",
      "  4.79093855e-01 -1.01126537e+01  3.32324631e+01 -1.14663037e+01\n",
      "  6.41381532e+01 -1.87360956e+01  4.06475628e+01 -1.06510500e+00\n",
      " -6.95100166e-01  5.71781914e+01  1.25990960e+01  4.69881712e+01\n",
      " -3.40978450e+01  1.94199531e+01 -1.69394389e+01  4.85962890e+01\n",
      " -6.38576678e+00  1.01215688e+15 -1.78932403e+01 -3.43294853e+01\n",
      "  7.28864564e+00 -7.97142016e+00  1.47397642e+01 -9.00250711e+00\n",
      " -1.24296473e+01  5.68508433e+01 -1.76374764e+01  6.60895644e+00\n",
      "  3.03201557e+01 -1.62259492e+01  8.53278073e+01 -3.77301728e+01\n",
      "  5.31612980e+01 -3.53926812e+01  5.13026680e+00  2.10794964e+01\n",
      "  2.61251474e+01 -4.93426668e+01  3.26717473e+01  8.74402707e+00\n",
      " -7.09646635e+01 -2.37285646e+01  8.34701556e+00 -6.00479380e+00\n",
      "  1.14177898e+00 -7.02918983e+00  4.10657761e+01 -3.76462933e+01\n",
      " -2.30414066e+00 -2.55614403e+01 -3.27228015e+01  4.46380895e+01\n",
      " -2.70809673e+01 -1.58164840e+01 -1.41710176e+01 -2.47441057e+01\n",
      "  4.10107018e+01 -8.63061620e+01  1.35443132e+02 -1.31293910e+01\n",
      " -1.97188832e+01 -2.44523750e+01 -3.26016386e+01  2.49750242e+01\n",
      " -5.84420282e+00 -1.74750594e+00  4.74737776e-02  3.03955266e+01\n",
      "  1.11135742e+01  7.16755444e-01  2.13857764e+00  3.01137595e+01]\n",
      "Score for the training set=> 0.89 Score for the training set=> 0.75\n",
      "Inspect the coefficient as they get small as aplha increases\n",
      " [-1.41368408e+00 -1.55661895e+00 -1.46543409e+00 -1.26616071e-01\n",
      " -7.91193605e-02  8.33161023e+00  2.54975060e-01 -4.94145701e+00\n",
      "  3.89862268e+00 -1.05866058e+00 -1.58433734e+00  1.05103856e+00\n",
      " -4.01220799e+00  3.33720475e-01  3.64725471e-03 -8.49295793e-01\n",
      "  7.44989267e-01 -1.43106836e+00 -1.62981017e+00 -1.40486294e+00\n",
      " -4.47314366e-02 -1.74619880e+00 -1.46715888e+00 -1.33237111e+00\n",
      " -1.69154625e+00 -5.06179637e-01  2.62197591e+00 -2.09210002e+00\n",
      "  1.95074661e-01 -2.75469422e-01  5.11308202e+00 -1.67083739e+00\n",
      " -9.81863179e-02  6.34477127e-01 -6.10008281e-01  4.01805897e-02\n",
      " -1.27661999e+00 -2.91349679e+00  3.39544035e+00  7.91904036e-01\n",
      "  1.35260232e+00 -4.03661265e+00  2.32361734e+00 -3.36712926e+00\n",
      "  1.81279204e+00  3.01566897e+00 -1.89452070e+00 -2.50844073e-01\n",
      " -2.89543735e+00 -1.26616071e-01 -5.00217192e+00 -2.43951806e+00\n",
      "  2.85071846e+00 -8.57081177e-01  2.99141960e+00  2.34589755e+00\n",
      "  1.31207081e+00  1.71845119e+00 -2.59766697e+00 -1.32370675e+00\n",
      " -2.81242223e+00 -2.09117058e+00 -1.08428335e+00 -2.73843625e+00\n",
      " -1.61989753e+00 -2.80493280e+00  9.44641482e-01 -1.65363374e+00\n",
      "  1.66553558e+01 -1.10980551e+00  2.14188605e+00 -8.03855387e+00\n",
      " -8.59149928e+00 -7.54161099e+00  1.02924022e+01 -7.96425897e+00\n",
      "  7.68540742e-01 -1.85213002e+00  2.51497387e+00 -3.42074257e-01\n",
      " -1.79604278e+00 -2.93048162e-01 -4.78242379e+00  8.63283317e-01\n",
      "  4.22361423e-01 -1.41656695e+00 -2.12023113e-01 -5.08121369e+00\n",
      " -5.47247509e-01  1.53835390e+00  1.81348033e+00  1.97252021e+00\n",
      "  1.81849652e+00 -7.14338697e+00  1.10472533e+00  1.42242216e+00\n",
      " -1.31494020e+00 -6.77170441e+00  1.82204476e+00 -2.36112444e+00\n",
      "  4.34670572e-02  1.20886000e+00 -6.32599163e+00  1.03600231e+01]\n",
      "Score for the training set=> 0.86 Score for the training set=> 0.73\n",
      "Inspect the coefficient as they get small as aplha increases\n",
      " [-1.26163184e+00 -5.93640735e-01 -1.17537268e+00 -3.68474658e-02\n",
      " -4.47413797e-01  6.82871034e+00 -5.74004008e-03 -4.02225113e+00\n",
      "  2.56489717e+00 -1.38075075e+00 -1.95271881e+00  1.02399913e+00\n",
      " -4.41334071e+00 -3.98412094e-01  3.87314215e-03 -7.88128404e-01\n",
      "  4.42642519e-01 -1.17805902e+00 -1.56582198e+00 -1.19399739e+00\n",
      " -5.40842495e-02 -1.44840134e+00 -1.25725948e+00 -1.12511861e+00\n",
      " -1.60878262e+00 -3.57249637e-01  2.19299427e+00 -1.42583893e+00\n",
      " -1.12208942e-03  2.59420347e-02  4.02570701e+00 -9.46078843e-01\n",
      " -2.81940463e-01  3.80946854e-01 -7.26750988e-01 -3.67476719e-01\n",
      " -4.42049794e-01 -2.06260184e+00  2.55527213e+00  5.91749230e-01\n",
      "  2.91714730e-01 -3.23272823e+00  1.41367389e+00 -2.51216503e+00\n",
      "  1.26718231e+00  2.07052501e+00 -8.75379118e-01 -1.99933138e-01\n",
      " -1.70844772e+00 -3.68474658e-02 -2.94197579e+00 -6.29192935e-01\n",
      "  1.87319040e+00 -5.67814417e-01  2.47813185e+00  1.96031927e+00\n",
      "  1.10569608e+00  9.24730857e-01 -2.00048991e+00 -1.60219456e+00\n",
      " -1.88034224e+00 -1.53708490e+00 -8.90202617e-01 -1.93701323e+00\n",
      " -1.51039136e+00 -2.19608111e+00  8.22604852e-01 -1.86102380e+00\n",
      "  1.35050707e+01 -4.46789233e-02  1.54913321e+00 -5.60734438e+00\n",
      " -6.43001243e+00 -5.02654043e+00  8.86038653e+00 -6.47195540e+00\n",
      "  8.11695399e-01 -2.15055750e+00  1.51619553e+00 -4.45757581e-01\n",
      " -1.86399209e+00  1.50145340e-01 -3.84303441e+00 -3.16257712e-01\n",
      " -3.87187012e-02 -1.58868842e+00 -9.60718662e-01 -3.97374743e+00\n",
      " -1.30714000e+00  1.65564418e+00  1.45676939e+00  1.26721099e+00\n",
      "  1.98050615e+00 -4.84477510e+00  1.11831606e+00  5.55292091e-01\n",
      " -1.04830438e+00 -4.52457985e+00  6.15791931e-01 -2.12086693e+00\n",
      " -9.67996215e-01  8.66264989e-01 -5.80491302e+00  6.18724123e+00]\n",
      "Score for the training set=> 0.85 Score for the training set=> 0.71\n",
      "Inspect the coefficient as they get small as aplha increases\n",
      " [-1.16673010e+00 -1.36258117e-01 -1.04885706e+00  4.50273064e-02\n",
      " -5.90289294e-01  6.11769046e+00 -8.12608210e-02 -3.60037470e+00\n",
      "  1.96735728e+00 -1.43622465e+00 -2.12069782e+00  1.05598311e+00\n",
      " -4.46864341e+00 -6.05790482e-01  3.79364921e-03 -7.37995028e-01\n",
      "  3.30262865e-01 -1.03904593e+00 -1.40650760e+00 -1.08530312e+00\n",
      " -5.35793276e-02 -1.28941335e+00 -1.13637542e+00 -1.01426497e+00\n",
      " -1.46229973e+00 -3.23201394e-01  1.93290525e+00 -1.06923094e+00\n",
      " -6.03010516e-03  1.31745256e-01  3.45766731e+00 -5.79268761e-01\n",
      " -3.32674076e-01  2.96089418e-01 -6.72507807e-01 -4.57724282e-01\n",
      " -2.56610684e-02 -1.63091064e+00  2.07474708e+00  5.12174552e-01\n",
      " -1.07632209e-01 -2.56481315e+00  9.72775293e-01 -2.06584077e+00\n",
      "  1.00008058e+00  1.58300595e+00 -5.52095699e-01 -1.59750882e-01\n",
      " -1.40154652e+00  4.50273064e-02 -2.06239587e+00 -3.05432642e-02\n",
      "  1.42137975e+00 -4.24801027e-01  2.18514379e+00  1.73710874e+00\n",
      "  9.63069458e-01  6.84892932e-01 -1.71351885e+00 -1.67075997e+00\n",
      " -1.33268592e+00 -1.33136591e+00 -7.75113922e-01 -1.52588428e+00\n",
      " -1.38511198e+00 -1.86555067e+00  6.89978956e-01 -1.88250034e+00\n",
      "  1.16455248e+01  4.98807258e-01  1.18913970e+00 -4.26551704e+00\n",
      " -5.12495284e+00 -3.79700256e+00  7.97224022e+00 -5.47952819e+00\n",
      "  6.89549747e-01 -2.11046646e+00  1.15575489e+00 -4.79077634e-01\n",
      " -1.81550708e+00  3.31715062e-01 -3.52080039e+00 -7.80183894e-01\n",
      " -1.89883747e-01 -1.53925259e+00 -1.32253275e+00 -3.48260250e+00\n",
      " -1.50086003e+00  1.54354120e+00  1.23424822e+00  9.26662722e-01\n",
      "  1.88858882e+00 -3.74255718e+00  9.86949236e-01  1.86108221e-01\n",
      " -9.08264676e-01 -3.55465657e+00 -6.53018594e-02 -2.00400490e+00\n",
      " -1.38947328e+00  8.60672018e-01 -5.40215342e+00  4.13773908e+00]\n",
      "Score for the training set=> 0.83 Score for the training set=> 0.69\n",
      "Inspect the coefficient as they get small as aplha increases\n",
      " [-1.09091010e+00  1.30613936e-01 -9.72116655e-01  1.09472595e-01\n",
      " -6.56201744e-01  5.66376139e+00 -1.11699660e-01 -3.32451950e+00\n",
      "  1.61956195e+00 -1.41654585e+00 -2.21174882e+00  1.07555725e+00\n",
      " -4.43017450e+00 -6.72245421e-01  3.64392298e-03 -6.94049512e-01\n",
      "  2.68962989e-01 -9.41394424e-01 -1.26133557e+00 -1.00724955e+00\n",
      " -5.13995017e-02 -1.17762219e+00 -1.04720357e+00 -9.34611154e-01\n",
      " -1.33216526e+00 -3.15697501e-01  1.75807114e+00 -8.46176771e-01\n",
      "  9.03759672e-03  1.80845006e-01  3.08792912e+00 -3.59266123e-01\n",
      " -3.44792253e-01  2.53992021e-01 -6.03501021e-01 -4.72323598e-01\n",
      "  2.21062865e-01 -1.35891030e+00  1.73968913e+00  4.67519286e-01\n",
      " -3.10353950e-01 -2.07391749e+00  7.01863663e-01 -1.77836441e+00\n",
      "  8.34281665e-01  1.26856367e+00 -4.22644754e-01 -1.33072085e-01\n",
      " -1.30218131e+00  1.09472595e-01 -1.57444037e+00  2.47045449e-01\n",
      "  1.16415503e+00 -3.36435186e-01  1.97549035e+00  1.57638826e+00\n",
      "  8.68928891e-01  5.82716456e-01 -1.52210628e+00 -1.67175257e+00\n",
      " -9.69107637e-01 -1.21773383e+00 -6.94989579e-01 -1.26675551e+00\n",
      " -1.28011361e+00 -1.65666487e+00  5.89390468e-01 -1.87621808e+00\n",
      "  1.03953388e+01  8.33975708e-01  9.49004509e-01 -3.38817969e+00\n",
      " -4.22981801e+00 -3.04783986e+00  7.34252654e+00 -4.78443552e+00\n",
      "  5.63438482e-01 -2.01207408e+00  9.64384585e-01 -4.89306055e-01\n",
      " -1.76654349e+00  4.32663471e-01 -3.35866356e+00 -1.01598228e+00\n",
      " -2.53904792e-01 -1.45493100e+00 -1.51419978e+00 -3.17458181e+00\n",
      " -1.54266560e+00  1.41812871e+00  1.07795716e+00  7.20034474e-01\n",
      "  1.77305493e+00 -3.11405419e+00  8.56230238e-01 -2.20902760e-02\n",
      " -8.05985131e-01 -3.03049955e+00 -5.02165627e-01 -1.93789833e+00\n",
      " -1.62071781e+00  9.06672402e-01 -5.07852003e+00  2.89577429e+00]\n",
      "Score for the training set=> 0.82 Score for the training set=> 0.68\n",
      "Inspect the coefficient as they get small as aplha increases\n",
      " [-1.02705936e+00  3.02647458e-01 -9.20493419e-01  1.60605439e-01\n",
      " -6.87200190e-01  5.33365394e+00 -1.26148695e-01 -3.11448695e+00\n",
      "  1.38862424e+00 -1.37354385e+00 -2.26525893e+00  1.08443692e+00\n",
      " -4.36180284e+00 -6.86871122e-01  3.49120895e-03 -6.55573803e-01\n",
      "  2.29467933e-01 -8.66443650e-01 -1.13911031e+00 -9.45161437e-01\n",
      " -4.89127972e-02 -1.09103787e+00 -9.76044563e-01 -8.71698993e-01\n",
      " -1.22235044e+00 -3.15703628e-01  1.63001533e+00 -6.93526368e-01\n",
      "  2.40842277e-02  2.06690699e-01  2.82069636e+00 -2.13901204e-01\n",
      " -3.42026192e-01  2.28447949e-01 -5.40334142e-01 -4.63627521e-01\n",
      "  3.80849193e-01 -1.16886090e+00  1.48735704e+00  4.38388388e-01\n",
      " -4.28503061e-01 -1.70701935e+00  5.14238231e-01 -1.57328663e+00\n",
      "  7.18778660e-01  1.04525614e+00 -3.68808563e-01 -1.16250628e-01\n",
      " -1.27163614e+00  1.60605439e-01 -1.26405070e+00  3.98783221e-01\n",
      "  1.00044985e+00 -2.75527687e-01  1.81441648e+00  1.45252567e+00\n",
      "  8.02535073e-01  5.32136223e-01 -1.37900486e+00 -1.64592196e+00\n",
      " -7.09426610e-01 -1.14095146e+00 -6.34094242e-01 -1.08722946e+00\n",
      " -1.19437085e+00 -1.51288077e+00  5.14943041e-01 -1.86212630e+00\n",
      "  9.48377107e+00  1.05827936e+00  7.79984045e-01 -2.76455684e+00\n",
      " -3.57363924e+00 -2.53997210e+00  6.86289955e+00 -4.26976845e+00\n",
      "  4.55249532e-01 -1.90626352e+00  8.40661683e-01 -4.92148645e-01\n",
      " -1.72774246e+00  4.96241841e-01 -3.25694788e+00 -1.14651170e+00\n",
      " -2.82540532e-01 -1.36844194e+00 -1.61900847e+00 -2.94832330e+00\n",
      " -1.53091167e+00  1.30557578e+00  9.60442605e-01  5.78973831e-01\n",
      "  1.66843512e+00 -2.71482697e+00  7.43903384e-01 -1.55840665e-01\n",
      " -7.23208130e-01 -2.70823823e+00 -8.04122681e-01 -1.89413497e+00\n",
      " -1.76497638e+00  9.54208684e-01 -4.81223977e+00  2.05850208e+00]\n",
      "Score for the training set=> 0.81 Score for the training set=> 0.67\n",
      "Inspect the coefficient as they get small as aplha increases\n",
      " [-9.72162390e-01  4.20440741e-01 -8.83910168e-01  2.02062011e-01\n",
      " -7.00098013e-01  5.07521366e+00 -1.33911714e-01 -2.94190509e+00\n",
      "  1.22238158e+00 -1.32443686e+00 -2.29758375e+00  1.08661731e+00\n",
      " -4.28438855e+00 -6.79757847e-01  3.35152596e-03 -6.21836926e-01\n",
      "  2.01556534e-01 -8.06138108e-01 -1.03701451e+00 -8.93485499e-01\n",
      " -4.64891425e-02 -1.02068875e+00 -9.17071068e-01 -8.19789098e-01\n",
      " -1.12968823e+00 -3.17687103e-01  1.53038954e+00 -5.82685535e-01\n",
      "  3.63241310e-02  2.21151458e-01  2.61502797e+00 -1.11602837e-01\n",
      " -3.32760181e-01  2.10986260e-01 -4.85689749e-01 -4.47197008e-01\n",
      "  4.90191428e-01 -1.02743542e+00  1.28849638e+00  4.17843047e-01\n",
      " -5.02901454e-01 -1.42552247e+00  3.74647408e-01 -1.41772605e+00\n",
      "  6.32411204e-01  8.77271372e-01 -3.49784316e-01 -1.06158143e-01\n",
      " -1.26727098e+00  2.02062011e-01 -1.04879946e+00  4.90195647e-01\n",
      "  8.88601805e-01 -2.30699160e-01  1.68587098e+00  1.35358555e+00\n",
      "  7.53055271e-01  5.05145218e-01 -1.26577218e+00 -1.60864499e+00\n",
      " -5.14955474e-01 -1.08272960e+00 -5.85347210e-01 -9.55294839e-01\n",
      " -1.12357843e+00 -1.40801240e+00  4.59110173e-01 -1.84483722e+00\n",
      "  8.78181559e+00  1.21544977e+00  6.56395929e-01 -2.29770121e+00\n",
      " -3.07126636e+00 -2.17253680e+00  6.48007775e+00 -3.87232075e+00\n",
      "  3.65224109e-01 -1.80557837e+00  7.51003582e-01 -4.92446231e-01\n",
      " -1.69795537e+00  5.38882336e-01 -3.18317115e+00 -1.21995675e+00\n",
      " -2.94183083e-01 -1.28764003e+00 -1.67483034e+00 -2.76747878e+00\n",
      " -1.49830309e+00  1.20796355e+00  8.67775734e-01  4.75403517e-01\n",
      "  1.57900409e+00 -2.44158287e+00  6.49501756e-01 -2.48803480e-01\n",
      " -6.53456634e-01 -2.49206729e+00 -1.02341120e+00 -1.86135260e+00\n",
      " -1.86155712e+00  9.93843909e-01 -4.58848546e+00  1.45591161e+00]\n",
      "Score for the training set=> 0.81 Score for the training set=> 0.66\n",
      "Inspect the coefficient as they get small as aplha increases\n",
      " [-9.24350312e-01  5.04439542e-01 -8.57114561e-01  2.36370737e-01\n",
      " -7.02890971e-01  4.86303523e+00 -1.38670498e-01 -2.79396594e+00\n",
      "  1.09594533e+00 -1.27557790e+00 -2.31675879e+00  1.08474232e+00\n",
      " -4.20568772e+00 -6.63129799e-01  3.22729798e-03 -5.92119484e-01\n",
      "  1.80636988e-01 -7.56118819e-01 -9.51157110e-01 -8.49352386e-01\n",
      " -4.42378115e-02 -9.61835747e-01 -8.67040170e-01 -7.75835190e-01\n",
      " -1.05077741e+00 -3.19840026e-01  1.44951677e+00 -4.98722114e-01\n",
      "  4.58350803e-02  2.29389908e-01  2.44992750e+00 -3.63440282e-02\n",
      " -3.20558872e-01  1.98096428e-01 -4.38880527e-01 -4.28503625e-01\n",
      "  5.67861741e-01 -9.17549272e-01  1.12676285e+00  4.02659515e-01\n",
      " -5.51991125e-01 -1.20439387e+00  2.65732237e-01 -1.29473103e+00\n",
      "  5.64636449e-01  7.45778134e-01 -3.48314528e-01 -1.00643025e-01\n",
      " -1.27314938e+00  2.36370737e-01 -8.90310651e-01  5.48826396e-01\n",
      "  8.08305898e-01 -1.96211827e-01  1.58057414e+00  1.27257845e+00\n",
      "  7.14608722e-01  4.90299081e-01 -1.17295860e+00 -1.56669146e+00\n",
      " -3.64406064e-01 -1.03543007e+00 -5.44978581e-01 -8.54215282e-01\n",
      " -1.06414437e+00 -1.32818634e+00  4.16424448e-01 -1.82593533e+00\n",
      "  8.21965016e+00  1.32866991e+00  5.63376616e-01 -1.93540052e+00\n",
      " -2.67442414e+00 -1.89460763e+00  6.16411270e+00 -3.55539320e+00\n",
      "  2.90194505e-01 -1.71304757e+00  6.81264591e-01 -4.91874482e-01\n",
      " -1.67490260e+00  5.68425903e-01 -3.12417636e+00 -1.25955851e+00\n",
      " -2.96889723e-01 -1.21418978e+00 -1.70118122e+00 -2.61562471e+00\n",
      " -1.45773839e+00  1.12338593e+00  7.92105550e-01  3.95498119e-01\n",
      "  1.50318446e+00 -2.24392385e+00  5.69881867e-01 -3.16978707e-01\n",
      " -5.93484676e-01 -2.33744781e+00 -1.18832155e+00 -1.83446284e+00\n",
      " -1.92891938e+00  1.02492573e+00 -4.39696188e+00  1.00254035e+00]\n",
      "Score for the training set=> 0.80 Score for the training set=> 0.65\n",
      "Inspect the coefficient as they get small as aplha increases\n",
      " [-8.82288578e-01  5.66104860e-01 -8.37019408e-01  2.65266731e-01\n",
      " -6.99805329e-01  4.68299428e+00 -1.42070778e-01 -2.66385220e+00\n",
      "  9.95860064e-01 -1.22934857e+00 -2.32721370e+00  1.08041065e+00\n",
      " -4.12873792e+00 -6.42514857e-01  3.11732400e-03 -5.65788242e-01\n",
      "  1.64304509e-01 -7.13718445e-01 -8.78226920e-01 -8.11003254e-01\n",
      " -4.21830304e-02 -9.11590312e-01 -8.23881630e-01 -7.37947698e-01\n",
      " -9.82860941e-01 -3.21573859e-01  1.38182387e+00 -4.33052105e-01\n",
      "  5.31443750e-02  2.33964042e-01  2.31332129e+00  2.08757421e-02\n",
      " -3.07114678e-01  1.88066843e-01 -3.98665954e-01 -4.09648308e-01\n",
      "  6.24518579e-01 -8.29416441e-01  9.92087971e-01  3.91078795e-01\n",
      " -5.85304851e-01 -1.02720985e+00  1.77819962e-01 -1.19451169e+00\n",
      "  5.09554307e-01  6.39751706e-01 -3.56113520e-01 -9.82684256e-02\n",
      " -1.28262580e+00  2.65266731e-01 -7.68370116e-01  5.88035185e-01\n",
      "  7.48508829e-01 -1.68811259e-01  1.49257663e+00  1.20497039e+00\n",
      "  6.83765639e-01  4.82213884e-01 -1.09496627e+00 -1.52332683e+00\n",
      " -2.44966143e-01 -9.95325054e-01 -5.10739755e-01 -7.74314600e-01\n",
      " -1.01344150e+00 -1.26536584e+00  3.83161100e-01 -1.80615391e+00\n",
      "  7.75594151e+00  1.41154627e+00  4.91751177e-01 -1.64662909e+00\n",
      " -2.35338495e+00 -1.67740776e+00  5.89665712e+00 -3.29623817e+00\n",
      "  2.27018911e-01 -1.62890432e+00  6.24434377e-01 -4.91069562e-01\n",
      " -1.65670520e+00  5.89168617e-01 -3.07383156e+00 -1.27795708e+00\n",
      " -2.94657649e-01 -1.14794766e+00 -1.70902320e+00 -2.48410868e+00\n",
      " -1.41482050e+00  1.04956240e+00  7.28653437e-01  3.31597703e-01\n",
      "  1.43853768e+00 -2.09465536e+00  5.02043455e-01 -3.68972459e-01\n",
      " -5.41281074e-01 -2.22120227e+00 -1.31555540e+00 -1.81097308e+00\n",
      " -1.97697340e+00  1.04869235e+00 -4.23040278e+00  6.50304411e-01]\n",
      "Score for the training set=> 0.79 Score for the training set=> 0.64\n",
      "Inspect the coefficient as they get small as aplha increases\n",
      " [-8.44969288e-01  6.12356615e-01 -8.21674002e-01  2.89964315e-01\n",
      " -6.93239307e-01  4.52650073e+00 -1.44901683e-01 -2.54747251e+00\n",
      "  9.14184455e-01 -1.18653964e+00 -2.33160287e+00  1.07458863e+00\n",
      " -4.05469350e+00 -6.20576103e-01  3.01962668e-03 -5.42312112e-01\n",
      "  1.51162959e-01 -6.77173909e-01 -8.15636868e-01 -7.77248117e-01\n",
      " -4.03190091e-02 -8.68031860e-01 -7.86166749e-01 -7.04844606e-01\n",
      " -9.23812765e-01 -3.22735469e-01  1.32386106e+00 -3.80384466e-01\n",
      "  5.87553042e-02  2.36262705e-01  2.19768836e+00  6.54966668e-02\n",
      " -2.93287199e-01  1.79961409e-01 -3.63881158e-01 -3.91455629e-01\n",
      "  6.66649634e-01 -7.56983236e-01  8.77858346e-01  3.82036706e-01\n",
      " -6.08248341e-01 -8.82873532e-01  1.05035366e-01 -1.11095306e+00\n",
      "  4.63580945e-01  5.52255151e-01 -3.68850506e-01 -9.80677267e-02\n",
      " -1.29276687e+00  2.89964315e-01 -6.71349355e-01  6.14985639e-01\n",
      "  7.02696568e-01 -1.46495925e-01  1.41783073e+00  1.14764833e+00\n",
      "  6.58394646e-01  4.78099292e-01 -1.02817888e+00 -1.48020858e+00\n",
      " -1.48408994e-01 -9.60370182e-01 -4.81178259e-01 -7.09593117e-01\n",
      " -9.69579085e-01 -1.21458255e+00  3.56777657e-01 -1.78590844e+00\n",
      "  7.36454212e+00  1.47264681e+00  4.35572544e-01 -1.41164576e+00\n",
      " -2.08872881e+00 -1.50335280e+00  5.66575394e+00 -3.07999209e+00\n",
      "  1.73165029e-01 -1.55253522e+00  5.76603992e-01 -4.90285898e-01\n",
      " -1.64199330e+00  6.03694464e-01 -3.02897987e+00 -1.28258741e+00\n",
      " -2.89638279e-01 -1.08824907e+00 -1.70490722e+00 -2.36783305e+00\n",
      " -1.37210541e+00  9.84531075e-01  6.74331720e-01  2.79087613e-01\n",
      "  1.38286404e+00 -1.97796326e+00  4.43577964e-01 -4.09827909e-01\n",
      " -4.95440806e-01 -2.13023890e+00 -1.41562373e+00 -1.78957617e+00\n",
      " -2.01156077e+00  1.06658508e+00 -4.08357719e+00  3.69916188e-01]\n"
     ]
    }
   ],
   "source": [
    "# Alpha set=1 is the default settings\n",
    "from sklearn.linear_model import Ridge\n",
    "alphalist=np.array(np.arange(10))\n",
    "for i in alphalist:\n",
    "    RidReg= Ridge(alpha=i).fit(X_train,y_train)\n",
    "    print(\"Score for the training set=> {:.2f}\".format(RidReg.score(X_train,y_train)),\"Score for the training set=> {:.2f}\".format(RidReg.score(X_test,y_test)))\n",
    "    print(\"Inspect the coefficient as they get small as aplha increases\\n {}\".format(RidReg.coef_))"
   ]
  },
  {
   "cell_type": "code",
   "execution_count": 64,
   "metadata": {},
   "outputs": [
    {
     "name": "stdout",
     "output_type": "stream",
     "text": [
      "Training set score: 0.79\n",
      "Test set score: 0.64\n"
     ]
    }
   ],
   "source": [
    "ridge10 = Ridge(alpha=10).fit(X_train, y_train)\n",
    "print(\"Training set score: {:.2f}\".format(ridge10.score(X_train, y_train)))\n",
    "print(\"Test set score: {:.2f}\".format(ridge10.score(X_test, y_test)))"
   ]
  },
  {
   "cell_type": "code",
   "execution_count": 65,
   "metadata": {},
   "outputs": [
    {
     "name": "stdout",
     "output_type": "stream",
     "text": [
      "Training set score: 0.93\n",
      "Test set score: 0.77\n"
     ]
    }
   ],
   "source": [
    "ridge01 = Ridge(alpha=0.1).fit(X_train, y_train)\n",
    "print(\"Training set score: {:.2f}\".format(ridge01.score(X_train, y_train)))\n",
    "print(\"Test set score: {:.2f}\".format(ridge01.score(X_test, y_test)))"
   ]
  },
  {
   "cell_type": "code",
   "execution_count": 66,
   "metadata": {},
   "outputs": [
    {
     "data": {
      "text/plain": [
       "<matplotlib.legend.Legend at 0x19964afc6a0>"
      ]
     },
     "execution_count": 66,
     "metadata": {},
     "output_type": "execute_result"
    },
    {
     "data": {
      "image/png": "[encoded data removed]",
      "text/plain": [
       "<Figure size 432x288 with 1 Axes>"
      ]
     },
     "metadata": {
      "needs_background": "light"
     },
     "output_type": "display_data"
    }
   ],
   "source": [
    "plt.plot(RidReg.coef_, 's', label=\"Ridge alpha=1\")\n",
    "plt.plot(ridge10.coef_, '^', label=\"Ridge alpha=10\")\n",
    "plt.plot(ridge01.coef_, 'v', label=\"Ridge alpha=0.1\")\n",
    "\n",
    "plt.plot(LinReg.coef_, 'o', label=\"LinearRegression\")\n",
    "plt.xlabel(\"Coefficient index\")\n",
    "plt.ylabel(\"Coefficient magnitude\")\n",
    "xlims = plt.xlim()\n",
    "plt.hlines(0, xlims[0], xlims[1])\n",
    "plt.xlim(xlims)\n",
    "plt.ylim(-25, 25)\n",
    "plt.legend()"
   ]
  },
  {
   "cell_type": "markdown",
   "metadata": {},
   "source": [
    "# <h3>Lasso </h3>"
   ]
  },
  {
   "cell_type": "markdown",
   "metadata": {},
   "source": [
    "# <h3>This is another alternative Linear Regression to Ridge,it also restricts coefficient close to zero</h3>\n",
    "<li> But in a different way known as L1 regularization consequences is that some coefficient are exactly zero</li>\n",
    "<li> This means some features are ignored by the model,this is an automatic feature selection,</li>"
   ]
  },
  {
   "cell_type": "code",
   "execution_count": 67,
   "metadata": {},
   "outputs": [
    {
     "name": "stdout",
     "output_type": "stream",
     "text": [
      "Score for the training set=> 0.74 Score for the training set=> 0.60\n",
      "Inspect the coefficient as they get small as aplha increases\n",
      " [ -0.           0.          -0.           0.          -0.\n",
      "   0.          -0.          -0.          -0.          -2.05515251\n",
      "  -5.07406391   0.         -15.34195777  -0.           0.\n",
      "  -0.           0.          -0.          -0.          -0.\n",
      "  -0.          -0.          -0.          -0.          -0.\n",
      "  -0.           0.           0.           0.           0.\n",
      "   0.           0.           0.           0.           0.\n",
      "   0.           0.          -0.          -0.           0.\n",
      "  -0.          -0.          -0.          -0.          -0.\n",
      "  -0.          -0.          -0.          -0.           0.\n",
      "   0.           0.           0.           0.           0.\n",
      "   0.           0.           0.           0.          -0.\n",
      "  -0.          -0.          -0.          -0.          -0.\n",
      "  -0.          -0.          -0.          14.33145221  -0.\n",
      "   0.          -0.          -0.          -0.           5.59913553\n",
      "  -0.          -0.          -0.          -0.          -0.\n",
      "  -0.34664597   0.          -0.          -0.          -0.\n",
      "  -0.          -0.          -0.          -0.          -0.\n",
      "  -0.          -0.          -0.          -0.          -0.\n",
      "  -0.          -0.          -0.          -1.38178606  -0.\n",
      "  -0.           0.          -0.          -0.        ]\n"
     ]
    }
   ],
   "source": [
    "from sklearn.linear_model import Lasso\n",
    "LassReg= Lasso(alpha=.2).fit(X_train,y_train)\n",
    "print(\"Score for the training set=> {:.2f}\".format(LassReg.score(X_train,y_train)),\"Score for the training set=> {:.2f}\".format(LassReg.score(X_test,y_test)))\n",
    "print(\"Inspect the coefficient as they get small as aplha increases\\n {}\".format(LassReg.coef_))"
   ]
  },
  {
   "cell_type": "code",
   "execution_count": 68,
   "metadata": {},
   "outputs": [
    {
     "name": "stdout",
     "output_type": "stream",
     "text": [
      "Training set score: 0.29\n",
      "Test set score: 0.21\n",
      "Number of features used: 4\n"
     ]
    }
   ],
   "source": [
    "\n",
    "from sklearn.linear_model import Lasso\n",
    "\n",
    "lasso = Lasso().fit(X_train, y_train)\n",
    "print(\"Training set score: {:.2f}\".format(lasso.score(X_train, y_train)))\n",
    "print(\"Test set score: {:.2f}\".format(lasso.score(X_test, y_test)))\n",
    "print(\"Number of features used: {}\".format(np.sum(lasso.coef_ != 0)))"
   ]
  },
  {
   "cell_type": "markdown",
   "metadata": {},
   "source": [
    "## <h4> This is clear underfitting because few featues where used</h4>"
   ]
  },
  {
   "cell_type": "code",
   "execution_count": null,
   "metadata": {},
   "outputs": [],
   "source": []
  },
  {
   "cell_type": "code",
   "execution_count": 69,
   "metadata": {},
   "outputs": [
    {
     "name": "stdout",
     "output_type": "stream",
     "text": [
      "Training set score: 0.90\n",
      "Test set score: 0.77\n",
      "Number of features used: 33\n"
     ]
    }
   ],
   "source": [
    "# Lasso also has a reularization Parameter L1 interating over aplha to control the how the coefficient are pushed to zero\n",
    "# we increase the default setting of \"max_iter\",\n",
    "# otherwise the model would warn us that we should increase max_iter.\n",
    "\n",
    "lasso001 = Lasso(alpha=0.01, max_iter=100000).fit(X_train, y_train)\n",
    "print(\"Training set score: {:.2f}\".format(lasso001.score(X_train, y_train)))\n",
    "print(\"Test set score: {:.2f}\".format(lasso001.score(X_test, y_test)))\n",
    "print(\"Number of features used: {}\".format(np.sum(lasso001.coef_ != 0)))"
   ]
  },
  {
   "cell_type": "code",
   "execution_count": 70,
   "metadata": {},
   "outputs": [
    {
     "name": "stdout",
     "output_type": "stream",
     "text": [
      "Training set score: 0.90\n",
      "Test set score: 0.77\n",
      "Number of features used: 33\n",
      "prediction:[24.22331066 24.77801555 26.71085493 13.3084156  20.63756295 19.48275299\n",
      " 21.92242306 21.36727041 18.81464072 17.60714022  5.81035177 11.4722222\n",
      " 14.48026943 10.07188518 44.02860229 32.66685305 23.27174526 37.75551165\n",
      " 29.80410145 22.19261926 24.73533077 21.78772695 18.73037243 28.24999143\n",
      " 21.32403009 25.9649352  17.17844506 17.19117243 41.41339252 17.89120219\n",
      " 16.11534923 17.5155695  19.43893351 21.53870681 26.51355049 20.98380064\n",
      "  7.93407516 29.04481004 15.08664221 12.11920823 24.86937147 20.96939658\n",
      " 21.43751892 16.69996007 22.7471478  24.24439007 18.84998004 18.32687211\n",
      " 13.25619897 23.57719844 16.30498099 18.14867073 22.4386381  38.78961917\n",
      " 14.00096971 20.69149085 19.17114985 16.43082219 16.77827737 20.79001448\n",
      " 17.82197528 20.99173595 32.63990058 30.3496805  18.73896676 29.95696515\n",
      " 15.26811771 18.76801542 13.65798489 22.38918915 21.20944063 23.25448705\n",
      " 27.77549733 28.89593304 27.39807158  7.86160919 42.91788514 23.33844302\n",
      " 25.70202048 18.12448465 27.40366473 18.56650962 21.11741262 43.67850425\n",
      " 47.80037727 24.24621941 22.8326349  16.71836688 25.87323966 14.97074602\n",
      " 14.51288263  8.76836459 22.70574247 30.12264391 21.15831876 20.31269702\n",
      " 10.44075754 24.65169772 12.59868335 17.59609946 25.05383893 20.4833788\n",
      " 31.42343914 21.7311276  27.14239045 21.33351972 10.16754449 20.16578488\n",
      " 21.32855705 27.25418715 33.38687132 11.79477983 18.33049062 18.43684006\n",
      " 14.27158755 21.5861711   6.44734474 19.70544474 11.25859218 46.98438508\n",
      " 29.6510477  11.42296477 17.8360209  20.03168115 21.79087281 19.50342706\n",
      " 35.60970881]\n"
     ]
    }
   ],
   "source": [
    "lasso00001 = Lasso(alpha=0.01, max_iter=100000).fit(X_train, y_train)\n",
    "print(\"Training set score: {:.2f}\".format(lasso00001.score(X_train, y_train)))\n",
    "print(\"Test set score: {:.2f}\".format(lasso00001.score(X_test, y_test)))\n",
    "print(\"Number of features used: {}\".format(np.sum(lasso00001.coef_ != 0)))\n",
    "print(\"prediction:{}\".format(lasso00001.predict(X_test)))"
   ]
  },
  {
   "cell_type": "code",
   "execution_count": 75,
   "metadata": {},
   "outputs": [
    {
     "name": "stdout",
     "output_type": "stream",
     "text": [
      "Rmse of the predict to the groud truth : 4.375566566610169\n",
      "Mean absolute error of the predict to the groud truth : 2.7773320164164557\n"
     ]
    }
   ],
   "source": [
    "#Prediction Validation\n",
    "\n",
    "prediction=lasso00001.predict(X_test)\n",
    "print(\"Rmse of the predict to the groud truth : {}\".format(rms(prediction, y_test)))\n",
    "print(\"Mean absolute error of the predict to the groud truth : {}\".format(mean_absolute_error(prediction, y_test)))\n"
   ]
  },
  {
   "cell_type": "code",
   "execution_count": 54,
   "metadata": {},
   "outputs": [
    {
     "data": {
      "text/plain": [
       "<matplotlib.legend.Legend at 0x1996481d4a8>"
      ]
     },
     "execution_count": 54,
     "metadata": {},
     "output_type": "execute_result"
    },
    {
     "data": {
      "image/png": "[encoded data removed]",
      "text/plain": [
       "<Figure size 432x288 with 1 Axes>"
      ]
     },
     "metadata": {
      "needs_background": "light"
     },
     "output_type": "display_data"
    }
   ],
   "source": [
    "plt.plot(ridge10.coef_, '^', label=\"Ridge alpha=0.1\")\n",
    "plt.plot(lasso00001.coef_, 'v', label=\"Lasso alpha=0.01\")\n",
    "\n",
    "plt.plot(LinReg.coef_, 'o', label=\"LinearRegression\")\n",
    "plt.xlabel(\"Coefficient index\")\n",
    "plt.ylabel(\"Coefficient magnitude\")\n",
    "xlims = plt.xlim()\n",
    "plt.hlines(0, xlims[0], xlims[1])\n",
    "plt.xlim(xlims)\n",
    "plt.ylim(-25, 25)\n",
    "plt.legend()"
   ]
  },
  {
   "cell_type": "code",
   "execution_count": 52,
   "metadata": {},
   "outputs": [],
   "source": [
    "# Ridge used all the features and with a high alpha to perform in equivalent to Lasso, In the cas of Lasso , it only used\n",
    "# few features at an interative aplha of 0.01 "
   ]
  },
  {
   "cell_type": "markdown",
   "metadata": {},
   "source": [
    "# <h4>Summay, Lasso and Ridge regularization met at Lasso alpha=0.01 and Ridge alpha=0.1, Both have their adv and disadv</h4>\n",
    "<li> Lasso did not use all the features,</li>\n",
    "<li> Ridge used all the features</li>\n",
    "<li> When you have large features and all the features will not contribute to the model then <b> LASSO</b> is most appropriate</li>\n",
    "<li> When you have quite a number of features and all is needed then <b>RIDGE</b> is most appropriate</li>\n"
   ]
  }
 ],
 "metadata": {
  "kernelspec": {
   "display_name": "Python 3",
   "language": "python",
   "name": "python3"
  },
  "language_info": {
   "codemirror_mode": {
    "name": "ipython",
    "version": 3
   },
   "file_extension": ".py",
   "mimetype": "text/x-python",
   "name": "python",
   "nbconvert_exporter": "python",
   "pygments_lexer": "ipython3",
   "version": "3.7.3"
  }
 },
 "nbformat": 4,
 "nbformat_minor": 4
}
