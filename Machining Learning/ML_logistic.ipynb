{
 "cells": [
  {
   "cell_type": "code",
   "execution_count": 85,
   "metadata": {},
   "outputs": [],
   "source": [
    "import pandas as pd\n",
    "import numpy as np\n",
    "import statsmodels.api as sm\n",
    "from sklearn import linear_model\n",
    "from sklearn.preprocessing import OneHotEncoder\n",
    "from pandas import DataFrame\n",
    "url=\"Desktop/coursera/Projects/delay-UA-cleaned.csv\"\n",
    "df = pd.read_csv(url)"
   ]
  },
  {
   "cell_type": "code",
   "execution_count": 86,
   "metadata": {},
   "outputs": [
    {
     "data": {
      "text/html": [
       "<div>\n",
       "<style scoped>\n",
       "    .dataframe tbody tr th:only-of-type {\n",
       "        vertical-align: middle;\n",
       "    }\n",
       "\n",
       "    .dataframe tbody tr th {\n",
       "        vertical-align: top;\n",
       "    }\n",
       "\n",
       "    .dataframe thead th {\n",
       "        text-align: right;\n",
       "    }\n",
       "</style>\n",
       "<table border=\"1\" class=\"dataframe\">\n",
       "  <thead>\n",
       "    <tr style=\"text-align: right;\">\n",
       "      <th></th>\n",
       "      <th>DAY_OF_MONTH</th>\n",
       "      <th>DAY_OF_WEEK</th>\n",
       "      <th>ORIGIN</th>\n",
       "      <th>DEST</th>\n",
       "      <th>CRS_DEP_TIME</th>\n",
       "      <th>CRS_ARR_TIME</th>\n",
       "      <th>ARR_DELAY</th>\n",
       "      <th>ARR_DEL15</th>\n",
       "      <th>CRS_ELAPSED_TIME</th>\n",
       "      <th>ACTUAL_ELAPSED_TIME</th>\n",
       "      <th>DISTANCE</th>\n",
       "    </tr>\n",
       "  </thead>\n",
       "  <tbody>\n",
       "    <tr>\n",
       "      <th>0</th>\n",
       "      <td>31</td>\n",
       "      <td>4</td>\n",
       "      <td>SFO</td>\n",
       "      <td>DEN</td>\n",
       "      <td>1418</td>\n",
       "      <td>1758</td>\n",
       "      <td>-31</td>\n",
       "      <td>0</td>\n",
       "      <td>160</td>\n",
       "      <td>137</td>\n",
       "      <td>967</td>\n",
       "    </tr>\n",
       "    <tr>\n",
       "      <th>1</th>\n",
       "      <td>31</td>\n",
       "      <td>4</td>\n",
       "      <td>DEN</td>\n",
       "      <td>IAH</td>\n",
       "      <td>1601</td>\n",
       "      <td>1926</td>\n",
       "      <td>9</td>\n",
       "      <td>0</td>\n",
       "      <td>145</td>\n",
       "      <td>134</td>\n",
       "      <td>862</td>\n",
       "    </tr>\n",
       "    <tr>\n",
       "      <th>2</th>\n",
       "      <td>31</td>\n",
       "      <td>4</td>\n",
       "      <td>ORD</td>\n",
       "      <td>DEN</td>\n",
       "      <td>1600</td>\n",
       "      <td>1748</td>\n",
       "      <td>36</td>\n",
       "      <td>1</td>\n",
       "      <td>168</td>\n",
       "      <td>155</td>\n",
       "      <td>888</td>\n",
       "    </tr>\n",
       "    <tr>\n",
       "      <th>3</th>\n",
       "      <td>31</td>\n",
       "      <td>4</td>\n",
       "      <td>ORD</td>\n",
       "      <td>SFO</td>\n",
       "      <td>1241</td>\n",
       "      <td>1531</td>\n",
       "      <td>7</td>\n",
       "      <td>0</td>\n",
       "      <td>290</td>\n",
       "      <td>291</td>\n",
       "      <td>1846</td>\n",
       "    </tr>\n",
       "    <tr>\n",
       "      <th>4</th>\n",
       "      <td>31</td>\n",
       "      <td>4</td>\n",
       "      <td>IAH</td>\n",
       "      <td>SFO</td>\n",
       "      <td>1852</td>\n",
       "      <td>2114</td>\n",
       "      <td>-6</td>\n",
       "      <td>0</td>\n",
       "      <td>262</td>\n",
       "      <td>250</td>\n",
       "      <td>1635</td>\n",
       "    </tr>\n",
       "    <tr>\n",
       "      <th>...</th>\n",
       "      <td>...</td>\n",
       "      <td>...</td>\n",
       "      <td>...</td>\n",
       "      <td>...</td>\n",
       "      <td>...</td>\n",
       "      <td>...</td>\n",
       "      <td>...</td>\n",
       "      <td>...</td>\n",
       "      <td>...</td>\n",
       "      <td>...</td>\n",
       "      <td>...</td>\n",
       "    </tr>\n",
       "    <tr>\n",
       "      <th>3895</th>\n",
       "      <td>3</td>\n",
       "      <td>4</td>\n",
       "      <td>SFO</td>\n",
       "      <td>IAH</td>\n",
       "      <td>555</td>\n",
       "      <td>1149</td>\n",
       "      <td>-22</td>\n",
       "      <td>0</td>\n",
       "      <td>234</td>\n",
       "      <td>217</td>\n",
       "      <td>1635</td>\n",
       "    </tr>\n",
       "    <tr>\n",
       "      <th>3896</th>\n",
       "      <td>3</td>\n",
       "      <td>4</td>\n",
       "      <td>SFO</td>\n",
       "      <td>IAH</td>\n",
       "      <td>1251</td>\n",
       "      <td>1833</td>\n",
       "      <td>36</td>\n",
       "      <td>1</td>\n",
       "      <td>222</td>\n",
       "      <td>219</td>\n",
       "      <td>1635</td>\n",
       "    </tr>\n",
       "    <tr>\n",
       "      <th>3897</th>\n",
       "      <td>3</td>\n",
       "      <td>4</td>\n",
       "      <td>IAH</td>\n",
       "      <td>SFO</td>\n",
       "      <td>1602</td>\n",
       "      <td>1824</td>\n",
       "      <td>121</td>\n",
       "      <td>1</td>\n",
       "      <td>262</td>\n",
       "      <td>262</td>\n",
       "      <td>1635</td>\n",
       "    </tr>\n",
       "    <tr>\n",
       "      <th>3898</th>\n",
       "      <td>3</td>\n",
       "      <td>4</td>\n",
       "      <td>SFO</td>\n",
       "      <td>ORD</td>\n",
       "      <td>1907</td>\n",
       "      <td>114</td>\n",
       "      <td>29</td>\n",
       "      <td>1</td>\n",
       "      <td>247</td>\n",
       "      <td>244</td>\n",
       "      <td>1846</td>\n",
       "    </tr>\n",
       "    <tr>\n",
       "      <th>3899</th>\n",
       "      <td>3</td>\n",
       "      <td>4</td>\n",
       "      <td>SFO</td>\n",
       "      <td>DEN</td>\n",
       "      <td>1653</td>\n",
       "      <td>2027</td>\n",
       "      <td>8</td>\n",
       "      <td>0</td>\n",
       "      <td>154</td>\n",
       "      <td>140</td>\n",
       "      <td>967</td>\n",
       "    </tr>\n",
       "  </tbody>\n",
       "</table>\n",
       "<p>3900 rows × 11 columns</p>\n",
       "</div>"
      ],
      "text/plain": [
       "      DAY_OF_MONTH  DAY_OF_WEEK ORIGIN DEST  CRS_DEP_TIME  CRS_ARR_TIME  \\\n",
       "0               31            4    SFO  DEN          1418          1758   \n",
       "1               31            4    DEN  IAH          1601          1926   \n",
       "2               31            4    ORD  DEN          1600          1748   \n",
       "3               31            4    ORD  SFO          1241          1531   \n",
       "4               31            4    IAH  SFO          1852          2114   \n",
       "...            ...          ...    ...  ...           ...           ...   \n",
       "3895             3            4    SFO  IAH           555          1149   \n",
       "3896             3            4    SFO  IAH          1251          1833   \n",
       "3897             3            4    IAH  SFO          1602          1824   \n",
       "3898             3            4    SFO  ORD          1907           114   \n",
       "3899             3            4    SFO  DEN          1653          2027   \n",
       "\n",
       "      ARR_DELAY  ARR_DEL15  CRS_ELAPSED_TIME  ACTUAL_ELAPSED_TIME  DISTANCE  \n",
       "0           -31          0               160                  137       967  \n",
       "1             9          0               145                  134       862  \n",
       "2            36          1               168                  155       888  \n",
       "3             7          0               290                  291      1846  \n",
       "4            -6          0               262                  250      1635  \n",
       "...         ...        ...               ...                  ...       ...  \n",
       "3895        -22          0               234                  217      1635  \n",
       "3896         36          1               222                  219      1635  \n",
       "3897        121          1               262                  262      1635  \n",
       "3898         29          1               247                  244      1846  \n",
       "3899          8          0               154                  140       967  \n",
       "\n",
       "[3900 rows x 11 columns]"
      ]
     },
     "execution_count": 86,
     "metadata": {},
     "output_type": "execute_result"
    }
   ],
   "source": [
    "df"
   ]
  },
  {
   "cell_type": "code",
   "execution_count": 87,
   "metadata": {},
   "outputs": [],
   "source": [
    "y=df.ARR_DEL15"
   ]
  },
  {
   "cell_type": "code",
   "execution_count": 88,
   "metadata": {},
   "outputs": [],
   "source": [
    "#Performed the categories feature transformation through OnehotEncoder\n",
    "X=df.drop([\"ARR_DEL15\",\"ARR_DELAY\",],axis=1)\n",
    "X=pd.get_dummies(X)"
   ]
  },
  {
   "cell_type": "code",
   "execution_count": 89,
   "metadata": {},
   "outputs": [],
   "source": [
    "X=X.drop([\"ORIGIN_SFO\",\"DEST_SFO\"],axis=1)"
   ]
  },
  {
   "cell_type": "markdown",
   "metadata": {},
   "source": [
    "<h3> Using StatsModel</h3>"
   ]
  },
  {
   "cell_type": "code",
   "execution_count": 90,
   "metadata": {},
   "outputs": [],
   "source": [
    "import statsmodels.api as sm"
   ]
  },
  {
   "cell_type": "code",
   "execution_count": 91,
   "metadata": {},
   "outputs": [],
   "source": [
    "X=sm.add_constant(X)\n",
    "logit=sm.Logit(y,X)"
   ]
  },
  {
   "cell_type": "code",
   "execution_count": 92,
   "metadata": {},
   "outputs": [
    {
     "name": "stdout",
     "output_type": "stream",
     "text": [
      "Optimization terminated successfully.\n",
      "         Current function value: 0.501968\n",
      "         Iterations 6\n"
     ]
    },
    {
     "data": {
      "text/plain": [
       "<statsmodels.discrete.discrete_model.BinaryResultsWrapper at 0x16b7bdeb5c0>"
      ]
     },
     "execution_count": 92,
     "metadata": {},
     "output_type": "execute_result"
    }
   ],
   "source": [
    "logit.fit()"
   ]
  },
  {
   "cell_type": "code",
   "execution_count": 93,
   "metadata": {},
   "outputs": [
    {
     "name": "stdout",
     "output_type": "stream",
     "text": [
      "Optimization terminated successfully.\n",
      "         Current function value: 0.501968\n",
      "         Iterations 6\n"
     ]
    },
    {
     "data": {
      "text/html": [
       "<table class=\"simpletable\">\n",
       "<caption>Logit Regression Results</caption>\n",
       "<tr>\n",
       "  <th>Dep. Variable:</th>       <td>ARR_DEL15</td>    <th>  No. Observations:  </th>   <td>  3900</td>  \n",
       "</tr>\n",
       "<tr>\n",
       "  <th>Model:</th>                 <td>Logit</td>      <th>  Df Residuals:      </th>   <td>  3885</td>  \n",
       "</tr>\n",
       "<tr>\n",
       "  <th>Method:</th>                 <td>MLE</td>       <th>  Df Model:          </th>   <td>    14</td>  \n",
       "</tr>\n",
       "<tr>\n",
       "  <th>Date:</th>            <td>Sun, 13 Sep 2020</td> <th>  Pseudo R-squ.:     </th>   <td>0.1420</td>  \n",
       "</tr>\n",
       "<tr>\n",
       "  <th>Time:</th>                <td>12:06:27</td>     <th>  Log-Likelihood:    </th>  <td> -1957.7</td> \n",
       "</tr>\n",
       "<tr>\n",
       "  <th>converged:</th>             <td>True</td>       <th>  LL-Null:           </th>  <td> -2281.6</td> \n",
       "</tr>\n",
       "<tr>\n",
       "  <th>Covariance Type:</th>     <td>nonrobust</td>    <th>  LLR p-value:       </th> <td>3.298e-129</td>\n",
       "</tr>\n",
       "</table>\n",
       "<table class=\"simpletable\">\n",
       "<tr>\n",
       "           <td></td>              <th>coef</th>     <th>std err</th>      <th>z</th>      <th>P>|z|</th>  <th>[0.025</th>    <th>0.975]</th>  \n",
       "</tr>\n",
       "<tr>\n",
       "  <th>const</th>               <td>    0.4656</td> <td>    0.707</td> <td>    0.659</td> <td> 0.510</td> <td>   -0.920</td> <td>    1.851</td>\n",
       "</tr>\n",
       "<tr>\n",
       "  <th>DAY_OF_MONTH</th>        <td>    0.0475</td> <td>    0.005</td> <td>   10.187</td> <td> 0.000</td> <td>    0.038</td> <td>    0.057</td>\n",
       "</tr>\n",
       "<tr>\n",
       "  <th>DAY_OF_WEEK</th>         <td>   -0.0342</td> <td>    0.021</td> <td>   -1.668</td> <td> 0.095</td> <td>   -0.074</td> <td>    0.006</td>\n",
       "</tr>\n",
       "<tr>\n",
       "  <th>CRS_DEP_TIME</th>        <td>    0.0006</td> <td> 9.13e-05</td> <td>    6.351</td> <td> 0.000</td> <td>    0.000</td> <td>    0.001</td>\n",
       "</tr>\n",
       "<tr>\n",
       "  <th>CRS_ARR_TIME</th>        <td>    0.0001</td> <td> 8.03e-05</td> <td>    1.381</td> <td> 0.167</td> <td>-4.65e-05</td> <td>    0.000</td>\n",
       "</tr>\n",
       "<tr>\n",
       "  <th>CRS_ELAPSED_TIME</th>    <td>   -0.0743</td> <td>    0.009</td> <td>   -8.676</td> <td> 0.000</td> <td>   -0.091</td> <td>   -0.057</td>\n",
       "</tr>\n",
       "<tr>\n",
       "  <th>ACTUAL_ELAPSED_TIME</th> <td>    0.0523</td> <td>    0.003</td> <td>   17.037</td> <td> 0.000</td> <td>    0.046</td> <td>    0.058</td>\n",
       "</tr>\n",
       "<tr>\n",
       "  <th>DISTANCE</th>            <td>    0.0023</td> <td>    0.001</td> <td>    2.318</td> <td> 0.020</td> <td>    0.000</td> <td>    0.004</td>\n",
       "</tr>\n",
       "<tr>\n",
       "  <th>ORIGIN_CVG</th>          <td>   -0.1631</td> <td>    1.276</td> <td>   -0.128</td> <td> 0.898</td> <td>   -2.665</td> <td>    2.339</td>\n",
       "</tr>\n",
       "<tr>\n",
       "  <th>ORIGIN_DEN</th>          <td>   -0.8634</td> <td>    0.241</td> <td>   -3.582</td> <td> 0.000</td> <td>   -1.336</td> <td>   -0.391</td>\n",
       "</tr>\n",
       "<tr>\n",
       "  <th>ORIGIN_IAH</th>          <td>   -0.0408</td> <td>    0.216</td> <td>   -0.189</td> <td> 0.850</td> <td>   -0.464</td> <td>    0.382</td>\n",
       "</tr>\n",
       "<tr>\n",
       "  <th>ORIGIN_ORD</th>          <td>    0.0329</td> <td>    0.239</td> <td>    0.138</td> <td> 0.891</td> <td>   -0.436</td> <td>    0.501</td>\n",
       "</tr>\n",
       "<tr>\n",
       "  <th>DEST_DEN</th>            <td>   -1.4162</td> <td>    0.266</td> <td>   -5.316</td> <td> 0.000</td> <td>   -1.938</td> <td>   -0.894</td>\n",
       "</tr>\n",
       "<tr>\n",
       "  <th>DEST_IAH</th>            <td>   -1.1509</td> <td>    0.215</td> <td>   -5.344</td> <td> 0.000</td> <td>   -1.573</td> <td>   -0.729</td>\n",
       "</tr>\n",
       "<tr>\n",
       "  <th>DEST_ORD</th>            <td>   -1.1365</td> <td>    0.197</td> <td>   -5.767</td> <td> 0.000</td> <td>   -1.523</td> <td>   -0.750</td>\n",
       "</tr>\n",
       "</table>"
      ],
      "text/plain": [
       "<class 'statsmodels.iolib.summary.Summary'>\n",
       "\"\"\"\n",
       "                           Logit Regression Results                           \n",
       "==============================================================================\n",
       "Dep. Variable:              ARR_DEL15   No. Observations:                 3900\n",
       "Model:                          Logit   Df Residuals:                     3885\n",
       "Method:                           MLE   Df Model:                           14\n",
       "Date:                Sun, 13 Sep 2020   Pseudo R-squ.:                  0.1420\n",
       "Time:                        12:06:27   Log-Likelihood:                -1957.7\n",
       "converged:                       True   LL-Null:                       -2281.6\n",
       "Covariance Type:            nonrobust   LLR p-value:                3.298e-129\n",
       "=======================================================================================\n",
       "                          coef    std err          z      P>|z|      [0.025      0.975]\n",
       "---------------------------------------------------------------------------------------\n",
       "const                   0.4656      0.707      0.659      0.510      -0.920       1.851\n",
       "DAY_OF_MONTH            0.0475      0.005     10.187      0.000       0.038       0.057\n",
       "DAY_OF_WEEK            -0.0342      0.021     -1.668      0.095      -0.074       0.006\n",
       "CRS_DEP_TIME            0.0006   9.13e-05      6.351      0.000       0.000       0.001\n",
       "CRS_ARR_TIME            0.0001   8.03e-05      1.381      0.167   -4.65e-05       0.000\n",
       "CRS_ELAPSED_TIME       -0.0743      0.009     -8.676      0.000      -0.091      -0.057\n",
       "ACTUAL_ELAPSED_TIME     0.0523      0.003     17.037      0.000       0.046       0.058\n",
       "DISTANCE                0.0023      0.001      2.318      0.020       0.000       0.004\n",
       "ORIGIN_CVG             -0.1631      1.276     -0.128      0.898      -2.665       2.339\n",
       "ORIGIN_DEN             -0.8634      0.241     -3.582      0.000      -1.336      -0.391\n",
       "ORIGIN_IAH             -0.0408      0.216     -0.189      0.850      -0.464       0.382\n",
       "ORIGIN_ORD              0.0329      0.239      0.138      0.891      -0.436       0.501\n",
       "DEST_DEN               -1.4162      0.266     -5.316      0.000      -1.938      -0.894\n",
       "DEST_IAH               -1.1509      0.215     -5.344      0.000      -1.573      -0.729\n",
       "DEST_ORD               -1.1365      0.197     -5.767      0.000      -1.523      -0.750\n",
       "=======================================================================================\n",
       "\"\"\""
      ]
     },
     "execution_count": 93,
     "metadata": {},
     "output_type": "execute_result"
    }
   ],
   "source": [
    "logit.fit().summary()"
   ]
  },
  {
   "cell_type": "markdown",
   "metadata": {},
   "source": [
    "<h3> Logistic Regresion</h3>"
   ]
  },
  {
   "cell_type": "markdown",
   "metadata": {},
   "source": [
    "<h4>Interpreting Categorical prediction results\n",
    "<li>Precision,Recall,True Positive Rate,False Positive Rate \n",
    "<li>Precision recall curve ,ROC curve, F-Score,Area under PR curve\n",
    "<li>Area under ROC curve</h4>"
   ]
  },
  {
   "cell_type": "code",
   "execution_count": 94,
   "metadata": {},
   "outputs": [],
   "source": [
    "from sklearn.model_selection import train_test_split\n",
    "from sklearn.linear_model import LogisticRegression\n",
    "from sklearn.metrics import confusion_matrix,plot_confusion_matrix\n",
    "from sklearn.metrics import precision_score,accuracy_score,recall_score,precision_recall_curve,PrecisionRecallDisplay\n",
    "import matplotlib.pyplot as plt"
   ]
  },
  {
   "cell_type": "markdown",
   "metadata": {},
   "source": [
    "<h2> Develop a Confusion matrix</h2>"
   ]
  },
  {
   "cell_type": "code",
   "execution_count": 110,
   "metadata": {},
   "outputs": [
    {
     "name": "stdout",
     "output_type": "stream",
     "text": [
      "(2340,) <class 'pandas.core.series.Series'>\n"
     ]
    }
   ],
   "source": [
    "X_train, X_test, y_train, y_test = train_test_split(X,y,test_size = 0.4,random_state=12345)\n",
    "print(y_train.shape,type(y_test))"
   ]
  },
  {
   "cell_type": "code",
   "execution_count": 96,
   "metadata": {},
   "outputs": [
    {
     "name": "stdout",
     "output_type": "stream",
     "text": [
      "Training set score: 0.780\n",
      "Test set score: 0.790\n"
     ]
    }
   ],
   "source": [
    "LogReg=LogisticRegression(max_iter=10000, C=100).fit(X_train, y_train)\n",
    "print(\"Training set score: {:.3f}\".format(LogReg.score(X_train, y_train)))\n",
    "print(\"Test set score: {:.3f}\".format(LogReg.score(X_test, y_test)))"
   ]
  },
  {
   "cell_type": "code",
   "execution_count": 109,
   "metadata": {},
   "outputs": [
    {
     "name": "stdout",
     "output_type": "stream",
     "text": [
      "prediction: [0 0 0 ... 0 0 0]\n"
     ]
    }
   ],
   "source": [
    "print(\"prediction: {}\".format(LogReg.predict(X_test)))"
   ]
  },
  {
   "cell_type": "code",
   "execution_count": 98,
   "metadata": {},
   "outputs": [
    {
     "data": {
      "image/png": "[encoded data removed]",
      "text/plain": [
       "<Figure size 432x288 with 2 Axes>"
      ]
     },
     "metadata": {
      "needs_background": "light"
     },
     "output_type": "display_data"
    }
   ],
   "source": [
    "plot_confusion_matrix(LogReg,X_test,y_test)\n",
    "plt.show()"
   ]
  },
  {
   "cell_type": "code",
   "execution_count": 99,
   "metadata": {},
   "outputs": [
    {
     "data": {
      "text/plain": [
       "(1098, 49, 279, 134)"
      ]
     },
     "execution_count": 99,
     "metadata": {},
     "output_type": "execute_result"
    }
   ],
   "source": [
    "#sklearn.metrics.confusion_matrix(y_true, y_pred, *, labels=None, sample_weight=None, normalize=None)\n",
    "tn, fp, fn, tp = confusion_matrix(y_test, LogReg.predict(X_test)).ravel()\n",
    "tn, fp, fn, tp"
   ]
  },
  {
   "cell_type": "code",
   "execution_count": 100,
   "metadata": {},
   "outputs": [
    {
     "name": "stdout",
     "output_type": "stream",
     "text": [
      "Precsion: 0.7322\n"
     ]
    }
   ],
   "source": [
    "print(\"Precision: {:.4f}\".format(precision_score(y_test,LogReg.predict(X_test))))"
   ]
  },
  {
   "cell_type": "code",
   "execution_count": 101,
   "metadata": {},
   "outputs": [
    {
     "data": {
      "image/png": "[encoded data removed]",
      "text/plain": [
       "<Figure size 432x288 with 1 Axes>"
      ]
     },
     "metadata": {
      "needs_background": "light"
     },
     "output_type": "display_data"
    }
   ],
   "source": [
    "precision,recall,thresold=precision_recall_curve(y_test,LogReg.predict(X_test))\n",
    "\n",
    "def plot_prec_recall_vs_tresh(precisions, recalls, thresholds):\n",
    "    plt.plot(thresholds, precisions[:-1], 'b--', label='precision')\n",
    "    plt.plot(thresholds, recalls[:-1], 'g--', label = 'recall')\n",
    "    plt.xlabel('Threshold')\n",
    "    plt.legend(loc='upper left')\n",
    "    plt.ylim([0,1])\n",
    "\n",
    "plot_prec_recall_vs_tresh(precision,recall,thresold)\n",
    "plt.show()"
   ]
  },
  {
   "cell_type": "code",
   "execution_count": 102,
   "metadata": {},
   "outputs": [],
   "source": [
    "def confusion_matrix(predicted, actual, threshold):\n",
    "    if len(predicted) != len(actual): return -1\n",
    "    tp = 0.0\n",
    "    fp = 0.0\n",
    "    tn = 0.0\n",
    "    fn = 0.0\n",
    "    for i in range(len(actual)):\n",
    "        if actual[i] > 0.5: #labels that are 1.0  (positive examples)\n",
    "            if predicted[i] > threshold:\n",
    "                tp += 1.0 #correctly predicted positive\n",
    "            else:\n",
    "                fn += 1.0 #incorrectly predicted negative\n",
    "        else:              #labels that are 0.0 (negative examples)\n",
    "            if predicted[i] < threshold:\n",
    "                tn += 1.0 #correctly predicted negative\n",
    "            else:\n",
    "                fp += 1.0 #incorrectly predicted positive\n",
    "    rtn = [tp, fn, fp, tn]\n",
    "\n",
    "    return rtn"
   ]
  },
  {
   "cell_type": "code",
   "execution_count": 113,
   "metadata": {},
   "outputs": [
    {
     "data": {
      "text/plain": [
       "[134.0, 279.0, 49.0, 1098.0]"
      ]
     },
     "execution_count": 113,
     "metadata": {},
     "output_type": "execute_result"
    }
   ],
   "source": [
    "cm=confusion_matrix(LogReg.predict(X_test),y_test.to_numpy(),0.5)\n",
    "cm"
   ]
  },
  {
   "cell_type": "code",
   "execution_count": null,
   "metadata": {},
   "outputs": [],
   "source": []
  }
 ],
 "metadata": {
  "kernelspec": {
   "display_name": "Python 3",
   "language": "python",
   "name": "python3"
  },
  "language_info": {
   "codemirror_mode": {
    "name": "ipython",
    "version": 3
   },
   "file_extension": ".py",
   "mimetype": "text/x-python",
   "name": "python",
   "nbconvert_exporter": "python",
   "pygments_lexer": "ipython3",
   "version": "3.7.3"
  }
 },
 "nbformat": 4,
 "nbformat_minor": 4
}
