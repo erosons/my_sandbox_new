{
 "cells": [
  {
   "cell_type": "code",
   "execution_count": 1,
   "metadata": {},
   "outputs": [],
   "source": [
    "import pandas as pd\n",
    "import numpy as np\n",
    "import matplotlib.pyplot as plt\n",
    "import statsmodels.api as sm\n",
    "from sklearn import linear_model"
   ]
  },
  {
   "cell_type": "code",
   "execution_count": 6,
   "metadata": {},
   "outputs": [
    {
     "name": "stdout",
     "output_type": "stream",
     "text": [
      "      Row ID        Order ID Order Date  Ship Date       Ship Mode  \\\n",
      "0        321  CA-2014-164973  11/4/2014  11/9/2014  Standard Class   \n",
      "1        322  CA-2014-164973  11/4/2014  11/9/2014  Standard Class   \n",
      "2        323  CA-2014-156601  9/19/2014  9/24/2014  Standard Class   \n",
      "3        324  CA-2016-162138  4/23/2016  4/27/2016  Standard Class   \n",
      "4        325  CA-2016-162138  4/23/2016  4/27/2016  Standard Class   \n",
      "...      ...             ...        ...        ...             ...   \n",
      "9669    9990  CA-2014-110422  1/21/2014  1/23/2014    Second Class   \n",
      "9670    9991  CA-2017-121258  2/26/2017   3/3/2017  Standard Class   \n",
      "9671    9992  CA-2017-121258  2/26/2017   3/3/2017  Standard Class   \n",
      "9672    9993  CA-2017-121258  2/26/2017   3/3/2017  Standard Class   \n",
      "9673    9994  CA-2017-119914   5/4/2017   5/9/2017    Second Class   \n",
      "\n",
      "     Customer ID     Customer Name      Segment        Country           City  \\\n",
      "0       NM-18445      Nathan Mautz  Home Office  United States  New York City   \n",
      "1       NM-18445      Nathan Mautz  Home Office  United States  New York City   \n",
      "2       FA-14230    Frank Atkinson    Corporate  United States     Long Beach   \n",
      "3       GK-14620       Grace Kelly    Corporate  United States       Hesperia   \n",
      "4       GK-14620       Grace Kelly    Corporate  United States       Hesperia   \n",
      "...          ...               ...          ...            ...            ...   \n",
      "9669    TB-21400  Tom Boeckenhauer     Consumer  United States          Miami   \n",
      "9670    DB-13060       Dave Brooks     Consumer  United States     Costa Mesa   \n",
      "9671    DB-13060       Dave Brooks     Consumer  United States     Costa Mesa   \n",
      "9672    DB-13060       Dave Brooks     Consumer  United States     Costa Mesa   \n",
      "9673    CC-12220      Chris Cortes     Consumer  United States    Westminster   \n",
      "\n",
      "      ... Postal Code  Region       Product ID         Category Sub-Category  \\\n",
      "0     ...       10024    East  TEC-AC-10000892       Technology  Accessories   \n",
      "1     ...       10024    East  OFF-ST-10002974  Office Supplies      Storage   \n",
      "2     ...       90805    West  OFF-FA-10000624  Office Supplies    Fasteners   \n",
      "3     ...       92345    West  OFF-BI-10004593  Office Supplies      Binders   \n",
      "4     ...       92345    West  TEC-AC-10001908       Technology  Accessories   \n",
      "...   ...         ...     ...              ...              ...          ...   \n",
      "9669  ...       33180   South  FUR-FU-10001889        Furniture  Furnishings   \n",
      "9670  ...       92627    West  FUR-FU-10000747        Furniture  Furnishings   \n",
      "9671  ...       92627    West  TEC-PH-10003645       Technology       Phones   \n",
      "9672  ...       92627    West  OFF-PA-10004041  Office Supplies        Paper   \n",
      "9673  ...       92683    West  OFF-AP-10002684  Office Supplies   Appliances   \n",
      "\n",
      "                                           Product Name    Sales  Quantity  \\\n",
      "0           NETGEAR N750 Dual Band Wi-Fi Gigabit Router  360.000         4   \n",
      "1              Trav-L-File Heavy-Duty Shuttle II, Black   43.570         1   \n",
      "2                                      OIC Binder Clips    7.160         2   \n",
      "3         Ibico Laser Imprintable Binding System Covers  251.520         6   \n",
      "4                        Logitech Wireless Headset h800   99.990         1   \n",
      "...                                                 ...      ...       ...   \n",
      "9669                             Ultra Door Pull Handle   25.248         3   \n",
      "9670  Tenex B1-RE Series Chair Mats for Low Pile Car...   91.960         2   \n",
      "9671                              Aastra 57i VoIP phone  258.576         2   \n",
      "9672  It's Hot Message Books with Stickers, 2 3/4\" x 5\"   29.600         4   \n",
      "9673  Acco 7-Outlet Masterpiece Power Center, Wihtou...  243.160         2   \n",
      "\n",
      "      Discount    Profit  \n",
      "0          0.0  129.6000  \n",
      "1          0.0   13.0710  \n",
      "2          0.0    3.5800  \n",
      "3          0.2   81.7440  \n",
      "4          0.0   34.9965  \n",
      "...        ...       ...  \n",
      "9669       0.2    4.1028  \n",
      "9670       0.0   15.6332  \n",
      "9671       0.2   19.3932  \n",
      "9672       0.0   13.3200  \n",
      "9673       0.0   72.9480  \n",
      "\n",
      "[9674 rows x 21 columns]\n"
     ]
    }
   ],
   "source": [
    "data=pd.read_csv('Desktop\\datasets\\Superstore.csv', engine='python')\n",
    "print(data)"
   ]
  },
  {
   "cell_type": "code",
   "execution_count": 9,
   "metadata": {},
   "outputs": [
    {
     "data": {
      "image/png": "[encoded data removed]",
      "text/plain": [
       "<Figure size 432x288 with 1 Axes>"
      ]
     },
     "metadata": {
      "needs_background": "light"
     },
     "output_type": "display_data"
    }
   ],
   "source": [
    "plt.scatter(data['Profit'],data['Sales'], color='blue')\n",
    "plt.title('Linear regression between Sales and profit',fontsize=14)\n",
    "plt.xlabel('Sales',fontsize=14)\n",
    "plt.ylabel('Profit',fontsize=14)\n",
    "plt.grid(False)\n",
    "plt.show()"
   ]
  },
  {
   "cell_type": "code",
   "execution_count": 10,
   "metadata": {},
   "outputs": [
    {
     "name": "stdout",
     "output_type": "stream",
     "text": [
      "                            OLS Regression Results                            \n",
      "==============================================================================\n",
      "Dep. Variable:                 Profit   R-squared:                       0.288\n",
      "Model:                            OLS   Adj. R-squared:                  0.288\n",
      "Method:                 Least Squares   F-statistic:                     1955.\n",
      "Date:                Mon, 22 Jun 2020   Prob (F-statistic):               0.00\n",
      "Time:                        21:07:34   Log-Likelihood:                -64907.\n",
      "No. Observations:                9674   AIC:                         1.298e+05\n",
      "Df Residuals:                    9671   BIC:                         1.298e+05\n",
      "Df Model:                           2                                         \n",
      "Covariance Type:            nonrobust                                         \n",
      "==============================================================================\n",
      "                 coef    std err          t      P>|t|      [0.025      0.975]\n",
      "------------------------------------------------------------------------------\n",
      "const         22.3268      2.648      8.430      0.000      17.135      27.518\n",
      "Sales          0.1860      0.003     57.279      0.000       0.180       0.192\n",
      "Discount    -228.0018      9.793    -23.281      0.000    -247.199    -208.805\n",
      "==============================================================================\n",
      "Omnibus:                    15061.793   Durbin-Watson:                   1.996\n",
      "Prob(Omnibus):                  0.000   Jarque-Bera (JB):         83410776.610\n",
      "Skew:                          -8.942   Prob(JB):                         0.00\n",
      "Kurtosis:                     457.546   Cond. No.                     3.26e+03\n",
      "==============================================================================\n",
      "\n",
      "Warnings:\n",
      "[1] Standard Errors assume that the covariance matrix of the errors is correctly specified.\n",
      "[2] The condition number is large, 3.26e+03. This might indicate that there are\n",
      "strong multicollinearity or other numerical problems.\n"
     ]
    }
   ],
   "source": [
    "# Multivvariated Regression : And this are the independent variable\n",
    "X=data[['Sales','Discount']] #are the independent variables\n",
    "\n",
    "# to display full statistical mode\n",
    "X=sm.add_constant(X) #adding a constant\n",
    "# This is dependebt variable\n",
    "Y=data['Profit']\n",
    "\n",
    "model=sm.OLS(Y,X,missing=\"drop\")\n",
    "result=model.fit()\n",
    "regression=result.summary()\n",
    "print(regression)\n",
    "# predictions=model.predict(X)\n",
    "# print(predictions)"
   ]
  },
  {
   "cell_type": "code",
   "execution_count": null,
   "metadata": {},
   "outputs": [],
   "source": []
  }
 ],
 "metadata": {
  "kernelspec": {
   "display_name": "Python 3",
   "language": "python",
   "name": "python3"
  },
  "language_info": {
   "codemirror_mode": {
    "name": "ipython",
    "version": 3
   },
   "file_extension": ".py",
   "mimetype": "text/x-python",
   "name": "python",
   "nbconvert_exporter": "python",
   "pygments_lexer": "ipython3",
   "version": "3.7.3"
  }
 },
 "nbformat": 4,
 "nbformat_minor": 4
}
