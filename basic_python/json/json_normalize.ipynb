{
 "cells": [
  {
   "cell_type": "code",
   "execution_count": 126,
   "metadata": {},
   "outputs": [],
   "source": [
    "import pandas as pd\n",
    "from json_normalize import json_normalize\n",
    "import json\n",
    "\n",
    "#pip install json-normalize\n",
    "#pip install NewlineJSON"
   ]
  },
  {
   "cell_type": "code",
   "execution_count": 153,
   "metadata": {},
   "outputs": [
    {
     "data": {
      "text/plain": [
       "'\\nOR\\n'"
      ]
     },
     "execution_count": 153,
     "metadata": {},
     "output_type": "execute_result"
    }
   ],
   "source": [
    "# Opening JSON file\n",
    "\n",
    "import codecs\n",
    "\n",
    "data=json.load(codecs.open('/home/samson/my_sandbox/Engineering/Personal_Implemenation/json/10kSamplejson.json', 'r', 'utf-8-sig'))\n",
    "\n",
    "\"\"\"\n",
    "OR\n",
    "\"\"\"\n",
    "# with open('/home/samson/my_sandbox/Engineering/Personal_Implemenation/json/10kSamplejson.json', encoding='utf-8-sig') as f:\n",
    "#     data = json.load(f)\n",
    "  \n",
    "# returns JSON list of dictionary\n",
    "\"\"\"\n",
    "OR\n",
    "\"\"\"\n",
    "\n",
    "#We can also use this library to normalize #pip install json-normalize\n",
    "\n",
    "# normal_json = json_normalize(json_like)\n",
    "# normal_json"
   ]
  },
  {
   "cell_type": "code",
   "execution_count": 156,
   "metadata": {},
   "outputs": [],
   "source": [
    "with open('out.json','w') as dst:\n",
    "    for line in data:\n",
    "      dst.write(str(line))"
   ]
  },
  {
   "cell_type": "code",
   "execution_count": null,
   "metadata": {},
   "outputs": [],
   "source": [
    "#writing each line of the file on a new line\n",
    "\n",
    "import newlinejson as nlj\n",
    "\n",
    "#with nlj.open('test.json') as src:\n",
    "with nlj.open('out.json', 'w') as dst:\n",
    "     for line in data:\n",
    "      dst.write(str(line))\n",
    "\n",
    "# TODO : \n",
    "\n",
    "with nlj.open(url_samplejson, json_lib = \"simplejson\") as src_:\n",
    "    with nlj.open(url_convertedjson, \"w\") as dst_:\n",
    "        for line_ in src_:\n",
    "            dst_.write(line_)"
   ]
  },
  {
   "cell_type": "code",
   "execution_count": null,
   "metadata": {},
   "outputs": [],
   "source": [
    "x=[]\n",
    "import json\n",
    "from io import StringIO\n",
    "in_json = StringIO(\"\"\"[{\n",
    "    \"key01\": \"value01\",\n",
    "    \"key02\": \"value02\",\n",
    "\n",
    "    \"keyN\": \"valueN\"\n",
    "},\n",
    "{\n",
    "    \"key01\": \"value01\",\n",
    "    \"key02\": \"value02\",\n",
    "\n",
    "    \"keyN\": \"valueN\"\n",
    "},\n",
    "{\n",
    "    \"key01\": \"value01\",\n",
    "    \"key02\": \"value02\",\n",
    "\n",
    "    \"keyN\": \"valueN\"\n",
    "}\n",
    "]\"\"\")\n",
    "\n",
    "# the only significant line to convert the JSON to the desired format\n",
    "\n",
    "result = [json.dumps(record) for record in json.load(in_json)] \n",
    "\n",
    "print('\\n'.join(result))"
   ]
  },
  {
   "cell_type": "code",
   "execution_count": null,
   "metadata": {},
   "outputs": [],
   "source": [
    "# Other formats for dealing encode json files\n",
    "\"\"\"\n",
    "import codecs\n",
    "with codecs.open('samples.json', 'r', 'utf-8-sig') as json_file:  \n",
    "    data = json.load(json_file)\n",
    "\n",
    "or better:\n",
    "\n",
    "import io\n",
    "with io.open('samples.json', 'r', encoding='utf-8-sig') as json_file:  \n",
    "    data = json.load(json_file)\n",
    "\n",
    "\"\"\""
   ]
  },
  {
   "cell_type": "code",
   "execution_count": 158,
   "metadata": {},
   "outputs": [
    {
     "data": {
      "text/html": [
       "<div>\n",
       "<style scoped>\n",
       "    .dataframe tbody tr th:only-of-type {\n",
       "        vertical-align: middle;\n",
       "    }\n",
       "\n",
       "    .dataframe tbody tr th {\n",
       "        vertical-align: top;\n",
       "    }\n",
       "\n",
       "    .dataframe thead th {\n",
       "        text-align: right;\n",
       "    }\n",
       "</style>\n",
       "<table border=\"1\" class=\"dataframe\">\n",
       "  <thead>\n",
       "    <tr style=\"text-align: right;\">\n",
       "      <th></th>\n",
       "      <th>Serial Number</th>\n",
       "      <th>Company Name</th>\n",
       "      <th>Employee Markme</th>\n",
       "      <th>Description</th>\n",
       "      <th>Leave</th>\n",
       "    </tr>\n",
       "  </thead>\n",
       "  <tbody>\n",
       "    <tr>\n",
       "      <th>0</th>\n",
       "      <td>9788189999599</td>\n",
       "      <td>TALES OF SHIVA</td>\n",
       "      <td>Mark</td>\n",
       "      <td>mark</td>\n",
       "      <td>0</td>\n",
       "    </tr>\n",
       "    <tr>\n",
       "      <th>1</th>\n",
       "      <td>9780099578079</td>\n",
       "      <td>1Q84 THE COMPLETE TRILOGY</td>\n",
       "      <td>HARUKI MURAKAMI</td>\n",
       "      <td>Mark</td>\n",
       "      <td>0</td>\n",
       "    </tr>\n",
       "    <tr>\n",
       "      <th>2</th>\n",
       "      <td>9780198082897</td>\n",
       "      <td>MY KUMAN</td>\n",
       "      <td>Mark</td>\n",
       "      <td>Mark</td>\n",
       "      <td>0</td>\n",
       "    </tr>\n",
       "    <tr>\n",
       "      <th>3</th>\n",
       "      <td>9780007880331</td>\n",
       "      <td>THE GOD OF SMAAL THINGS</td>\n",
       "      <td>ARUNDHATI ROY</td>\n",
       "      <td>4TH HARPER COLLINS</td>\n",
       "      <td>2</td>\n",
       "    </tr>\n",
       "    <tr>\n",
       "      <th>4</th>\n",
       "      <td>9780545060455</td>\n",
       "      <td>THE BLACK CIRCLE</td>\n",
       "      <td>Mark</td>\n",
       "      <td>4TH HARPER COLLINS</td>\n",
       "      <td>0</td>\n",
       "    </tr>\n",
       "  </tbody>\n",
       "</table>\n",
       "</div>"
      ],
      "text/plain": [
       "   Serial Number               Company Name  Employee Markme  \\\n",
       "0  9788189999599             TALES OF SHIVA             Mark   \n",
       "1  9780099578079  1Q84 THE COMPLETE TRILOGY  HARUKI MURAKAMI   \n",
       "2  9780198082897                   MY KUMAN             Mark   \n",
       "3  9780007880331    THE GOD OF SMAAL THINGS    ARUNDHATI ROY   \n",
       "4  9780545060455           THE BLACK CIRCLE             Mark   \n",
       "\n",
       "          Description Leave  \n",
       "0                mark     0  \n",
       "1                Mark     0  \n",
       "2                Mark     0  \n",
       "3  4TH HARPER COLLINS     2  \n",
       "4  4TH HARPER COLLINS     0  "
      ]
     },
     "execution_count": 158,
     "metadata": {},
     "output_type": "execute_result"
    }
   ],
   "source": [
    "df=pd.DataFrame(data)\n",
    "df.head(5)"
   ]
  },
  {
   "cell_type": "code",
   "execution_count": null,
   "metadata": {},
   "outputs": [],
   "source": []
  }
 ],
 "metadata": {
  "kernelspec": {
   "display_name": "Python 3",
   "language": "python",
   "name": "python3"
  },
  "language_info": {
   "codemirror_mode": {
    "name": "ipython",
    "version": 3
   },
   "file_extension": ".py",
   "mimetype": "text/x-python",
   "name": "python",
   "nbconvert_exporter": "python",
   "pygments_lexer": "ipython3",
   "version": "3.11.0 (main, Oct 25 2022, 14:13:24) [Clang 14.0.0 (clang-1400.0.29.202)]"
  },
  "orig_nbformat": 4,
  "vscode": {
   "interpreter": {
    "hash": "1a1af0ee75eeea9e2e1ee996c87e7a2b11a0bebd85af04bb136d915cefc0abce"
   }
  }
 },
 "nbformat": 4,
 "nbformat_minor": 2
}
