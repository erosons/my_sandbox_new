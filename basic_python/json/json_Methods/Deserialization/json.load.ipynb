{
 "cells": [
  {
   "cell_type": "code",
   "execution_count": 3,
   "metadata": {},
   "outputs": [],
   "source": [
    "# Dump process is used for seralization of a JSON Objet  and requires a file to output.\n",
    "import json\n",
    "\n",
    "testString={\"test\":{\n",
    "     \"name\":\"Samon\",\n",
    "     \"Location\":\"Houston\",\n",
    "     \"Gender\":\"Male\",\n",
    "     \"Staus\":\"Married\"\n",
    "\n",
    "\n",
    "}\n",
    "\n",
    "}\n",
    "with open('jsonfileTestcase.json','w') as fp:\n",
    "     json.dump(testString,fp,indent=4)\n"
   ]
  },
  {
   "cell_type": "code",
   "execution_count": 7,
   "metadata": {},
   "outputs": [
    {
     "name": "stdout",
     "output_type": "stream",
     "text": [
      "{'test': {'name': 'Samon', 'Location': 'Houston', 'Gender': 'Male', 'Staus': 'Married'}}\n"
     ]
    }
   ],
   "source": [
    "with open('/Users/s.eromonsei/my_sandbox/Engineering/Personal_Implemenation/tutorial/json/json_Methods/jsonfileTestcase.json','r') as fp:\n",
    "    print(json.load(fp))"
   ]
  },
  {
   "cell_type": "code",
   "execution_count": null,
   "metadata": {},
   "outputs": [],
   "source": []
  }
 ],
 "metadata": {
  "kernelspec": {
   "display_name": "Python 3",
   "language": "python",
   "name": "python3"
  },
  "language_info": {
   "codemirror_mode": {
    "name": "ipython",
    "version": 3
   },
   "file_extension": ".py",
   "mimetype": "text/x-python",
   "name": "python",
   "nbconvert_exporter": "python",
   "pygments_lexer": "ipython3",
   "version": "3.11.1"
  },
  "orig_nbformat": 4,
  "vscode": {
   "interpreter": {
    "hash": "1a1af0ee75eeea9e2e1ee996c87e7a2b11a0bebd85af04bb136d915cefc0abce"
   }
  }
 },
 "nbformat": 4,
 "nbformat_minor": 2
}
