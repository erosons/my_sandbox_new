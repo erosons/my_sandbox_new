{
 "cells": [
  {
   "cell_type": "raw",
   "metadata": {},
   "source": [
    "\"\"\"\n",
    "Types of Logging\n",
    " - error -> Due to a more serious problem the software has been able perform function\n",
    " - Debug (default) -> Deatiled informtion , typically of interest only when diagnosing problems\n",
    " - INFO -> Confirmation that thngs are working as expected\n",
    " - warning -> An indiction that something unexpected happened or indicative of some problem in the near future(e.g disk space low).The software is working as expected\n",
    " - Critical(deafult) -> A serious error indicating that the program itself may be unable to continue running\n",
    "\"\"\""
   ]
  },
  {
   "cell_type": "code",
   "execution_count": 2,
   "metadata": {},
   "outputs": [],
   "source": [
    "import logging\n",
    "\"\"\"Writing our log into a file\"\"\"\n",
    "\"\"\"Writing our log into a file\"\"\"\n",
    "logging.basicConfig(filename='test.log',level=logging.DEBUG,format='%(asctime)s:%(levelname)s:%(message)s')\n",
    "\n",
    "def add(x,y):\n",
    "    \"\"\"\n",
    "    :param x value1\n",
    "    :params y value2\n",
    "    \"\"\"\n",
    "    return x+y\n",
    "\n",
    "def sub(x,y):\n",
    "    \"\"\"\n",
    "    :param x value1\n",
    "    :params y value2\n",
    "    \"\"\"\n",
    "    return x-y\n",
    "\n",
    "def multiply(x,y):\n",
    "    \"\"\"\n",
    "    :param x value1\n",
    "    :params y value2\n",
    "    \"\"\"\n",
    "    return x*y\n"
   ]
  },
  {
   "cell_type": "code",
   "execution_count": 3,
   "metadata": {},
   "outputs": [
    {
     "name": "stdout",
     "output_type": "stream",
     "text": [
      "1+ 2 = 3\n",
      "1- 2 = -1\n",
      "1 * 2 = 2\n"
     ]
    }
   ],
   "source": [
    "# USING PRINT LOGGING to display on the console\n",
    "x:int =1\n",
    "y:int =2\n",
    "\n",
    "add_result=add(x,y)\n",
    "print('{}+ {} = {}'.format(x,y,add_result))\n",
    "\n",
    "add_sub=sub(x,y)\n",
    "print('{}- {} = {}'.format(x,y,add_sub))\n",
    "\n",
    "add_multiply=multiply(x,y)\n",
    "print('{} * {} = {}'.format(x,y,add_multiply))"
   ]
  },
  {
   "cell_type": "code",
   "execution_count": 4,
   "metadata": {},
   "outputs": [],
   "source": [
    "# USING DEBUG LOGGING\n",
    "\n",
    "add_result=add(x,y)\n",
    "logging.debug('{}+ {} = {}'.format(x,y,add_result))\n",
    "\n",
    "add_sub=sub(x,y)\n",
    "logging.debug('{}- {} = {}'.format(x,y,add_sub))\n",
    "\n",
    "add_multiply=multiply(x,y)\n",
    "logging.debug('{} * {} = {}'.format(x,y,add_multiply))"
   ]
  },
  {
   "cell_type": "raw",
   "metadata": {},
   "source": [
    "debug return nothing because no specific diagnosing is slected."
   ]
  },
  {
   "cell_type": "code",
   "execution_count": 5,
   "metadata": {},
   "outputs": [],
   "source": [
    "\n",
    "logging.basicConfig(filename='example.log', encoding='utf-8', level=logging.DEBUG)\n",
    "logging.debug('This message should go to the log file')\n",
    "logging.info('So should this')\n",
    "logging.warning('And this, too')\n",
    "logging.error('And non-ASCII stuff, too, like Øresund and Malmö')"
   ]
  },
  {
   "cell_type": "code",
   "execution_count": 6,
   "metadata": {},
   "outputs": [],
   "source": [
    "# USING WARNING LOGGING\n",
    "add_result=add(x,y)\n",
    "logging.warning('{}+ {} = {}'.format(x,y,add_result))\n",
    "\n",
    "add_sub=sub(x,y)\n",
    "logging.warning('{}- {} = {}'.format(x,y,add_sub))\n",
    "\n",
    "add_multiply=multiply(x,y)\n",
    "logging.warning('{} * {} = {}'.format(x,y,add_multiply))"
   ]
  },
  {
   "cell_type": "raw",
   "metadata": {},
   "source": [
    "'Adding formating your log'\n",
    "'https://docs.python.org/3/library/logging.html'"
   ]
  },
  {
   "cell_type": "code",
   "execution_count": null,
   "metadata": {},
   "outputs": [],
   "source": []
  }
 ],
 "metadata": {
  "kernelspec": {
   "display_name": "Python 3",
   "language": "python",
   "name": "python3"
  },
  "language_info": {
   "codemirror_mode": {
    "name": "ipython",
    "version": 3
   },
   "file_extension": ".py",
   "mimetype": "text/x-python",
   "name": "python",
   "nbconvert_exporter": "python",
   "pygments_lexer": "ipython3",
   "version": "3.8.5"
  }
 },
 "nbformat": 4,
 "nbformat_minor": 4
}
