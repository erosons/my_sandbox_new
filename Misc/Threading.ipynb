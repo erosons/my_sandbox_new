{
 "cells": [
  {
   "cell_type": "code",
   "execution_count": 44,
   "metadata": {},
   "outputs": [
    {
     "name": "stdout",
     "output_type": "stream",
     "text": [
      "time\n"
     ]
    }
   ],
   "source": [
    "import time, datetime, threading\n",
    "\n",
    "def multithread():\n",
    "    print(\"time\")\n",
    "\n",
    "dm=datetime.datetime.now().minute\n",
    "dh=datetime.datetime.now().hour\n",
    "timer=dh+dm   \n",
    "\n",
    "while timer <27:\n",
    "    time.sleep(1)\n",
    "    timer=datetime.datetime.now().hour+datetime.datetime.now().minute\n",
    "\n",
    "     \n",
    "    \n",
    "threadObj = threading.Thread(target=multithread)\n",
    "threadObj.start()"
   ]
  }
 ],
 "metadata": {
  "kernelspec": {
   "display_name": "Python 3",
   "language": "python",
   "name": "python3"
  },
  "language_info": {
   "codemirror_mode": {
    "name": "ipython",
    "version": 3
   },
   "file_extension": ".py",
   "mimetype": "text/x-python",
   "name": "python",
   "nbconvert_exporter": "python",
   "pygments_lexer": "ipython3",
   "version": "3.8.5"
  }
 },
 "nbformat": 4,
 "nbformat_minor": 4
}
