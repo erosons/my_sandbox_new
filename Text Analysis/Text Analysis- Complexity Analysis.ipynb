{
 "cells": [
  {
   "cell_type": "code",
   "execution_count": 1,
   "metadata": {},
   "outputs": [
    {
     "ename": "NameError",
     "evalue": "name 'gazetteers' is not defined",
     "output_type": "error",
     "traceback": [
      "\u001b[0;31m---------------------------------------------------------------------------\u001b[0m",
      "\u001b[0;31mNameError\u001b[0m                                 Traceback (most recent call last)",
      "\u001b[0;32m<ipython-input-1-6ec44d256e68>\u001b[0m in \u001b[0;36m<module>\u001b[0;34m\u001b[0m\n\u001b[1;32m      1\u001b[0m \u001b[0;31m#  Option2\u001b[0m\u001b[0;34m\u001b[0m\u001b[0;34m\u001b[0m\u001b[0;34m\u001b[0m\u001b[0m\n\u001b[1;32m      2\u001b[0m \u001b[0;31m#  This will return the entire text as a string\u001b[0m\u001b[0;34m\u001b[0m\u001b[0;34m\u001b[0m\u001b[0;34m\u001b[0m\u001b[0m\n\u001b[0;32m----> 3\u001b[0;31m \u001b[0mtext\u001b[0m\u001b[0;34m=\u001b[0m\u001b[0mgazetteers\u001b[0m\u001b[0;34m.\u001b[0m\u001b[0mraw\u001b[0m\u001b[0;34m(\u001b[0m\u001b[0;34m'countries.txt'\u001b[0m\u001b[0;34m)\u001b[0m\u001b[0;34m\u001b[0m\u001b[0;34m\u001b[0m\u001b[0m\n\u001b[0m\u001b[1;32m      4\u001b[0m \u001b[0mprint\u001b[0m\u001b[0;34m(\u001b[0m\u001b[0mtext\u001b[0m\u001b[0;34m)\u001b[0m\u001b[0;34m\u001b[0m\u001b[0;34m\u001b[0m\u001b[0m\n",
      "\u001b[0;31mNameError\u001b[0m: name 'gazetteers' is not defined"
     ]
    }
   ],
   "source": [
    "#  Option2\n",
    "#  This will return the entire text as a string\n",
    "text=gazetteers.raw('countries.txt')\n",
    "print(text)"
   ]
  },
  {
   "cell_type": "code",
   "execution_count": 85,
   "metadata": {},
   "outputs": [
    {
     "name": "stdout",
     "output_type": "stream",
     "text": [
      "1\n",
      "403\n",
      "3001\n"
     ]
    }
   ],
   "source": [
    "#  dealing with sentence tokens,words and characters,\n",
    "sentences=nltk.Text(sent_tokenize(text))\n",
    "print(len(sentences))\n",
    "words=nltk.Text(word_tokenize(text))\n",
    "print(len(words))\n",
    "print(len(text))"
   ]
  },
  {
   "cell_type": "code",
   "execution_count": 86,
   "metadata": {},
   "outputs": [
    {
     "name": "stdout",
     "output_type": "stream",
     "text": [
      "10\n",
      "319\n",
      "1467\n",
      "44502\n",
      "2232\n",
      "44024\n",
      "2160\n",
      "32887\n",
      "2004\n",
      "41386\n",
      "1900\n",
      "43979\n",
      "822\n",
      "17256\n",
      "1669\n",
      "43732\n",
      "1332\n",
      "40820\n"
     ]
    }
   ],
   "source": [
    "#  reading all the entire text in corpus.\n",
    "for text in genesis.fileids():\n",
    "    genesis.raw('complexAnalysis.txt')\n",
    "    sentences=nltk.Text(sent_tokenize(genesis.raw(text)))\n",
    "    print(len(sentences))\n",
    "    words=nltk.Text(word_tokenize(genesis.raw(text)))\n",
    "    print(len(words))"
   ]
  },
  {
   "cell_type": "code",
   "execution_count": 99,
   "metadata": {},
   "outputs": [],
   "source": [
    "# Print out unique words from word_tokenize\n",
    "def complex_analysis(text):\n",
    "    vocabs={x.lower() for x in word_tokenize(text)}\n",
    "    print(len(vocabs)) # This returns number of unique words\n",
    "    print(num_chars/len(vocabs))"
   ]
  },
  {
   "cell_type": "code",
   "execution_count": 100,
   "metadata": {},
   "outputs": [
    {
     "name": "stdout",
     "output_type": "stream",
     "text": [
      "307\n",
      "9.775244299674267\n"
     ]
    }
   ],
   "source": [
    "complex_analysis(text)"
   ]
  }
 ],
 "metadata": {
  "kernelspec": {
   "display_name": "Python 3",
   "language": "python",
   "name": "python3"
  },
  "language_info": {
   "codemirror_mode": {
    "name": "ipython",
    "version": 3
   },
   "file_extension": ".py",
   "mimetype": "text/x-python",
   "name": "python",
   "nbconvert_exporter": "python",
   "pygments_lexer": "ipython3",
   "version": "3.8.5"
  }
 },
 "nbformat": 4,
 "nbformat_minor": 4
}
