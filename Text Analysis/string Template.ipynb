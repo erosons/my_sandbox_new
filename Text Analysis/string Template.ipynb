{
 "cells": [
  {
   "cell_type": "code",
   "execution_count": 5,
   "id": "e253fa11",
   "metadata": {},
   "outputs": [
    {
     "data": {
      "text/plain": [
       "'tim likes kung pao'"
      ]
     },
     "execution_count": 5,
     "metadata": {},
     "output_type": "execute_result"
    }
   ],
   "source": [
    "from string import Template\n",
    "\n",
    "s = Template('${who} likes ${what}')\n",
    "\n",
    "s.substitute(who='tim', what='kung pao')"
   ]
  },
  {
   "cell_type": "code",
   "execution_count": 12,
   "id": "cd7d63ec",
   "metadata": {},
   "outputs": [
    {
     "data": {
      "text/plain": [
       "'Give tim $100'"
      ]
     },
     "execution_count": 12,
     "metadata": {},
     "output_type": "execute_result"
    }
   ],
   "source": [
    "# Define a dictionary\n",
    "data = {\n",
    "       \"who\":\"tim\"\n",
    "}\n",
    "\n",
    "Template('Give ${who} $100').safe_substitute(data)"
   ]
  },
  {
   "cell_type": "code",
   "execution_count": 14,
   "id": "a3744085",
   "metadata": {},
   "outputs": [
    {
     "data": {
      "text/plain": [
       "'Give Samson $100'"
      ]
     },
     "execution_count": 14,
     "metadata": {},
     "output_type": "execute_result"
    }
   ],
   "source": [
    "# Define a dictionary\n",
    "data = dict (\n",
    "       who = \"Samson\"\n",
    ")\n",
    "\n",
    "Template('Give ${who} $100').safe_substitute(data)"
   ]
  }
 ],
 "metadata": {
  "kernelspec": {
   "display_name": "Python 3 (ipykernel)",
   "language": "python",
   "name": "python3"
  },
  "language_info": {
   "codemirror_mode": {
    "name": "ipython",
    "version": 3
   },
   "file_extension": ".py",
   "mimetype": "text/x-python",
   "name": "python",
   "nbconvert_exporter": "python",
   "pygments_lexer": "ipython3",
   "version": "3.9.7"
  }
 },
 "nbformat": 4,
 "nbformat_minor": 5
}
