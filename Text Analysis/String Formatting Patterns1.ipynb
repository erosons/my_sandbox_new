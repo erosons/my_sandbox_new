{
 "cells": [
  {
   "cell_type": "code",
   "execution_count": 7,
   "metadata": {},
   "outputs": [
    {
     "name": "stdout",
     "output_type": "stream",
     "text": [
      "Hello       samson there is an 0x1e25bcca error\n"
     ]
    }
   ],
   "source": [
    "#  Old string formatting pattern legacy python codes with operatos\n",
    "\n",
    "# Working with interpolation formatting %\n",
    "\n",
    "Error=505789642\n",
    "name=\"samson\"\n",
    "age=36\n",
    "\n",
    "print(\"Hello %12s there is an 0x%x error\" %(name,Error))\n",
    "\n",
    "# %s--s indicate string see documentaion\n",
    "# %x--s indicate hexadecimal"
   ]
  },
  {
   "cell_type": "code",
   "execution_count": 8,
   "metadata": {},
   "outputs": [
    {
     "name": "stdout",
     "output_type": "stream",
     "text": [
      "Hello samson       there is an 0x1e25bcca error\n"
     ]
    }
   ],
   "source": [
    "# The 12 indicate spacing and -12 indicate right padding\n",
    "print(\"Hello %-12s there is an 0x%x error\" %(name,Error))"
   ]
  },
  {
   "cell_type": "code",
   "execution_count": 9,
   "metadata": {},
   "outputs": [
    {
     "name": "stdout",
     "output_type": "stream",
     "text": [
      "Hello samson       there is an 0x1e25bcca error\n"
     ]
    }
   ],
   "source": [
    "# The 12 indicate spacing and -12 indicate right padding\n",
    "print(\"Hello {0:<12} there is an 0x{1:x} error\".format(name,Error))"
   ]
  },
  {
   "cell_type": "code",
   "execution_count": 10,
   "metadata": {},
   "outputs": [
    {
     "name": "stdout",
     "output_type": "stream",
     "text": [
      "Hello samson there is an 0x1e25bcca error\n"
     ]
    }
   ],
   "source": [
    "# another option for formatting \n",
    "print(\"Hello %(name)s there is an 0x%(error)x error\" %{\"name\":name,\"error\":Error})"
   ]
  },
  {
   "cell_type": "code",
   "execution_count": 12,
   "metadata": {},
   "outputs": [
    {
     "name": "stdout",
     "output_type": "stream",
     "text": [
      "My name is samson,I'am 36\n",
      "My name is Jtestn,I'am 36\n",
      "My name is Jtestn,I'am 36\n",
      "My name is samson, I am 36\n"
     ]
    }
   ],
   "source": [
    "#  Another is String format Method\n",
    "print(\"My name is {fname},I'am {age}\".format(fname=name,age=age))\n",
    "print(\"My name is {0},I'am {1}\".format(\"Jtestn\",36))\n",
    "print(\"My name is {},I'am {}\".format(\"Jtestn\",36))\n",
    "print(f'My name is {name}, I am {age}')"
   ]
  },
  {
   "cell_type": "code",
   "execution_count": 8,
   "metadata": {},
   "outputs": [
    {
     "name": "stdout",
     "output_type": "stream",
     "text": [
      "My name is 240.23,I'am 6.000000\n"
     ]
    }
   ],
   "source": [
    "#  This returns decimal places\n",
    "print(\"My name is {:.2f},I'am {:f}\".format(240.2333,6))"
   ]
  },
  {
   "cell_type": "code",
   "execution_count": 1,
   "metadata": {},
   "outputs": [
    {
     "name": "stdout",
     "output_type": "stream",
     "text": [
      "My percetange 25% is\n"
     ]
    }
   ],
   "source": [
    "# This returns percentage position in one decimal plcae\n",
    "print(\"My percetange {:.0%} is\".format(0.25))"
   ]
  },
  {
   "cell_type": "code",
   "execution_count": 2,
   "metadata": {},
   "outputs": [
    {
     "name": "stdout",
     "output_type": "stream",
     "text": [
      "My percetange25.7% is\n"
     ]
    }
   ],
   "source": [
    "# This returns percentage position\n",
    "print(\"My percetange{:.1%} is\".format(0.257))"
   ]
  }
 ],
 "metadata": {
  "kernelspec": {
   "display_name": "Python 3",
   "language": "python",
   "name": "python3"
  },
  "language_info": {
   "codemirror_mode": {
    "name": "ipython",
    "version": 3
   },
   "file_extension": ".py",
   "mimetype": "text/x-python",
   "name": "python",
   "nbconvert_exporter": "python",
   "pygments_lexer": "ipython3",
   "version": "3.8.5"
  }
 },
 "nbformat": 4,
 "nbformat_minor": 4
}
