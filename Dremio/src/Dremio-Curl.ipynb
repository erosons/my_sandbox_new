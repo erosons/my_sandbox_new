{
 "cells": [
  {
   "cell_type": "code",
   "execution_count": 39,
   "metadata": {},
   "outputs": [],
   "source": [
    "import json\n",
    "jsonfile={\"entityType\":\"space\",\"id\":\"2b4138c1-edd3-4b54-b9d0-821f4acc14ec\",\"name\":\"Mp2-Reporting\",\"tag\":\"CYvRKYoYeBY=\",\"createdAt\":\"2021-04-08T21:13:42.152Z\",\"children\":[{\"id\":\"895289d5-2255-4c0f-a1f3-3d9818f12699\",\"path\":[\"Mp2-Reporting\",\"Accounting\"],\"tag\":\"4Wfiw5r9HJo=\",\"type\":\"CONTAINER\",\"containerType\":\"FOLDER\"},{\"id\":\"c49a7659-019d-4f90-b071-4684851dc742\",\"path\":[\"Mp2-Reporting\",\"Active_Customer_profile\"],\"tag\":\"v2RGS688jOI=\",\"type\":\"CONTAINER\",\"containerType\":\"FOLDER\"},{\"id\":\"f3992039-4cc7-4af5-9efe-fbb8bcdaa64f\",\"path\":[\"Mp2-Reporting\",\"Administrative Reports\"],\"tag\":\"qyRY8An/F1s=\",\"type\":\"CONTAINER\",\"containerType\":\"FOLDER\"},{\"id\":\"75dc0972-63f7-438a-a54a-9e4de033ccf3\",\"path\":[\"Mp2-Reporting\",\"Asset\"],\"tag\":\"N/CFipx2JJc=\",\"type\":\"CONTAINER\",\"containerType\":\"FOLDER\"},{\"id\":\"8b22da0a-687a-4c2e-aaf7-855feac3803c\",\"path\":[\"Mp2-Reporting\",\"Billing\"],\"tag\":\"wn4JRwyhOyQ=\",\"type\":\"CONTAINER\",\"containerType\":\"FOLDER\"},{\"id\":\"0540acfc-8754-46c6-8b6c-fee4d3715bc5\",\"path\":[\"Mp2-Reporting\",\"Contract Admin\"],\"tag\":\"69xlwM1xvnc=\",\"type\":\"CONTAINER\",\"containerType\":\"FOLDER\"},{\"id\":\"3727af1d-b705-4ae5-a8c0-d98df3bc39e0\",\"path\":[\"Mp2-Reporting\",\"Credit\"],\"tag\":\"4C2rdqpRHYc=\",\"type\":\"CONTAINER\",\"containerType\":\"FOLDER\"},{\"id\":\"e95ed193-8382-4c81-8722-cdd841489f53\",\"path\":[\"Mp2-Reporting\",\"Customer List\"],\"tag\":\"++mJR3GbMlM=\",\"type\":\"CONTAINER\",\"containerType\":\"FOLDER\"},{\"id\":\"8808a9be-7199-4147-9f89-1bf6c71efbe7\",\"path\":[\"Mp2-Reporting\",\"Development and Testing\"],\"tag\":\"pQeGkyI+tRI=\",\"type\":\"CONTAINER\",\"containerType\":\"FOLDER\"},{\"id\":\"40320bec-5008-43b9-bb4c-2200e881fd47\",\"path\":[\"Mp2-Reporting\",\"Dremio POC\"],\"tag\":\"tfG+LvZxWTE=\",\"type\":\"CONTAINER\",\"containerType\":\"FOLDER\"},{\"id\":\"8726a69c-4144-43eb-8766-35b2d40d549f\",\"path\":[\"Mp2-Reporting\",\"Executive\"],\"tag\":\"wdDvtedn/ig=\",\"type\":\"CONTAINER\",\"containerType\":\"FOLDER\"},{\"id\":\"ebb2ee51-98ab-46a0-8059-07b18d5338da\",\"path\":[\"Mp2-Reporting\",\"GM_extract\"],\"tag\":\"Qr0QhRtINYc=\",\"type\":\"CONTAINER\",\"containerType\":\"FOLDER\"},{\"id\":\"6b8532f1-69f8-4160-bcc1-de91532aff4a\",\"path\":[\"Mp2-Reporting\",\"IT\"],\"tag\":\"YEbfaajW6Dc=\",\"type\":\"CONTAINER\",\"containerType\":\"FOLDER\"},{\"id\":\"90937688-3e16-43f6-af4b-6562e821bf3a\",\"path\":[\"Mp2-Reporting\",\"Odin KPI Report\"],\"tag\":\"gS6V6bUxZIw=\",\"type\":\"CONTAINER\",\"containerType\":\"FOLDER\"},{\"id\":\"144bb939-ded2-447b-ae4d-62d55d011f3d\",\"path\":[\"Mp2-Reporting\",\"Operations\"],\"tag\":\"s/YCzWzzneo=\",\"type\":\"CONTAINER\",\"containerType\":\"FOLDER\"},{\"id\":\"a2f8c33f-fd28-4020-a810-4c2fbe64435d\",\"path\":[\"Mp2-Reporting\",\"Pricing\"],\"tag\":\"L+zIl2NNKs0=\",\"type\":\"CONTAINER\",\"containerType\":\"FOLDER\"},{\"id\":\"5d34bd3b-0313-4adf-a803-4cfbda1eeb4d\",\"path\":[\"Mp2-Reporting\",\"Project Management\"],\"tag\":\"vwzDj9iNktg=\",\"type\":\"CONTAINER\",\"containerType\":\"FOLDER\"},{\"id\":\"5b96423e-a298-4736-b8d3-5a195959014a\",\"path\":[\"Mp2-Reporting\",\"Quote KPI reports tables\"],\"tag\":\"lECg5ydtudw=\",\"type\":\"CONTAINER\",\"containerType\":\"FOLDER\"},{\"id\":\"fb596e7f-fbb2-4631-aa37-5b9608160c1b\",\"path\":[\"Mp2-Reporting\",\"Regulatory and Compliance\"],\"tag\":\"rf3Dj8wiCzk=\",\"type\":\"CONTAINER\",\"containerType\":\"FOLDER\"},{\"id\":\"029ca5fd-20b8-4fae-b057-d592b7dd0084\",\"path\":[\"Mp2-Reporting\",\"Report UAT\"],\"tag\":\"TMjQris6wUk=\",\"type\":\"CONTAINER\",\"containerType\":\"FOLDER\"},{\"id\":\"d600e766-32a1-46c5-90aa-937817a6199c\",\"path\":[\"Mp2-Reporting\",\"Risk\"],\"tag\":\"vpYbXZ8VN6E=\",\"type\":\"CONTAINER\",\"containerType\":\"FOLDER\"},{\"id\":\"105ee702-cf98-45cf-a040-866f44f14196\",\"path\":[\"Mp2-Reporting\",\"Sales\"],\"tag\":\"Vi0aez62wCY=\",\"type\":\"CONTAINER\",\"containerType\":\"FOLDER\"},{\"id\":\"5d5cc228-0e42-46b0-98b7-7b26ef1f90f7\",\"path\":[\"Mp2-Reporting\",\"Salesforce-View\"],\"tag\":\"duuZTM51LhU=\",\"type\":\"CONTAINER\",\"containerType\":\"FOLDER\"},{\"id\":\"83119a0e-3e15-4108-81a0-b20633c8808b\",\"path\":[\"Mp2-Reporting\",\"Settlements\"],\"tag\":\"JMk0fBbV6NU=\",\"type\":\"CONTAINER\",\"containerType\":\"FOLDER\"},{\"id\":\"28aaef8c-b5db-4a9b-9888-422318f0ccc2\",\"path\":[\"Mp2-Reporting\",\"Solar Team\"],\"tag\":\"tNrDUDUEmeo=\",\"type\":\"CONTAINER\",\"containerType\":\"FOLDER\"}],\"accessControlList\":{}}"
   ]
  },
  {
   "cell_type": "code",
   "execution_count": 41,
   "metadata": {},
   "outputs": [
    {
     "data": {
      "text/plain": [
       "{'entityType': 'space',\n",
       " 'id': '2b4138c1-edd3-4b54-b9d0-821f4acc14ec',\n",
       " 'name': 'Mp2-Reporting',\n",
       " 'tag': 'CYvRKYoYeBY=',\n",
       " 'createdAt': '2021-04-08T21:13:42.152Z',\n",
       " 'children': [{'id': '895289d5-2255-4c0f-a1f3-3d9818f12699',\n",
       "   'path': ['Mp2-Reporting', 'Accounting'],\n",
       "   'tag': '4Wfiw5r9HJo=',\n",
       "   'type': 'CONTAINER',\n",
       "   'containerType': 'FOLDER'},\n",
       "  {'id': 'c49a7659-019d-4f90-b071-4684851dc742',\n",
       "   'path': ['Mp2-Reporting', 'Active_Customer_profile'],\n",
       "   'tag': 'v2RGS688jOI=',\n",
       "   'type': 'CONTAINER',\n",
       "   'containerType': 'FOLDER'},\n",
       "  {'id': 'f3992039-4cc7-4af5-9efe-fbb8bcdaa64f',\n",
       "   'path': ['Mp2-Reporting', 'Administrative Reports'],\n",
       "   'tag': 'qyRY8An/F1s=',\n",
       "   'type': 'CONTAINER',\n",
       "   'containerType': 'FOLDER'},\n",
       "  {'id': '75dc0972-63f7-438a-a54a-9e4de033ccf3',\n",
       "   'path': ['Mp2-Reporting', 'Asset'],\n",
       "   'tag': 'N/CFipx2JJc=',\n",
       "   'type': 'CONTAINER',\n",
       "   'containerType': 'FOLDER'},\n",
       "  {'id': '8b22da0a-687a-4c2e-aaf7-855feac3803c',\n",
       "   'path': ['Mp2-Reporting', 'Billing'],\n",
       "   'tag': 'wn4JRwyhOyQ=',\n",
       "   'type': 'CONTAINER',\n",
       "   'containerType': 'FOLDER'},\n",
       "  {'id': '0540acfc-8754-46c6-8b6c-fee4d3715bc5',\n",
       "   'path': ['Mp2-Reporting', 'Contract Admin'],\n",
       "   'tag': '69xlwM1xvnc=',\n",
       "   'type': 'CONTAINER',\n",
       "   'containerType': 'FOLDER'},\n",
       "  {'id': '3727af1d-b705-4ae5-a8c0-d98df3bc39e0',\n",
       "   'path': ['Mp2-Reporting', 'Credit'],\n",
       "   'tag': '4C2rdqpRHYc=',\n",
       "   'type': 'CONTAINER',\n",
       "   'containerType': 'FOLDER'},\n",
       "  {'id': 'e95ed193-8382-4c81-8722-cdd841489f53',\n",
       "   'path': ['Mp2-Reporting', 'Customer List'],\n",
       "   'tag': '++mJR3GbMlM=',\n",
       "   'type': 'CONTAINER',\n",
       "   'containerType': 'FOLDER'},\n",
       "  {'id': '8808a9be-7199-4147-9f89-1bf6c71efbe7',\n",
       "   'path': ['Mp2-Reporting', 'Development and Testing'],\n",
       "   'tag': 'pQeGkyI+tRI=',\n",
       "   'type': 'CONTAINER',\n",
       "   'containerType': 'FOLDER'},\n",
       "  {'id': '40320bec-5008-43b9-bb4c-2200e881fd47',\n",
       "   'path': ['Mp2-Reporting', 'Dremio POC'],\n",
       "   'tag': 'tfG+LvZxWTE=',\n",
       "   'type': 'CONTAINER',\n",
       "   'containerType': 'FOLDER'},\n",
       "  {'id': '8726a69c-4144-43eb-8766-35b2d40d549f',\n",
       "   'path': ['Mp2-Reporting', 'Executive'],\n",
       "   'tag': 'wdDvtedn/ig=',\n",
       "   'type': 'CONTAINER',\n",
       "   'containerType': 'FOLDER'},\n",
       "  {'id': 'ebb2ee51-98ab-46a0-8059-07b18d5338da',\n",
       "   'path': ['Mp2-Reporting', 'GM_extract'],\n",
       "   'tag': 'Qr0QhRtINYc=',\n",
       "   'type': 'CONTAINER',\n",
       "   'containerType': 'FOLDER'},\n",
       "  {'id': '6b8532f1-69f8-4160-bcc1-de91532aff4a',\n",
       "   'path': ['Mp2-Reporting', 'IT'],\n",
       "   'tag': 'YEbfaajW6Dc=',\n",
       "   'type': 'CONTAINER',\n",
       "   'containerType': 'FOLDER'},\n",
       "  {'id': '90937688-3e16-43f6-af4b-6562e821bf3a',\n",
       "   'path': ['Mp2-Reporting', 'Odin KPI Report'],\n",
       "   'tag': 'gS6V6bUxZIw=',\n",
       "   'type': 'CONTAINER',\n",
       "   'containerType': 'FOLDER'},\n",
       "  {'id': '144bb939-ded2-447b-ae4d-62d55d011f3d',\n",
       "   'path': ['Mp2-Reporting', 'Operations'],\n",
       "   'tag': 's/YCzWzzneo=',\n",
       "   'type': 'CONTAINER',\n",
       "   'containerType': 'FOLDER'},\n",
       "  {'id': 'a2f8c33f-fd28-4020-a810-4c2fbe64435d',\n",
       "   'path': ['Mp2-Reporting', 'Pricing'],\n",
       "   'tag': 'L+zIl2NNKs0=',\n",
       "   'type': 'CONTAINER',\n",
       "   'containerType': 'FOLDER'},\n",
       "  {'id': '5d34bd3b-0313-4adf-a803-4cfbda1eeb4d',\n",
       "   'path': ['Mp2-Reporting', 'Project Management'],\n",
       "   'tag': 'vwzDj9iNktg=',\n",
       "   'type': 'CONTAINER',\n",
       "   'containerType': 'FOLDER'},\n",
       "  {'id': '5b96423e-a298-4736-b8d3-5a195959014a',\n",
       "   'path': ['Mp2-Reporting', 'Quote KPI reports tables'],\n",
       "   'tag': 'lECg5ydtudw=',\n",
       "   'type': 'CONTAINER',\n",
       "   'containerType': 'FOLDER'},\n",
       "  {'id': 'fb596e7f-fbb2-4631-aa37-5b9608160c1b',\n",
       "   'path': ['Mp2-Reporting', 'Regulatory and Compliance'],\n",
       "   'tag': 'rf3Dj8wiCzk=',\n",
       "   'type': 'CONTAINER',\n",
       "   'containerType': 'FOLDER'},\n",
       "  {'id': '029ca5fd-20b8-4fae-b057-d592b7dd0084',\n",
       "   'path': ['Mp2-Reporting', 'Report UAT'],\n",
       "   'tag': 'TMjQris6wUk=',\n",
       "   'type': 'CONTAINER',\n",
       "   'containerType': 'FOLDER'},\n",
       "  {'id': 'd600e766-32a1-46c5-90aa-937817a6199c',\n",
       "   'path': ['Mp2-Reporting', 'Risk'],\n",
       "   'tag': 'vpYbXZ8VN6E=',\n",
       "   'type': 'CONTAINER',\n",
       "   'containerType': 'FOLDER'},\n",
       "  {'id': '105ee702-cf98-45cf-a040-866f44f14196',\n",
       "   'path': ['Mp2-Reporting', 'Sales'],\n",
       "   'tag': 'Vi0aez62wCY=',\n",
       "   'type': 'CONTAINER',\n",
       "   'containerType': 'FOLDER'},\n",
       "  {'id': '5d5cc228-0e42-46b0-98b7-7b26ef1f90f7',\n",
       "   'path': ['Mp2-Reporting', 'Salesforce-View'],\n",
       "   'tag': 'duuZTM51LhU=',\n",
       "   'type': 'CONTAINER',\n",
       "   'containerType': 'FOLDER'},\n",
       "  {'id': '83119a0e-3e15-4108-81a0-b20633c8808b',\n",
       "   'path': ['Mp2-Reporting', 'Settlements'],\n",
       "   'tag': 'JMk0fBbV6NU=',\n",
       "   'type': 'CONTAINER',\n",
       "   'containerType': 'FOLDER'},\n",
       "  {'id': '28aaef8c-b5db-4a9b-9888-422318f0ccc2',\n",
       "   'path': ['Mp2-Reporting', 'Solar Team'],\n",
       "   'tag': 'tNrDUDUEmeo=',\n",
       "   'type': 'CONTAINER',\n",
       "   'containerType': 'FOLDER'}],\n",
       " 'accessControlList': {}}"
      ]
     },
     "execution_count": 41,
     "metadata": {},
     "output_type": "execute_result"
    }
   ],
   "source": [
    "jsonfile"
   ]
  },
  {
   "cell_type": "code",
   "execution_count": 37,
   "metadata": {},
   "outputs": [
    {
     "ename": "SyntaxError",
     "evalue": "unexpected EOF while parsing (<ipython-input-37-e81b85e7a040>, line 4)",
     "output_type": "error",
     "traceback": [
      "\u001b[0;36m  File \u001b[0;32m\"<ipython-input-37-e81b85e7a040>\"\u001b[0;36m, line \u001b[0;32m4\u001b[0m\n\u001b[0;31m    \u001b[0m\n\u001b[0m    ^\u001b[0m\n\u001b[0;31mSyntaxError\u001b[0m\u001b[0;31m:\u001b[0m unexpected EOF while parsing\n"
     ]
    }
   ],
   "source": [
    "while len(jsonfile['data'])!=0:\n",
    "    for items in jsonfile['data']:\n",
    "        print(items)\n",
    "    \n",
    "    \n",
    "    \n"
   ]
  },
  {
   "cell_type": "code",
   "execution_count": 27,
   "metadata": {},
   "outputs": [
    {
     "data": {
      "text/plain": [
       "{'Name': '5a7de845-3f8e-4e99-ab8c-ca7d5a9e3208'}"
      ]
     },
     "execution_count": 27,
     "metadata": {},
     "output_type": "execute_result"
    }
   ],
   "source": [
    "source_and_ids"
   ]
  },
  {
   "cell_type": "code",
   "execution_count": 12,
   "metadata": {},
   "outputs": [
    {
     "name": "stdout",
     "output_type": "stream",
     "text": [
      " Value 5 found \n"
     ]
    }
   ],
   "source": [
    "mylist=[1,2,3,4,5,6,7]\n",
    "\n",
    "def serachList(list_to_serach,value,index):\n",
    "    \n",
    "    if list_to_serach[index]==value:\n",
    "        return print(f' Value {value} found ')\n",
    "    else:\n",
    "        serachList(list_to_serach,value,index+1)\n",
    "\n",
    "\n",
    "\n",
    "serachList(mylist,5,0)\n",
    "\n",
    "        \n",
    "\n"
   ]
  },
  {
   "cell_type": "code",
   "execution_count": null,
   "metadata": {},
   "outputs": [],
   "source": []
  }
 ],
 "metadata": {
  "kernelspec": {
   "display_name": "Python 3",
   "language": "python",
   "name": "python3"
  },
  "language_info": {
   "codemirror_mode": {
    "name": "ipython",
    "version": 3
   },
   "file_extension": ".py",
   "mimetype": "text/x-python",
   "name": "python",
   "nbconvert_exporter": "python",
   "pygments_lexer": "ipython3",
   "version": "3.10.0"
  },
  "vscode": {
   "interpreter": {
    "hash": "aee8b7b246df8f9039afb4144a1f6fd8d2ca17a180786b69acc140d282b71a49"
   }
  }
 },
 "nbformat": 4,
 "nbformat_minor": 4
}
