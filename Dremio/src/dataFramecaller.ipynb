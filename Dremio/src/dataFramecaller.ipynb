{
 "cells": [
  {
   "cell_type": "code",
   "execution_count": 14,
   "metadata": {},
   "outputs": [],
   "source": [
    "import pandas as pd\n",
    "import pyodbc\n",
    "import logging\n",
    "\n",
    "\n",
    "\n",
    "def conn_util():\n",
    "    try:\n",
    "        host = ''\n",
    "        port = '31010'\n",
    "        uid = 'Sm'\n",
    "        pwsd = ''\n",
    "        driver = '/Library/Dremio/ODBC/lib/libdrillodbc_sbu.dylib'\n",
    "        #driver='/usr/local/lib/libdrillodbc_sbu.dylib'\n",
    "        cnxn = pyodbc.connect(\"Driver={};ConnectionType=Direct;HOST={};PORT={};AuthenticationType=Plain;UID={};PWD={}\".format(\n",
    "        driver, host, port, uid, pwsd), autocommit=True)\n",
    "\n",
    "        return cnxn\n",
    "\n",
    "    except:\n",
    "        logging.debug(\"check connection variable\")\n",
    "        \n",
    "local_filename= \"consumer_acount.csv\"\n",
    "sql= \"\"\"\n",
    "     Select * from \"Mp2-Reporting\".\"Salesforce-View\".Account.Consumer.\"account_customer\"\n",
    "     \"\"\"\n",
    "        \n",
    "def dataFramecaller():\n",
    "    try:\n",
    "        data = pd.read_sql(sql, conn_util())\n",
    "        data.to_csv(local_filename, index=True)\n",
    "        return logging.info(\"csv file extract was successful\")\n",
    "\n",
    "    except ValueError as v:\n",
    "\n",
    "        logging.debug(\"Index contains duplicate entries, cannot reshape\", v)\n",
    "        \n",
    "#if __name__ == '__main__':\n",
    "   dataFramecaller()"
   ]
  },
  {
   "cell_type": "code",
   "execution_count": 15,
   "metadata": {},
   "outputs": [],
   "source": [
    "dataFramecaller()"
   ]
  }
 ],
 "metadata": {
  "kernelspec": {
   "display_name": "Python 3",
   "language": "python",
   "name": "python3"
  },
  "language_info": {
   "codemirror_mode": {
    "name": "ipython",
    "version": 3
   },
   "file_extension": ".py",
   "mimetype": "text/x-python",
   "name": "python",
   "nbconvert_exporter": "python",
   "pygments_lexer": "ipython3",
   "version": "3.10.4 (v3.10.4:9d38120e33, Mar 23 2022, 17:29:05) [Clang 13.0.0 (clang-1300.0.29.30)]"
  },
  "vscode": {
   "interpreter": {
    "hash": "7e1998ff7f8aa20ada591c520b972326324e5ea05489af9e422744c7c09f6dad"
   }
  }
 },
 "nbformat": 4,
 "nbformat_minor": 4
}
