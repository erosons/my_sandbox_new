{
 "cells": [
  {
   "cell_type": "code",
   "execution_count": 3,
   "metadata": {},
   "outputs": [],
   "source": [
    "import json\n",
    "import requests\n",
    "import os\n",
    "import logging\n"
   ]
  },
  {
   "cell_type": "code",
   "execution_count": 4,
   "metadata": {},
   "outputs": [],
   "source": [
    "\n",
    "def apiGet(endpoint):\n",
    "    return json.loads(requests.get('{server}/api/v3/{endpoint}'.format(server=dremioServer, endpoint=endpoint), headers=headers).text)\n",
    "\n",
    "def apiPost(endpoint, body=None):\n",
    "    text = requests.post('{server}/api/v3/{endpoint}'.format(server=dremioServer, endpoint=endpoint), headers=headers, data=json.dumps(body)).text\n",
    "\n",
    "  # a post may return no data\n",
    "    if (text):\n",
    "        return json.loads(text)\n",
    "    else:\n",
    "        return None\n",
    "\n",
    "def apiPut(endpoint, body=None):\n",
    "    return requests.put('{server}/api/v3/{endpoint}'.format(server=dremioServer, endpoint=endpoint), headers=headers, data=json.dumps(body)).text\n",
    "\n",
    "def apiDelete(endpoint):\n",
    "    return requests.delete('{server}/api/v3/{endpoint}'.format(server=dremioServer, endpoint=endpoint), headers=headers)\n"
   ]
  },
  {
   "cell_type": "code",
   "execution_count": 5,
   "metadata": {},
   "outputs": [
    {
     "name": "stderr",
     "output_type": "stream",
     "text": [
      "2022-04-13 22:28:27,993-dremioAPIcaller -DEBUG-check your connection settings\n"
     ]
    }
   ],
   "source": [
    "userprofile={\n",
    "    \"user\":\"name\"\n",
    "}\n",
    "\n",
    "logger =logging.getLogger('dremioAPIcaller')\n",
    "logger.setLevel(logging.DEBUG)\n",
    "\n",
    "ch=logging.StreamHandler()\n",
    "ch.setLevel(logging.DEBUG)\n",
    "\n",
    "formatter =logging.Formatter('%(asctime)s-%(name)s -%(levelname)s-%(message)s')\n",
    "\n",
    "ch.setFormatter(formatter)\n",
    "\n",
    "logger.addHandler(ch)\n",
    "\n",
    "\n",
    "username = os.getenv('username')\n",
    "password = os.getenv('username')\n",
    "headers = {'content-type':'application/json'}\n",
    "dremioServer = os.getenv('dremioUrl:9047')\n",
    "\n",
    "\n",
    "def login_token(username, password):\n",
    "    \"\"\"\n",
    "    This will return login  authorizationlogin header\n",
    "    :param usrname => this is user login id\n",
    "    :param => pasword \n",
    "    \"\"\"\n",
    "    try:\n",
    "        loginData = {'userName': username, 'password': password}\n",
    "        response = requests.post('http://{}/apiv2/login'.format(dremioServer), headers=headers, data=json.dumps(loginData))\n",
    "        data = json.loads(response.text)\n",
    "        \n",
    "        # retrieve the login token\n",
    "        token = data['token']\n",
    "        print(token)\n",
    "        return {'content-type':'application/json', 'authorization':'_dremio{authToken}'.format(authToken=token)}\n",
    "    except:\n",
    "        logger.debug('check your connection settings')\n",
    "        \n",
    "headers =login_token(username, password)"
   ]
  },
  {
   "cell_type": "code",
   "execution_count": null,
   "metadata": {},
   "outputs": [],
   "source": [
    "def apiGet(endpoint):\n",
    "    \"\"\"\n",
    "     Getting Dremio Catalog indo in json \n",
    "     :params endpoint \n",
    "    \"\"\"\n",
    "    try:\n",
    "        payload = \"\"\n",
    "        request_response = requests.request(\"GET\", 'http://{server}/api/v3/{endpoint}'.format(server=dremioServer, endpoint=endpoint), data=payload, headers=headers)\n",
    "        logging.info(\"{}{}\".format(error_message,request_response.status_code))\n",
    "        \n",
    "        return  request_response.text\n",
    "    \n",
    "    except:\n",
    "        error_message='Your connection failed due'\n",
    "          \n",
    "            \n",
    "            \n",
    "if __name__ == '__main__':\n",
    "    login_token(username, password)\n",
    "    responsefile=apiGet('reflection/1dc3073e-ec76-eaac-992a-600c0719cc00')\n",
    "    json.load(responsefile)"
   ]
  },
  {
   "cell_type": "code",
   "execution_count": null,
   "metadata": {},
   "outputs": [],
   "source": [
    "\"\"\"\n",
    "Post SQL Query \n",
    "\"\"\"\n",
    "def querySQL(query):\n",
    "  queryResponse = apiPost('sql', body={'sql': query})\n",
    "  jobid = queryResponse['id']\n",
    "  return jobid\n",
    "\n",
    "path = ['\\\"@elbert\\\"', 'wta', 'matches']\n",
    "path = '.'.join([str(x) for x in path])\n",
    "query = \"SELECT * FROM {source} WHERE winner_name = 'Serena Williams' or loser_name = 'Serena Williams'\".format(source=path)\n",
    "jobid = querySQL(query)"
   ]
  }
 ],
 "metadata": {
  "kernelspec": {
   "display_name": "Python 3",
   "language": "python",
   "name": "python3"
  },
  "language_info": {
   "codemirror_mode": {
    "name": "ipython",
    "version": 3
   },
   "file_extension": ".py",
   "mimetype": "text/x-python",
   "name": "python",
   "nbconvert_exporter": "python",
   "pygments_lexer": "ipython3",
   "version": "3.10.2"
  }
 },
 "nbformat": 4,
 "nbformat_minor": 4
}
