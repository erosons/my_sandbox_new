{
 "cells": [
  {
   "cell_type": "code",
   "execution_count": 6,
   "metadata": {},
   "outputs": [],
   "source": [
    "import pyodbc\n",
    "import pandas as pd\n",
    "import boto3\n",
    "from botocore.exceptions import ClientError\n",
    "import logging\n",
    "\n",
    "\n",
    "sql = \"\"\"SELECT * FROM \"Mp2-Reporting\".\"Customer List\".\"odin_Customer_list_extract\".\"unpivot passthrough\" \"\"\"\n",
    "\n",
    "local_filename = \"passthrough_pivot.csv\"\n",
    "\n",
    "s3_file = local_filename\n",
    "\n",
    "bucketName = \"prod-smt-data-cache\"\n",
    "\n",
    "\n",
    "logging.basicConfig(filename='new.log', filemode='w', level=logging.DEBUG,\n",
    "                    format='%(asctime)s:%(levelname)s:%(message)s')\n",
    "\n",
    "\n",
    "\n",
    "def conn_util():\n",
    "    try:\n",
    "        host = ''\n",
    "        port = '31010'\n",
    "        uid = ''\n",
    "        pwsd = ''\n",
    "        driver = '/Library/Dremio/ODBC/lib/libdrillodbc_sbu.dylib'\n",
    "        #driver='/usr/local/lib/libdrillodbc_sbu.dylib'\n",
    "        cnxn = pyodbc.connect(\"Driver={};ConnectionType=Direct;HOST={};PORT={};AuthenticationType=Plain;UID={};PWD={}\".format(\n",
    "        driver, host, port, uid, pwsd), autocommit=True)\n",
    "\n",
    "        return cnxn\n",
    "\n",
    "    except:\n",
    "        logging.debug(\"check connection variable\")\n",
    "\n",
    "\n",
    "def pivotCaller():\n",
    "    try:\n",
    "        data = pd.read_sql(sql, conn_util())\n",
    "        data['values'] = 1\n",
    "        data = data.pivot(index='id', columns='Passthroughs', values='values')\n",
    "        data = data.fillna(0)\n",
    "        data.to_csv(local_filename, index=True)\n",
    "        return logging.info(\"csv file extract was successful\")\n",
    "\n",
    "    except ValueError as v:\n",
    "\n",
    "        logging.debug(\"Index contains duplicate entries, cannot reshape\", v)\n",
    "\n"
   ]
  }
 ],
 "metadata": {
  "kernelspec": {
   "display_name": "Python 3",
   "language": "python",
   "name": "python3"
  },
  "language_info": {
   "codemirror_mode": {
    "name": "ipython",
    "version": 3
   },
   "file_extension": ".py",
   "mimetype": "text/x-python",
   "name": "python",
   "nbconvert_exporter": "python",
   "pygments_lexer": "ipython3",
   "version": "3.8.5"
  }
 },
 "nbformat": 4,
 "nbformat_minor": 4
}
